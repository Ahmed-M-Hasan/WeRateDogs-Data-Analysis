{
 "cells": [
  {
   "cell_type": "markdown",
   "metadata": {},
   "source": [
    "# Project: WeRateDogs Data Wrangling and Analysis Project \n",
    "\n",
    "## Table of Contents\n",
    "<ul>\n",
    "<li><a href=\"#intro\">1 Introduction</a></li>   \n",
    "<li><a href=\"#wrangling\">2 Data Wrangling</a></li>\n",
    "    <ul>\n",
    "        <li><a href = \"#flatfile\">2.1 Data Importing from Manually Downloaded Flat File</a> </li>\n",
    "        <li><a href = \"#tweepy\">2.2 Data Importing Using tweepy</a> </li>\n",
    "        <ul>\n",
    "            <li> <a href = \"#jsonfile\">2.2.1 Query Twitter API</a> </li>\n",
    "            <li> <a href = \"#txtfile\">2.2.2 Loading Query Output into DataFrame</a> </li>\n",
    "        </ul>\n",
    "        <li><a href = \"#request\">2.3 Data Importing Using Programmatically Downloaded File</a> </li>\n",
    "    </ul>\n",
    "<li><a href=\"#assess\">3 Data Assessing</a></li>\n",
    "    <ul>\n",
    "        <li><a href = \"#Tarchive\">3.1 Twitter Archive Dataframe</a> </li>\n",
    "        <li><a href = \"#Teval\">3.2 Tweets Evaluation Dataframe</a> </li>\n",
    "        <li><a href = \"#Tann\">3.3 Image Prediction Dataframe</a> </li>\n",
    "        <li><a href = \"#AssessSummary\">3.4 Issues Summary</a> </li>\n",
    "    </ul>\n",
    "<li><a href=\"#clean\">4 Data Cleaning</a></li>\n",
    "<li><a href=\"#save\">5 Data Storing</a></li>    \n",
    "<li><a href=\"#analysis\">6 Data Analysis</a></li>   \n",
    "    <ul>\n",
    "        <li><a href = \"#analysis_activity\">6.1 Monthly Twitter Account Activity</a> </li>\n",
    "        <li><a href = \"#analysis_image\">6.2 Number of Images per Tweet</a> </li>\n",
    "        <li><a href = \"#analysis_stage\">6.3 Dog Stage</a> </li>\n",
    "        <li><a href = \"#analysis_breed\">6.4 Dog Breed</a> </li>\n",
    "    </ul>\n",
    "<li><a href=\"#conclusion\">7 Conclusions</a></li>   \n",
    "</ul>"
   ]
  },
  {
   "cell_type": "markdown",
   "metadata": {},
   "source": [
    "<a id='intro'></a>\n",
    "## 1 Introduction\n",
    "This project is part of Udacity Data Analyst Nano-Degree. The project provide hands-on experience on a typical ETL operation where data is collected from various sources with different methods. Then, the data is assesed and the issues detected are resolved. After that, the final data set is stored in a database. Finally, the final clean data set is analyzed to reach insights supported with visuals using Pandas and Matplotlib."
   ]
  },
  {
   "cell_type": "code",
   "execution_count": 1,
   "metadata": {},
   "outputs": [],
   "source": [
    "import pandas as pd\n",
    "import numpy as np\n",
    "import requests\n",
    "import tweepy\n",
    "import json\n",
    "import matplotlib.pyplot as plt\n",
    "import seaborn as sns\n",
    "import os\n",
    "import re\n",
    "import warnings\n",
    "import datetime\n",
    "from sqlalchemy import create_engine\n",
    "from matplotlib import dates as mpl_dates\n",
    "from matplotlib import rcParams\n",
    "warnings.simplefilter('ignore')\n",
    "%matplotlib inline\n",
    "pd.set_option('display.max_colwidth', -1)"
   ]
  },
  {
   "cell_type": "markdown",
   "metadata": {},
   "source": [
    "<a id='wrangling'></a>\n",
    "## 2 Data Wrangling\n",
    "Data form three different resources are wrangled and loaded into Pandas dataframes. The three data gathering techniques used in this project are:\n",
    "- Manually downloded flat files\n",
    "- Query Twitter API using tweepy library\n",
    "- Programatically downloaded file using requests library"
   ]
  },
  {
   "cell_type": "markdown",
   "metadata": {},
   "source": [
    "<a id='flatfile'></a>\n",
    "### 2.1 Data Importing from Manually Downloaded Flat File\n",
    "the main WeRateDogs twitter account archive is provided as a flat file. The file is manually downloaded in form of `CSV` file (i.e. `twitter-archive-enhanced.csv`). The archive is imported into dataframe `twitter_archive` using pandas `read_csv` function"
   ]
  },
  {
   "cell_type": "code",
   "execution_count": 2,
   "metadata": {},
   "outputs": [
    {
     "data": {
      "text/html": [
       "<div>\n",
       "<style scoped>\n",
       "    .dataframe tbody tr th:only-of-type {\n",
       "        vertical-align: middle;\n",
       "    }\n",
       "\n",
       "    .dataframe tbody tr th {\n",
       "        vertical-align: top;\n",
       "    }\n",
       "\n",
       "    .dataframe thead th {\n",
       "        text-align: right;\n",
       "    }\n",
       "</style>\n",
       "<table border=\"1\" class=\"dataframe\">\n",
       "  <thead>\n",
       "    <tr style=\"text-align: right;\">\n",
       "      <th></th>\n",
       "      <th>tweet_id</th>\n",
       "      <th>in_reply_to_status_id</th>\n",
       "      <th>in_reply_to_user_id</th>\n",
       "      <th>timestamp</th>\n",
       "      <th>source</th>\n",
       "      <th>text</th>\n",
       "      <th>retweeted_status_id</th>\n",
       "      <th>retweeted_status_user_id</th>\n",
       "      <th>retweeted_status_timestamp</th>\n",
       "      <th>expanded_urls</th>\n",
       "      <th>rating_numerator</th>\n",
       "      <th>rating_denominator</th>\n",
       "      <th>name</th>\n",
       "      <th>doggo</th>\n",
       "      <th>floofer</th>\n",
       "      <th>pupper</th>\n",
       "      <th>puppo</th>\n",
       "    </tr>\n",
       "  </thead>\n",
       "  <tbody>\n",
       "    <tr>\n",
       "      <th>0</th>\n",
       "      <td>892420643555336193</td>\n",
       "      <td>NaN</td>\n",
       "      <td>NaN</td>\n",
       "      <td>2017-08-01 16:23:56 +0000</td>\n",
       "      <td>&lt;a href=\"http://twitter.com/download/iphone\" rel=\"nofollow\"&gt;Twitter for iPhone&lt;/a&gt;</td>\n",
       "      <td>This is Phineas. He's a mystical boy. Only ever appears in the hole of a donut. 13/10 https://t.co/MgUWQ76dJU</td>\n",
       "      <td>NaN</td>\n",
       "      <td>NaN</td>\n",
       "      <td>NaN</td>\n",
       "      <td>https://twitter.com/dog_rates/status/892420643555336193/photo/1</td>\n",
       "      <td>13</td>\n",
       "      <td>10</td>\n",
       "      <td>Phineas</td>\n",
       "      <td>None</td>\n",
       "      <td>None</td>\n",
       "      <td>None</td>\n",
       "      <td>None</td>\n",
       "    </tr>\n",
       "    <tr>\n",
       "      <th>1</th>\n",
       "      <td>892177421306343426</td>\n",
       "      <td>NaN</td>\n",
       "      <td>NaN</td>\n",
       "      <td>2017-08-01 00:17:27 +0000</td>\n",
       "      <td>&lt;a href=\"http://twitter.com/download/iphone\" rel=\"nofollow\"&gt;Twitter for iPhone&lt;/a&gt;</td>\n",
       "      <td>This is Tilly. She's just checking pup on you. Hopes you're doing ok. If not, she's available for pats, snugs, boops, the whole bit. 13/10 https://t.co/0Xxu71qeIV</td>\n",
       "      <td>NaN</td>\n",
       "      <td>NaN</td>\n",
       "      <td>NaN</td>\n",
       "      <td>https://twitter.com/dog_rates/status/892177421306343426/photo/1</td>\n",
       "      <td>13</td>\n",
       "      <td>10</td>\n",
       "      <td>Tilly</td>\n",
       "      <td>None</td>\n",
       "      <td>None</td>\n",
       "      <td>None</td>\n",
       "      <td>None</td>\n",
       "    </tr>\n",
       "    <tr>\n",
       "      <th>2</th>\n",
       "      <td>891815181378084864</td>\n",
       "      <td>NaN</td>\n",
       "      <td>NaN</td>\n",
       "      <td>2017-07-31 00:18:03 +0000</td>\n",
       "      <td>&lt;a href=\"http://twitter.com/download/iphone\" rel=\"nofollow\"&gt;Twitter for iPhone&lt;/a&gt;</td>\n",
       "      <td>This is Archie. He is a rare Norwegian Pouncing Corgo. Lives in the tall grass. You never know when one may strike. 12/10 https://t.co/wUnZnhtVJB</td>\n",
       "      <td>NaN</td>\n",
       "      <td>NaN</td>\n",
       "      <td>NaN</td>\n",
       "      <td>https://twitter.com/dog_rates/status/891815181378084864/photo/1</td>\n",
       "      <td>12</td>\n",
       "      <td>10</td>\n",
       "      <td>Archie</td>\n",
       "      <td>None</td>\n",
       "      <td>None</td>\n",
       "      <td>None</td>\n",
       "      <td>None</td>\n",
       "    </tr>\n",
       "    <tr>\n",
       "      <th>3</th>\n",
       "      <td>891689557279858688</td>\n",
       "      <td>NaN</td>\n",
       "      <td>NaN</td>\n",
       "      <td>2017-07-30 15:58:51 +0000</td>\n",
       "      <td>&lt;a href=\"http://twitter.com/download/iphone\" rel=\"nofollow\"&gt;Twitter for iPhone&lt;/a&gt;</td>\n",
       "      <td>This is Darla. She commenced a snooze mid meal. 13/10 happens to the best of us https://t.co/tD36da7qLQ</td>\n",
       "      <td>NaN</td>\n",
       "      <td>NaN</td>\n",
       "      <td>NaN</td>\n",
       "      <td>https://twitter.com/dog_rates/status/891689557279858688/photo/1</td>\n",
       "      <td>13</td>\n",
       "      <td>10</td>\n",
       "      <td>Darla</td>\n",
       "      <td>None</td>\n",
       "      <td>None</td>\n",
       "      <td>None</td>\n",
       "      <td>None</td>\n",
       "    </tr>\n",
       "    <tr>\n",
       "      <th>4</th>\n",
       "      <td>891327558926688256</td>\n",
       "      <td>NaN</td>\n",
       "      <td>NaN</td>\n",
       "      <td>2017-07-29 16:00:24 +0000</td>\n",
       "      <td>&lt;a href=\"http://twitter.com/download/iphone\" rel=\"nofollow\"&gt;Twitter for iPhone&lt;/a&gt;</td>\n",
       "      <td>This is Franklin. He would like you to stop calling him \"cute.\" He is a very fierce shark and should be respected as such. 12/10 #BarkWeek https://t.co/AtUZn91f7f</td>\n",
       "      <td>NaN</td>\n",
       "      <td>NaN</td>\n",
       "      <td>NaN</td>\n",
       "      <td>https://twitter.com/dog_rates/status/891327558926688256/photo/1,https://twitter.com/dog_rates/status/891327558926688256/photo/1</td>\n",
       "      <td>12</td>\n",
       "      <td>10</td>\n",
       "      <td>Franklin</td>\n",
       "      <td>None</td>\n",
       "      <td>None</td>\n",
       "      <td>None</td>\n",
       "      <td>None</td>\n",
       "    </tr>\n",
       "  </tbody>\n",
       "</table>\n",
       "</div>"
      ],
      "text/plain": [
       "             tweet_id  in_reply_to_status_id  in_reply_to_user_id  \\\n",
       "0  892420643555336193 NaN                    NaN                    \n",
       "1  892177421306343426 NaN                    NaN                    \n",
       "2  891815181378084864 NaN                    NaN                    \n",
       "3  891689557279858688 NaN                    NaN                    \n",
       "4  891327558926688256 NaN                    NaN                    \n",
       "\n",
       "                   timestamp  \\\n",
       "0  2017-08-01 16:23:56 +0000   \n",
       "1  2017-08-01 00:17:27 +0000   \n",
       "2  2017-07-31 00:18:03 +0000   \n",
       "3  2017-07-30 15:58:51 +0000   \n",
       "4  2017-07-29 16:00:24 +0000   \n",
       "\n",
       "                                                                               source  \\\n",
       "0  <a href=\"http://twitter.com/download/iphone\" rel=\"nofollow\">Twitter for iPhone</a>   \n",
       "1  <a href=\"http://twitter.com/download/iphone\" rel=\"nofollow\">Twitter for iPhone</a>   \n",
       "2  <a href=\"http://twitter.com/download/iphone\" rel=\"nofollow\">Twitter for iPhone</a>   \n",
       "3  <a href=\"http://twitter.com/download/iphone\" rel=\"nofollow\">Twitter for iPhone</a>   \n",
       "4  <a href=\"http://twitter.com/download/iphone\" rel=\"nofollow\">Twitter for iPhone</a>   \n",
       "\n",
       "                                                                                                                                                                 text  \\\n",
       "0  This is Phineas. He's a mystical boy. Only ever appears in the hole of a donut. 13/10 https://t.co/MgUWQ76dJU                                                        \n",
       "1  This is Tilly. She's just checking pup on you. Hopes you're doing ok. If not, she's available for pats, snugs, boops, the whole bit. 13/10 https://t.co/0Xxu71qeIV   \n",
       "2  This is Archie. He is a rare Norwegian Pouncing Corgo. Lives in the tall grass. You never know when one may strike. 12/10 https://t.co/wUnZnhtVJB                    \n",
       "3  This is Darla. She commenced a snooze mid meal. 13/10 happens to the best of us https://t.co/tD36da7qLQ                                                              \n",
       "4  This is Franklin. He would like you to stop calling him \"cute.\" He is a very fierce shark and should be respected as such. 12/10 #BarkWeek https://t.co/AtUZn91f7f   \n",
       "\n",
       "   retweeted_status_id  retweeted_status_user_id retweeted_status_timestamp  \\\n",
       "0 NaN                  NaN                        NaN                         \n",
       "1 NaN                  NaN                        NaN                         \n",
       "2 NaN                  NaN                        NaN                         \n",
       "3 NaN                  NaN                        NaN                         \n",
       "4 NaN                  NaN                        NaN                         \n",
       "\n",
       "                                                                                                                     expanded_urls  \\\n",
       "0  https://twitter.com/dog_rates/status/892420643555336193/photo/1                                                                   \n",
       "1  https://twitter.com/dog_rates/status/892177421306343426/photo/1                                                                   \n",
       "2  https://twitter.com/dog_rates/status/891815181378084864/photo/1                                                                   \n",
       "3  https://twitter.com/dog_rates/status/891689557279858688/photo/1                                                                   \n",
       "4  https://twitter.com/dog_rates/status/891327558926688256/photo/1,https://twitter.com/dog_rates/status/891327558926688256/photo/1   \n",
       "\n",
       "   rating_numerator  rating_denominator      name doggo floofer pupper puppo  \n",
       "0  13                10                  Phineas   None  None    None   None  \n",
       "1  13                10                  Tilly     None  None    None   None  \n",
       "2  12                10                  Archie    None  None    None   None  \n",
       "3  13                10                  Darla     None  None    None   None  \n",
       "4  12                10                  Franklin  None  None    None   None  "
      ]
     },
     "execution_count": 2,
     "metadata": {},
     "output_type": "execute_result"
    }
   ],
   "source": [
    "twitter_archive = pd.read_csv('twitter-archive-enhanced.csv')\n",
    "twitter_archive.head()"
   ]
  },
  {
   "cell_type": "markdown",
   "metadata": {},
   "source": [
    "<a id='tweepy'></a>\n",
    "### 2.2 Data Importing Using tweepy\n",
    "the following cell represent the code for using tweepy (Twitter API) for collecting rest of tweets data for tweets with the `tweet_id` in the `tweet_archive` dataframe. the data acquired is then written on a (`txt`) data file which is later read and loaded into `pandas` dataframe"
   ]
  },
  {
   "cell_type": "markdown",
   "metadata": {},
   "source": [
    "<a id='txtfile'></a>\n",
    "#### 2.2.1 Query Twitter API\n",
    "Using the field `tweet_id` the Twitter API is queried to load the entire tweet `JSON` file. The queried `JSON` files are then saved into a text file `tweet_json.txt` file."
   ]
  },
  {
   "cell_type": "code",
   "execution_count": null,
   "metadata": {},
   "outputs": [],
   "source": [
    "try:\n",
    "    eval('consumer_key =')\n",
    "    #consumer_secret = \n",
    "   # access_token = \n",
    "   # access_secret =\n",
    "\n",
    "    # setting the tweepy api object\n",
    "    auth = OAuthHandler(consumer_key, consumer_secret)\n",
    "    auth.set_access_token(access_token, access_secret)\n",
    "    api = tweepy.API(auth, wait_on_rate_limit=True)\n",
    "\n",
    "    # NOTE TO REVIEWER: this student had mobile verification issues so the following\n",
    "    # Twitter API code was sent to this student from a Udacity instructor\n",
    "    # Tweet IDs for which to gather additional data via Twitter's API\n",
    "    tweet_ids = twitter_archive.tweet_id.values\n",
    "    len(tweet_ids)\n",
    "\n",
    "    # Query Twitter's API for JSON data for each tweet ID in the Twitter archive\n",
    "    count = 0\n",
    "    fails_dict = {}\n",
    "    # Save each tweet's returned JSON as a new line in a .txt file\n",
    "    with open('tweet_json.txt', 'w') as outfile:\n",
    "        # This loop will likely take 20-30 minutes to run because of Twitter's rate limit\n",
    "        for tweet_id in tweet_ids:\n",
    "            count += 1\n",
    "            print(str(count) + \": \" + str(tweet_id))\n",
    "            try:\n",
    "                tweet = api.get_status(tweet_id, tweet_mode='extended')\n",
    "                print(\"Success\")\n",
    "                json.dump(tweet._json, outfile)\n",
    "                outfile.write('\\n')\n",
    "            except tweepy.TweepError as e:\n",
    "                print(\"Fail\")\n",
    "                fails_dict[tweet_id] = e\n",
    "                pass\n",
    "except:\n",
    "    print(' NOTE TO REVIEWER: This student had mobile verification issues so the following Twitter API code was sent to this student from a Udacity instructor Tweet IDs for which to gather additional data via Twitter\\'s API')"
   ]
  },
  {
   "cell_type": "markdown",
   "metadata": {},
   "source": [
    "<a id='jsonfile'></a>\n",
    "#### 2.2.2 Loading Query Output into DataFrame\n",
    "The next step is to load the created text file `tweet_json.txt` into a pandas dataframe `twitter_eval` by reading this file line by line. "
   ]
  },
  {
   "cell_type": "code",
   "execution_count": 4,
   "metadata": {},
   "outputs": [
    {
     "data": {
      "text/html": [
       "<div>\n",
       "<style scoped>\n",
       "    .dataframe tbody tr th:only-of-type {\n",
       "        vertical-align: middle;\n",
       "    }\n",
       "\n",
       "    .dataframe tbody tr th {\n",
       "        vertical-align: top;\n",
       "    }\n",
       "\n",
       "    .dataframe thead th {\n",
       "        text-align: right;\n",
       "    }\n",
       "</style>\n",
       "<table border=\"1\" class=\"dataframe\">\n",
       "  <thead>\n",
       "    <tr style=\"text-align: right;\">\n",
       "      <th></th>\n",
       "      <th>tweet_id</th>\n",
       "      <th>retweet_count</th>\n",
       "      <th>favorite_count</th>\n",
       "    </tr>\n",
       "  </thead>\n",
       "  <tbody>\n",
       "    <tr>\n",
       "      <th>0</th>\n",
       "      <td>892420643555336193</td>\n",
       "      <td>8853</td>\n",
       "      <td>39467</td>\n",
       "    </tr>\n",
       "    <tr>\n",
       "      <th>1</th>\n",
       "      <td>892177421306343426</td>\n",
       "      <td>6514</td>\n",
       "      <td>33819</td>\n",
       "    </tr>\n",
       "    <tr>\n",
       "      <th>2</th>\n",
       "      <td>891815181378084864</td>\n",
       "      <td>4328</td>\n",
       "      <td>25461</td>\n",
       "    </tr>\n",
       "    <tr>\n",
       "      <th>3</th>\n",
       "      <td>891689557279858688</td>\n",
       "      <td>8964</td>\n",
       "      <td>42908</td>\n",
       "    </tr>\n",
       "    <tr>\n",
       "      <th>4</th>\n",
       "      <td>891327558926688256</td>\n",
       "      <td>9774</td>\n",
       "      <td>41048</td>\n",
       "    </tr>\n",
       "  </tbody>\n",
       "</table>\n",
       "</div>"
      ],
      "text/plain": [
       "             tweet_id  retweet_count  favorite_count\n",
       "0  892420643555336193  8853           39467         \n",
       "1  892177421306343426  6514           33819         \n",
       "2  891815181378084864  4328           25461         \n",
       "3  891689557279858688  8964           42908         \n",
       "4  891327558926688256  9774           41048         "
      ]
     },
     "execution_count": 4,
     "metadata": {},
     "output_type": "execute_result"
    }
   ],
   "source": [
    "df_list = []\n",
    "with open('tweet-json.txt','r') as json_file:\n",
    "    for line in json_file:\n",
    "        data = json.loads(line)\n",
    "        tweet_id = data['id']\n",
    "        retweet_count=data['retweet_count']\n",
    "        favorite_count = data['favorite_count']\n",
    "        df_list.append({'tweet_id':tweet_id,\n",
    "                       'retweet_count': retweet_count,\n",
    "                       'favorite_count': favorite_count})\n",
    "\n",
    "        \n",
    "twitter_eval = pd.DataFrame(df_list)\n",
    "twitter_eval.head()"
   ]
  },
  {
   "cell_type": "markdown",
   "metadata": {},
   "source": [
    "<a id='request'></a>\n",
    "### 2.3 Data ImPorting Using Programmatically Downloaded File\n",
    "download data from given url using `requests` library, write it into a flat file, and then load it into pandas dataframe `twitter_ann`."
   ]
  },
  {
   "cell_type": "code",
   "execution_count": 5,
   "metadata": {},
   "outputs": [
    {
     "data": {
      "text/html": [
       "<div>\n",
       "<style scoped>\n",
       "    .dataframe tbody tr th:only-of-type {\n",
       "        vertical-align: middle;\n",
       "    }\n",
       "\n",
       "    .dataframe tbody tr th {\n",
       "        vertical-align: top;\n",
       "    }\n",
       "\n",
       "    .dataframe thead th {\n",
       "        text-align: right;\n",
       "    }\n",
       "</style>\n",
       "<table border=\"1\" class=\"dataframe\">\n",
       "  <thead>\n",
       "    <tr style=\"text-align: right;\">\n",
       "      <th></th>\n",
       "      <th>tweet_id</th>\n",
       "      <th>jpg_url</th>\n",
       "      <th>img_num</th>\n",
       "      <th>p1</th>\n",
       "      <th>p1_conf</th>\n",
       "      <th>p1_dog</th>\n",
       "      <th>p2</th>\n",
       "      <th>p2_conf</th>\n",
       "      <th>p2_dog</th>\n",
       "      <th>p3</th>\n",
       "      <th>p3_conf</th>\n",
       "      <th>p3_dog</th>\n",
       "    </tr>\n",
       "  </thead>\n",
       "  <tbody>\n",
       "    <tr>\n",
       "      <th>0</th>\n",
       "      <td>666020888022790149</td>\n",
       "      <td>https://pbs.twimg.com/media/CT4udn0WwAA0aMy.jpg</td>\n",
       "      <td>1</td>\n",
       "      <td>Welsh_springer_spaniel</td>\n",
       "      <td>0.465074</td>\n",
       "      <td>True</td>\n",
       "      <td>collie</td>\n",
       "      <td>0.156665</td>\n",
       "      <td>True</td>\n",
       "      <td>Shetland_sheepdog</td>\n",
       "      <td>0.061428</td>\n",
       "      <td>True</td>\n",
       "    </tr>\n",
       "    <tr>\n",
       "      <th>1</th>\n",
       "      <td>666029285002620928</td>\n",
       "      <td>https://pbs.twimg.com/media/CT42GRgUYAA5iDo.jpg</td>\n",
       "      <td>1</td>\n",
       "      <td>redbone</td>\n",
       "      <td>0.506826</td>\n",
       "      <td>True</td>\n",
       "      <td>miniature_pinscher</td>\n",
       "      <td>0.074192</td>\n",
       "      <td>True</td>\n",
       "      <td>Rhodesian_ridgeback</td>\n",
       "      <td>0.072010</td>\n",
       "      <td>True</td>\n",
       "    </tr>\n",
       "    <tr>\n",
       "      <th>2</th>\n",
       "      <td>666033412701032449</td>\n",
       "      <td>https://pbs.twimg.com/media/CT4521TWwAEvMyu.jpg</td>\n",
       "      <td>1</td>\n",
       "      <td>German_shepherd</td>\n",
       "      <td>0.596461</td>\n",
       "      <td>True</td>\n",
       "      <td>malinois</td>\n",
       "      <td>0.138584</td>\n",
       "      <td>True</td>\n",
       "      <td>bloodhound</td>\n",
       "      <td>0.116197</td>\n",
       "      <td>True</td>\n",
       "    </tr>\n",
       "    <tr>\n",
       "      <th>3</th>\n",
       "      <td>666044226329800704</td>\n",
       "      <td>https://pbs.twimg.com/media/CT5Dr8HUEAA-lEu.jpg</td>\n",
       "      <td>1</td>\n",
       "      <td>Rhodesian_ridgeback</td>\n",
       "      <td>0.408143</td>\n",
       "      <td>True</td>\n",
       "      <td>redbone</td>\n",
       "      <td>0.360687</td>\n",
       "      <td>True</td>\n",
       "      <td>miniature_pinscher</td>\n",
       "      <td>0.222752</td>\n",
       "      <td>True</td>\n",
       "    </tr>\n",
       "    <tr>\n",
       "      <th>4</th>\n",
       "      <td>666049248165822465</td>\n",
       "      <td>https://pbs.twimg.com/media/CT5IQmsXIAAKY4A.jpg</td>\n",
       "      <td>1</td>\n",
       "      <td>miniature_pinscher</td>\n",
       "      <td>0.560311</td>\n",
       "      <td>True</td>\n",
       "      <td>Rottweiler</td>\n",
       "      <td>0.243682</td>\n",
       "      <td>True</td>\n",
       "      <td>Doberman</td>\n",
       "      <td>0.154629</td>\n",
       "      <td>True</td>\n",
       "    </tr>\n",
       "  </tbody>\n",
       "</table>\n",
       "</div>"
      ],
      "text/plain": [
       "             tweet_id                                          jpg_url  \\\n",
       "0  666020888022790149  https://pbs.twimg.com/media/CT4udn0WwAA0aMy.jpg   \n",
       "1  666029285002620928  https://pbs.twimg.com/media/CT42GRgUYAA5iDo.jpg   \n",
       "2  666033412701032449  https://pbs.twimg.com/media/CT4521TWwAEvMyu.jpg   \n",
       "3  666044226329800704  https://pbs.twimg.com/media/CT5Dr8HUEAA-lEu.jpg   \n",
       "4  666049248165822465  https://pbs.twimg.com/media/CT5IQmsXIAAKY4A.jpg   \n",
       "\n",
       "   img_num                      p1   p1_conf  p1_dog                  p2  \\\n",
       "0  1        Welsh_springer_spaniel  0.465074  True    collie               \n",
       "1  1        redbone                 0.506826  True    miniature_pinscher   \n",
       "2  1        German_shepherd         0.596461  True    malinois             \n",
       "3  1        Rhodesian_ridgeback     0.408143  True    redbone              \n",
       "4  1        miniature_pinscher      0.560311  True    Rottweiler           \n",
       "\n",
       "    p2_conf  p2_dog                   p3   p3_conf  p3_dog  \n",
       "0  0.156665  True    Shetland_sheepdog    0.061428  True    \n",
       "1  0.074192  True    Rhodesian_ridgeback  0.072010  True    \n",
       "2  0.138584  True    bloodhound           0.116197  True    \n",
       "3  0.360687  True    miniature_pinscher   0.222752  True    \n",
       "4  0.243682  True    Doberman             0.154629  True    "
      ]
     },
     "execution_count": 5,
     "metadata": {},
     "output_type": "execute_result"
    }
   ],
   "source": [
    "url = 'https://d17h27t6h515a5.cloudfront.net/topher/2017/August/599fd2ad_image-predictions/image-predictions.tsv'\n",
    "file_name = url.split('/')[-1]\n",
    "if not os.path.exists(file_name):\n",
    "    response = requests.get(url)\n",
    "    with open(file_name,'wb') as file:\n",
    "        file.write(response.content)\n",
    "twitter_ann = pd.read_csv(file_name, sep ='\\t')\n",
    "twitter_ann.head()"
   ]
  },
  {
   "cell_type": "markdown",
   "metadata": {},
   "source": [
    "<a id='assess'></a>\n",
    "## 3 Data Assessing\n",
    "The three created dataframes are visually and programmatically assessed for quality and tidiness issues \n",
    "the following three sub-titles represent the effort done to assess and identify data issues in the three dataframes\n",
    "the forth sub-title represent a comprehensive assessment report for all issues categorized by type and divided per each table."
   ]
  },
  {
   "cell_type": "markdown",
   "metadata": {},
   "source": [
    "<a id='Tarchive'></a>\n",
    "### 3.1 `twitter_archive` Dataframe\n",
    "The first dataframe containing the `WeRateDogs` twitter account archive is evaluated and the issues discovered are noted."
   ]
  },
  {
   "cell_type": "code",
   "execution_count": 6,
   "metadata": {},
   "outputs": [
    {
     "data": {
      "text/html": [
       "<div>\n",
       "<style scoped>\n",
       "    .dataframe tbody tr th:only-of-type {\n",
       "        vertical-align: middle;\n",
       "    }\n",
       "\n",
       "    .dataframe tbody tr th {\n",
       "        vertical-align: top;\n",
       "    }\n",
       "\n",
       "    .dataframe thead th {\n",
       "        text-align: right;\n",
       "    }\n",
       "</style>\n",
       "<table border=\"1\" class=\"dataframe\">\n",
       "  <thead>\n",
       "    <tr style=\"text-align: right;\">\n",
       "      <th></th>\n",
       "      <th>tweet_id</th>\n",
       "      <th>in_reply_to_status_id</th>\n",
       "      <th>in_reply_to_user_id</th>\n",
       "      <th>timestamp</th>\n",
       "      <th>source</th>\n",
       "      <th>text</th>\n",
       "      <th>retweeted_status_id</th>\n",
       "      <th>retweeted_status_user_id</th>\n",
       "      <th>retweeted_status_timestamp</th>\n",
       "      <th>expanded_urls</th>\n",
       "      <th>rating_numerator</th>\n",
       "      <th>rating_denominator</th>\n",
       "      <th>name</th>\n",
       "      <th>doggo</th>\n",
       "      <th>floofer</th>\n",
       "      <th>pupper</th>\n",
       "      <th>puppo</th>\n",
       "    </tr>\n",
       "  </thead>\n",
       "  <tbody>\n",
       "    <tr>\n",
       "      <th>0</th>\n",
       "      <td>892420643555336193</td>\n",
       "      <td>NaN</td>\n",
       "      <td>NaN</td>\n",
       "      <td>2017-08-01 16:23:56 +0000</td>\n",
       "      <td>&lt;a href=\"http://twitter.com/download/iphone\" rel=\"nofollow\"&gt;Twitter for iPhone&lt;/a&gt;</td>\n",
       "      <td>This is Phineas. He's a mystical boy. Only ever appears in the hole of a donut. 13/10 https://t.co/MgUWQ76dJU</td>\n",
       "      <td>NaN</td>\n",
       "      <td>NaN</td>\n",
       "      <td>NaN</td>\n",
       "      <td>https://twitter.com/dog_rates/status/892420643555336193/photo/1</td>\n",
       "      <td>13</td>\n",
       "      <td>10</td>\n",
       "      <td>Phineas</td>\n",
       "      <td>None</td>\n",
       "      <td>None</td>\n",
       "      <td>None</td>\n",
       "      <td>None</td>\n",
       "    </tr>\n",
       "    <tr>\n",
       "      <th>1</th>\n",
       "      <td>892177421306343426</td>\n",
       "      <td>NaN</td>\n",
       "      <td>NaN</td>\n",
       "      <td>2017-08-01 00:17:27 +0000</td>\n",
       "      <td>&lt;a href=\"http://twitter.com/download/iphone\" rel=\"nofollow\"&gt;Twitter for iPhone&lt;/a&gt;</td>\n",
       "      <td>This is Tilly. She's just checking pup on you. Hopes you're doing ok. If not, she's available for pats, snugs, boops, the whole bit. 13/10 https://t.co/0Xxu71qeIV</td>\n",
       "      <td>NaN</td>\n",
       "      <td>NaN</td>\n",
       "      <td>NaN</td>\n",
       "      <td>https://twitter.com/dog_rates/status/892177421306343426/photo/1</td>\n",
       "      <td>13</td>\n",
       "      <td>10</td>\n",
       "      <td>Tilly</td>\n",
       "      <td>None</td>\n",
       "      <td>None</td>\n",
       "      <td>None</td>\n",
       "      <td>None</td>\n",
       "    </tr>\n",
       "    <tr>\n",
       "      <th>2</th>\n",
       "      <td>891815181378084864</td>\n",
       "      <td>NaN</td>\n",
       "      <td>NaN</td>\n",
       "      <td>2017-07-31 00:18:03 +0000</td>\n",
       "      <td>&lt;a href=\"http://twitter.com/download/iphone\" rel=\"nofollow\"&gt;Twitter for iPhone&lt;/a&gt;</td>\n",
       "      <td>This is Archie. He is a rare Norwegian Pouncing Corgo. Lives in the tall grass. You never know when one may strike. 12/10 https://t.co/wUnZnhtVJB</td>\n",
       "      <td>NaN</td>\n",
       "      <td>NaN</td>\n",
       "      <td>NaN</td>\n",
       "      <td>https://twitter.com/dog_rates/status/891815181378084864/photo/1</td>\n",
       "      <td>12</td>\n",
       "      <td>10</td>\n",
       "      <td>Archie</td>\n",
       "      <td>None</td>\n",
       "      <td>None</td>\n",
       "      <td>None</td>\n",
       "      <td>None</td>\n",
       "    </tr>\n",
       "    <tr>\n",
       "      <th>3</th>\n",
       "      <td>891689557279858688</td>\n",
       "      <td>NaN</td>\n",
       "      <td>NaN</td>\n",
       "      <td>2017-07-30 15:58:51 +0000</td>\n",
       "      <td>&lt;a href=\"http://twitter.com/download/iphone\" rel=\"nofollow\"&gt;Twitter for iPhone&lt;/a&gt;</td>\n",
       "      <td>This is Darla. She commenced a snooze mid meal. 13/10 happens to the best of us https://t.co/tD36da7qLQ</td>\n",
       "      <td>NaN</td>\n",
       "      <td>NaN</td>\n",
       "      <td>NaN</td>\n",
       "      <td>https://twitter.com/dog_rates/status/891689557279858688/photo/1</td>\n",
       "      <td>13</td>\n",
       "      <td>10</td>\n",
       "      <td>Darla</td>\n",
       "      <td>None</td>\n",
       "      <td>None</td>\n",
       "      <td>None</td>\n",
       "      <td>None</td>\n",
       "    </tr>\n",
       "    <tr>\n",
       "      <th>4</th>\n",
       "      <td>891327558926688256</td>\n",
       "      <td>NaN</td>\n",
       "      <td>NaN</td>\n",
       "      <td>2017-07-29 16:00:24 +0000</td>\n",
       "      <td>&lt;a href=\"http://twitter.com/download/iphone\" rel=\"nofollow\"&gt;Twitter for iPhone&lt;/a&gt;</td>\n",
       "      <td>This is Franklin. He would like you to stop calling him \"cute.\" He is a very fierce shark and should be respected as such. 12/10 #BarkWeek https://t.co/AtUZn91f7f</td>\n",
       "      <td>NaN</td>\n",
       "      <td>NaN</td>\n",
       "      <td>NaN</td>\n",
       "      <td>https://twitter.com/dog_rates/status/891327558926688256/photo/1,https://twitter.com/dog_rates/status/891327558926688256/photo/1</td>\n",
       "      <td>12</td>\n",
       "      <td>10</td>\n",
       "      <td>Franklin</td>\n",
       "      <td>None</td>\n",
       "      <td>None</td>\n",
       "      <td>None</td>\n",
       "      <td>None</td>\n",
       "    </tr>\n",
       "  </tbody>\n",
       "</table>\n",
       "</div>"
      ],
      "text/plain": [
       "             tweet_id  in_reply_to_status_id  in_reply_to_user_id  \\\n",
       "0  892420643555336193 NaN                    NaN                    \n",
       "1  892177421306343426 NaN                    NaN                    \n",
       "2  891815181378084864 NaN                    NaN                    \n",
       "3  891689557279858688 NaN                    NaN                    \n",
       "4  891327558926688256 NaN                    NaN                    \n",
       "\n",
       "                   timestamp  \\\n",
       "0  2017-08-01 16:23:56 +0000   \n",
       "1  2017-08-01 00:17:27 +0000   \n",
       "2  2017-07-31 00:18:03 +0000   \n",
       "3  2017-07-30 15:58:51 +0000   \n",
       "4  2017-07-29 16:00:24 +0000   \n",
       "\n",
       "                                                                               source  \\\n",
       "0  <a href=\"http://twitter.com/download/iphone\" rel=\"nofollow\">Twitter for iPhone</a>   \n",
       "1  <a href=\"http://twitter.com/download/iphone\" rel=\"nofollow\">Twitter for iPhone</a>   \n",
       "2  <a href=\"http://twitter.com/download/iphone\" rel=\"nofollow\">Twitter for iPhone</a>   \n",
       "3  <a href=\"http://twitter.com/download/iphone\" rel=\"nofollow\">Twitter for iPhone</a>   \n",
       "4  <a href=\"http://twitter.com/download/iphone\" rel=\"nofollow\">Twitter for iPhone</a>   \n",
       "\n",
       "                                                                                                                                                                 text  \\\n",
       "0  This is Phineas. He's a mystical boy. Only ever appears in the hole of a donut. 13/10 https://t.co/MgUWQ76dJU                                                        \n",
       "1  This is Tilly. She's just checking pup on you. Hopes you're doing ok. If not, she's available for pats, snugs, boops, the whole bit. 13/10 https://t.co/0Xxu71qeIV   \n",
       "2  This is Archie. He is a rare Norwegian Pouncing Corgo. Lives in the tall grass. You never know when one may strike. 12/10 https://t.co/wUnZnhtVJB                    \n",
       "3  This is Darla. She commenced a snooze mid meal. 13/10 happens to the best of us https://t.co/tD36da7qLQ                                                              \n",
       "4  This is Franklin. He would like you to stop calling him \"cute.\" He is a very fierce shark and should be respected as such. 12/10 #BarkWeek https://t.co/AtUZn91f7f   \n",
       "\n",
       "   retweeted_status_id  retweeted_status_user_id retweeted_status_timestamp  \\\n",
       "0 NaN                  NaN                        NaN                         \n",
       "1 NaN                  NaN                        NaN                         \n",
       "2 NaN                  NaN                        NaN                         \n",
       "3 NaN                  NaN                        NaN                         \n",
       "4 NaN                  NaN                        NaN                         \n",
       "\n",
       "                                                                                                                     expanded_urls  \\\n",
       "0  https://twitter.com/dog_rates/status/892420643555336193/photo/1                                                                   \n",
       "1  https://twitter.com/dog_rates/status/892177421306343426/photo/1                                                                   \n",
       "2  https://twitter.com/dog_rates/status/891815181378084864/photo/1                                                                   \n",
       "3  https://twitter.com/dog_rates/status/891689557279858688/photo/1                                                                   \n",
       "4  https://twitter.com/dog_rates/status/891327558926688256/photo/1,https://twitter.com/dog_rates/status/891327558926688256/photo/1   \n",
       "\n",
       "   rating_numerator  rating_denominator      name doggo floofer pupper puppo  \n",
       "0  13                10                  Phineas   None  None    None   None  \n",
       "1  13                10                  Tilly     None  None    None   None  \n",
       "2  12                10                  Archie    None  None    None   None  \n",
       "3  13                10                  Darla     None  None    None   None  \n",
       "4  12                10                  Franklin  None  None    None   None  "
      ]
     },
     "execution_count": 6,
     "metadata": {},
     "output_type": "execute_result"
    }
   ],
   "source": [
    "twitter_archive.head()"
   ]
  },
  {
   "cell_type": "code",
   "execution_count": 7,
   "metadata": {},
   "outputs": [
    {
     "name": "stdout",
     "output_type": "stream",
     "text": [
      "<class 'pandas.core.frame.DataFrame'>\n",
      "RangeIndex: 2356 entries, 0 to 2355\n",
      "Data columns (total 17 columns):\n",
      " #   Column                      Non-Null Count  Dtype  \n",
      "---  ------                      --------------  -----  \n",
      " 0   tweet_id                    2356 non-null   int64  \n",
      " 1   in_reply_to_status_id       78 non-null     float64\n",
      " 2   in_reply_to_user_id         78 non-null     float64\n",
      " 3   timestamp                   2356 non-null   object \n",
      " 4   source                      2356 non-null   object \n",
      " 5   text                        2356 non-null   object \n",
      " 6   retweeted_status_id         181 non-null    float64\n",
      " 7   retweeted_status_user_id    181 non-null    float64\n",
      " 8   retweeted_status_timestamp  181 non-null    object \n",
      " 9   expanded_urls               2297 non-null   object \n",
      " 10  rating_numerator            2356 non-null   int64  \n",
      " 11  rating_denominator          2356 non-null   int64  \n",
      " 12  name                        2356 non-null   object \n",
      " 13  doggo                       2356 non-null   object \n",
      " 14  floofer                     2356 non-null   object \n",
      " 15  pupper                      2356 non-null   object \n",
      " 16  puppo                       2356 non-null   object \n",
      "dtypes: float64(4), int64(3), object(10)\n",
      "memory usage: 313.0+ KB\n"
     ]
    }
   ],
   "source": [
    "twitter_archive.info()"
   ]
  },
  {
   "cell_type": "code",
   "execution_count": 8,
   "metadata": {},
   "outputs": [
    {
     "data": {
      "text/html": [
       "<div>\n",
       "<style scoped>\n",
       "    .dataframe tbody tr th:only-of-type {\n",
       "        vertical-align: middle;\n",
       "    }\n",
       "\n",
       "    .dataframe tbody tr th {\n",
       "        vertical-align: top;\n",
       "    }\n",
       "\n",
       "    .dataframe thead th {\n",
       "        text-align: right;\n",
       "    }\n",
       "</style>\n",
       "<table border=\"1\" class=\"dataframe\">\n",
       "  <thead>\n",
       "    <tr style=\"text-align: right;\">\n",
       "      <th></th>\n",
       "      <th>tweet_id</th>\n",
       "      <th>in_reply_to_status_id</th>\n",
       "      <th>in_reply_to_user_id</th>\n",
       "      <th>retweeted_status_id</th>\n",
       "      <th>retweeted_status_user_id</th>\n",
       "      <th>rating_numerator</th>\n",
       "      <th>rating_denominator</th>\n",
       "    </tr>\n",
       "  </thead>\n",
       "  <tbody>\n",
       "    <tr>\n",
       "      <th>count</th>\n",
       "      <td>2.356000e+03</td>\n",
       "      <td>7.800000e+01</td>\n",
       "      <td>7.800000e+01</td>\n",
       "      <td>1.810000e+02</td>\n",
       "      <td>1.810000e+02</td>\n",
       "      <td>2356.000000</td>\n",
       "      <td>2356.000000</td>\n",
       "    </tr>\n",
       "    <tr>\n",
       "      <th>mean</th>\n",
       "      <td>7.427716e+17</td>\n",
       "      <td>7.455079e+17</td>\n",
       "      <td>2.014171e+16</td>\n",
       "      <td>7.720400e+17</td>\n",
       "      <td>1.241698e+16</td>\n",
       "      <td>13.126486</td>\n",
       "      <td>10.455433</td>\n",
       "    </tr>\n",
       "    <tr>\n",
       "      <th>std</th>\n",
       "      <td>6.856705e+16</td>\n",
       "      <td>7.582492e+16</td>\n",
       "      <td>1.252797e+17</td>\n",
       "      <td>6.236928e+16</td>\n",
       "      <td>9.599254e+16</td>\n",
       "      <td>45.876648</td>\n",
       "      <td>6.745237</td>\n",
       "    </tr>\n",
       "    <tr>\n",
       "      <th>min</th>\n",
       "      <td>6.660209e+17</td>\n",
       "      <td>6.658147e+17</td>\n",
       "      <td>1.185634e+07</td>\n",
       "      <td>6.661041e+17</td>\n",
       "      <td>7.832140e+05</td>\n",
       "      <td>0.000000</td>\n",
       "      <td>0.000000</td>\n",
       "    </tr>\n",
       "    <tr>\n",
       "      <th>25%</th>\n",
       "      <td>6.783989e+17</td>\n",
       "      <td>6.757419e+17</td>\n",
       "      <td>3.086374e+08</td>\n",
       "      <td>7.186315e+17</td>\n",
       "      <td>4.196984e+09</td>\n",
       "      <td>10.000000</td>\n",
       "      <td>10.000000</td>\n",
       "    </tr>\n",
       "    <tr>\n",
       "      <th>50%</th>\n",
       "      <td>7.196279e+17</td>\n",
       "      <td>7.038708e+17</td>\n",
       "      <td>4.196984e+09</td>\n",
       "      <td>7.804657e+17</td>\n",
       "      <td>4.196984e+09</td>\n",
       "      <td>11.000000</td>\n",
       "      <td>10.000000</td>\n",
       "    </tr>\n",
       "    <tr>\n",
       "      <th>75%</th>\n",
       "      <td>7.993373e+17</td>\n",
       "      <td>8.257804e+17</td>\n",
       "      <td>4.196984e+09</td>\n",
       "      <td>8.203146e+17</td>\n",
       "      <td>4.196984e+09</td>\n",
       "      <td>12.000000</td>\n",
       "      <td>10.000000</td>\n",
       "    </tr>\n",
       "    <tr>\n",
       "      <th>max</th>\n",
       "      <td>8.924206e+17</td>\n",
       "      <td>8.862664e+17</td>\n",
       "      <td>8.405479e+17</td>\n",
       "      <td>8.874740e+17</td>\n",
       "      <td>7.874618e+17</td>\n",
       "      <td>1776.000000</td>\n",
       "      <td>170.000000</td>\n",
       "    </tr>\n",
       "  </tbody>\n",
       "</table>\n",
       "</div>"
      ],
      "text/plain": [
       "           tweet_id  in_reply_to_status_id  in_reply_to_user_id  \\\n",
       "count  2.356000e+03  7.800000e+01           7.800000e+01          \n",
       "mean   7.427716e+17  7.455079e+17           2.014171e+16          \n",
       "std    6.856705e+16  7.582492e+16           1.252797e+17          \n",
       "min    6.660209e+17  6.658147e+17           1.185634e+07          \n",
       "25%    6.783989e+17  6.757419e+17           3.086374e+08          \n",
       "50%    7.196279e+17  7.038708e+17           4.196984e+09          \n",
       "75%    7.993373e+17  8.257804e+17           4.196984e+09          \n",
       "max    8.924206e+17  8.862664e+17           8.405479e+17          \n",
       "\n",
       "       retweeted_status_id  retweeted_status_user_id  rating_numerator  \\\n",
       "count  1.810000e+02         1.810000e+02              2356.000000        \n",
       "mean   7.720400e+17         1.241698e+16              13.126486          \n",
       "std    6.236928e+16         9.599254e+16              45.876648          \n",
       "min    6.661041e+17         7.832140e+05              0.000000           \n",
       "25%    7.186315e+17         4.196984e+09              10.000000          \n",
       "50%    7.804657e+17         4.196984e+09              11.000000          \n",
       "75%    8.203146e+17         4.196984e+09              12.000000          \n",
       "max    8.874740e+17         7.874618e+17              1776.000000        \n",
       "\n",
       "       rating_denominator  \n",
       "count  2356.000000         \n",
       "mean   10.455433           \n",
       "std    6.745237            \n",
       "min    0.000000            \n",
       "25%    10.000000           \n",
       "50%    10.000000           \n",
       "75%    10.000000           \n",
       "max    170.000000          "
      ]
     },
     "execution_count": 8,
     "metadata": {},
     "output_type": "execute_result"
    }
   ],
   "source": [
    "twitter_archive.describe()"
   ]
  },
  {
   "cell_type": "code",
   "execution_count": 9,
   "metadata": {},
   "outputs": [
    {
     "data": {
      "text/plain": [
       "False    2175\n",
       "True     181 \n",
       "Name: retweeted_status_id, dtype: int64"
      ]
     },
     "execution_count": 9,
     "metadata": {},
     "output_type": "execute_result"
    }
   ],
   "source": [
    "#check if there is any non-original tweets (re-tweets)\n",
    "twitter_archive.retweeted_status_id.notnull().value_counts()"
   ]
  },
  {
   "cell_type": "code",
   "execution_count": 10,
   "metadata": {},
   "outputs": [
    {
     "data": {
      "text/html": [
       "<div>\n",
       "<style scoped>\n",
       "    .dataframe tbody tr th:only-of-type {\n",
       "        vertical-align: middle;\n",
       "    }\n",
       "\n",
       "    .dataframe tbody tr th {\n",
       "        vertical-align: top;\n",
       "    }\n",
       "\n",
       "    .dataframe thead th {\n",
       "        text-align: right;\n",
       "    }\n",
       "</style>\n",
       "<table border=\"1\" class=\"dataframe\">\n",
       "  <thead>\n",
       "    <tr style=\"text-align: right;\">\n",
       "      <th></th>\n",
       "      <th>tweet_id</th>\n",
       "      <th>in_reply_to_status_id</th>\n",
       "      <th>in_reply_to_user_id</th>\n",
       "      <th>timestamp</th>\n",
       "      <th>source</th>\n",
       "      <th>text</th>\n",
       "      <th>retweeted_status_id</th>\n",
       "      <th>retweeted_status_user_id</th>\n",
       "      <th>retweeted_status_timestamp</th>\n",
       "      <th>expanded_urls</th>\n",
       "      <th>rating_numerator</th>\n",
       "      <th>rating_denominator</th>\n",
       "      <th>name</th>\n",
       "      <th>doggo</th>\n",
       "      <th>floofer</th>\n",
       "      <th>pupper</th>\n",
       "      <th>puppo</th>\n",
       "    </tr>\n",
       "  </thead>\n",
       "  <tbody>\n",
       "    <tr>\n",
       "      <th>315</th>\n",
       "      <td>835152434251116546</td>\n",
       "      <td>NaN</td>\n",
       "      <td>NaN</td>\n",
       "      <td>2017-02-24 15:40:31 +0000</td>\n",
       "      <td>&lt;a href=\"http://twitter.com/download/iphone\" rel=\"nofollow\"&gt;Twitter for iPhone&lt;/a&gt;</td>\n",
       "      <td>When you're so blinded by your systematic plagiarism that you forget what day it is. 0/10 https://t.co/YbEJPkg4Ag</td>\n",
       "      <td>NaN</td>\n",
       "      <td>NaN</td>\n",
       "      <td>NaN</td>\n",
       "      <td>https://twitter.com/dog_rates/status/835152434251116546/photo/1,https://twitter.com/dog_rates/status/835152434251116546/photo/1,https://twitter.com/dog_rates/status/835152434251116546/photo/1</td>\n",
       "      <td>0</td>\n",
       "      <td>10</td>\n",
       "      <td>None</td>\n",
       "      <td>None</td>\n",
       "      <td>None</td>\n",
       "      <td>None</td>\n",
       "      <td>None</td>\n",
       "    </tr>\n",
       "    <tr>\n",
       "      <th>1016</th>\n",
       "      <td>746906459439529985</td>\n",
       "      <td>7.468859e+17</td>\n",
       "      <td>4.196984e+09</td>\n",
       "      <td>2016-06-26 03:22:31 +0000</td>\n",
       "      <td>&lt;a href=\"http://twitter.com/download/iphone\" rel=\"nofollow\"&gt;Twitter for iPhone&lt;/a&gt;</td>\n",
       "      <td>PUPDATE: can't see any. Even if I could, I couldn't reach them to pet. 0/10 much disappointment https://t.co/c7WXaB2nqX</td>\n",
       "      <td>NaN</td>\n",
       "      <td>NaN</td>\n",
       "      <td>NaN</td>\n",
       "      <td>https://twitter.com/dog_rates/status/746906459439529985/photo/1</td>\n",
       "      <td>0</td>\n",
       "      <td>10</td>\n",
       "      <td>None</td>\n",
       "      <td>None</td>\n",
       "      <td>None</td>\n",
       "      <td>None</td>\n",
       "      <td>None</td>\n",
       "    </tr>\n",
       "  </tbody>\n",
       "</table>\n",
       "</div>"
      ],
      "text/plain": [
       "                tweet_id  in_reply_to_status_id  in_reply_to_user_id  \\\n",
       "315   835152434251116546 NaN                    NaN                    \n",
       "1016  746906459439529985  7.468859e+17           4.196984e+09          \n",
       "\n",
       "                      timestamp  \\\n",
       "315   2017-02-24 15:40:31 +0000   \n",
       "1016  2016-06-26 03:22:31 +0000   \n",
       "\n",
       "                                                                                  source  \\\n",
       "315   <a href=\"http://twitter.com/download/iphone\" rel=\"nofollow\">Twitter for iPhone</a>   \n",
       "1016  <a href=\"http://twitter.com/download/iphone\" rel=\"nofollow\">Twitter for iPhone</a>   \n",
       "\n",
       "                                                                                                                         text  \\\n",
       "315   When you're so blinded by your systematic plagiarism that you forget what day it is. 0/10 https://t.co/YbEJPkg4Ag         \n",
       "1016  PUPDATE: can't see any. Even if I could, I couldn't reach them to pet. 0/10 much disappointment https://t.co/c7WXaB2nqX   \n",
       "\n",
       "      retweeted_status_id  retweeted_status_user_id  \\\n",
       "315  NaN                  NaN                         \n",
       "1016 NaN                  NaN                         \n",
       "\n",
       "     retweeted_status_timestamp  \\\n",
       "315   NaN                         \n",
       "1016  NaN                         \n",
       "\n",
       "                                                                                                                                                                                        expanded_urls  \\\n",
       "315   https://twitter.com/dog_rates/status/835152434251116546/photo/1,https://twitter.com/dog_rates/status/835152434251116546/photo/1,https://twitter.com/dog_rates/status/835152434251116546/photo/1   \n",
       "1016  https://twitter.com/dog_rates/status/746906459439529985/photo/1                                                                                                                                   \n",
       "\n",
       "      rating_numerator  rating_denominator  name doggo floofer pupper puppo  \n",
       "315   0                 10                  None  None  None    None   None  \n",
       "1016  0                 10                  None  None  None    None   None  "
      ]
     },
     "execution_count": 10,
     "metadata": {},
     "output_type": "execute_result"
    }
   ],
   "source": [
    "#check if any rating numerator is equal to zero. (according to database schema, it can be more than 10)\n",
    "twitter_archive[twitter_archive.rating_numerator==0]"
   ]
  },
  {
   "cell_type": "code",
   "execution_count": 11,
   "metadata": {},
   "outputs": [
    {
     "data": {
      "text/plain": [
       "10     2333\n",
       "11     3   \n",
       "50     3   \n",
       "80     2   \n",
       "20     2   \n",
       "2      1   \n",
       "16     1   \n",
       "40     1   \n",
       "70     1   \n",
       "15     1   \n",
       "90     1   \n",
       "110    1   \n",
       "120    1   \n",
       "130    1   \n",
       "150    1   \n",
       "170    1   \n",
       "7      1   \n",
       "0      1   \n",
       "Name: rating_denominator, dtype: int64"
      ]
     },
     "execution_count": 11,
     "metadata": {},
     "output_type": "execute_result"
    }
   ],
   "source": [
    "#check denominator data range \n",
    "twitter_archive.rating_denominator.value_counts()"
   ]
  },
  {
   "cell_type": "code",
   "execution_count": 12,
   "metadata": {},
   "outputs": [
    {
     "data": {
      "text/plain": [
       "20"
      ]
     },
     "execution_count": 12,
     "metadata": {},
     "output_type": "execute_result"
    }
   ],
   "source": [
    "#check the number of rating_denominator that exceeds the value 10\n",
    "twitter_archive[twitter_archive.rating_denominator > 10].shape[0]"
   ]
  },
  {
   "cell_type": "code",
   "execution_count": 13,
   "metadata": {},
   "outputs": [
    {
     "data": {
      "text/plain": [
       "None       745\n",
       "a          55 \n",
       "Charlie    12 \n",
       "Cooper     11 \n",
       "Oliver     11 \n",
       "           .. \n",
       "Marq       1  \n",
       "Lassie     1  \n",
       "Blakely    1  \n",
       "Jaycob     1  \n",
       "Baron      1  \n",
       "Name: name, Length: 957, dtype: int64"
      ]
     },
     "execution_count": 13,
     "metadata": {},
     "output_type": "execute_result"
    }
   ],
   "source": [
    "# check the values in name column\n",
    "twitter_archive.name.value_counts()"
   ]
  },
  {
   "cell_type": "markdown",
   "metadata": {},
   "source": [
    "the results of above check shows two interesting findings first is `None` entry with 745 occurance also there are some entries that doesn't represent dog names and the common element is starting with lowercase character. a value count of all names starting with a lowercase character showed that all of them are not dog names"
   ]
  },
  {
   "cell_type": "code",
   "execution_count": 14,
   "metadata": {},
   "outputs": [
    {
     "data": {
      "text/plain": [
       "a               55\n",
       "the             8 \n",
       "an              7 \n",
       "very            5 \n",
       "quite           4 \n",
       "one             4 \n",
       "just            4 \n",
       "actually        2 \n",
       "not             2 \n",
       "getting         2 \n",
       "mad             2 \n",
       "his             1 \n",
       "officially      1 \n",
       "such            1 \n",
       "my              1 \n",
       "life            1 \n",
       "incredibly      1 \n",
       "light           1 \n",
       "old             1 \n",
       "space           1 \n",
       "by              1 \n",
       "unacceptable    1 \n",
       "all             1 \n",
       "infuriating     1 \n",
       "this            1 \n",
       "Name: name, dtype: int64"
      ]
     },
     "execution_count": 14,
     "metadata": {},
     "output_type": "execute_result"
    }
   ],
   "source": [
    "twitter_archive.name.value_counts().iloc[[x[0].islower() for x in list(twitter_archive.name.value_counts().index)]]"
   ]
  },
  {
   "cell_type": "code",
   "execution_count": 15,
   "metadata": {},
   "outputs": [
    {
     "data": {
      "text/plain": [
       "0"
      ]
     },
     "execution_count": 15,
     "metadata": {},
     "output_type": "execute_result"
    }
   ],
   "source": [
    "#check if any duplicated records are avialable in this dataframe\n",
    "twitter_archive.duplicated().sum()"
   ]
  },
  {
   "cell_type": "markdown",
   "metadata": {},
   "source": [
    "<a id='Teval'></a>\n",
    "### 3.2 Tweets Evaluation Dataframe \n",
    "The dataframe containing the tweets interaction evaluations (i.e. retweets and favorites) are evaluated and issues are noted."
   ]
  },
  {
   "cell_type": "code",
   "execution_count": 16,
   "metadata": {},
   "outputs": [
    {
     "data": {
      "text/html": [
       "<div>\n",
       "<style scoped>\n",
       "    .dataframe tbody tr th:only-of-type {\n",
       "        vertical-align: middle;\n",
       "    }\n",
       "\n",
       "    .dataframe tbody tr th {\n",
       "        vertical-align: top;\n",
       "    }\n",
       "\n",
       "    .dataframe thead th {\n",
       "        text-align: right;\n",
       "    }\n",
       "</style>\n",
       "<table border=\"1\" class=\"dataframe\">\n",
       "  <thead>\n",
       "    <tr style=\"text-align: right;\">\n",
       "      <th></th>\n",
       "      <th>tweet_id</th>\n",
       "      <th>retweet_count</th>\n",
       "      <th>favorite_count</th>\n",
       "    </tr>\n",
       "  </thead>\n",
       "  <tbody>\n",
       "    <tr>\n",
       "      <th>116</th>\n",
       "      <td>870063196459192321</td>\n",
       "      <td>8840</td>\n",
       "      <td>37771</td>\n",
       "    </tr>\n",
       "  </tbody>\n",
       "</table>\n",
       "</div>"
      ],
      "text/plain": [
       "               tweet_id  retweet_count  favorite_count\n",
       "116  870063196459192321  8840           37771         "
      ]
     },
     "execution_count": 16,
     "metadata": {},
     "output_type": "execute_result"
    }
   ],
   "source": [
    "twitter_eval.sample()"
   ]
  },
  {
   "cell_type": "code",
   "execution_count": 17,
   "metadata": {},
   "outputs": [
    {
     "name": "stdout",
     "output_type": "stream",
     "text": [
      "<class 'pandas.core.frame.DataFrame'>\n",
      "RangeIndex: 2354 entries, 0 to 2353\n",
      "Data columns (total 3 columns):\n",
      " #   Column          Non-Null Count  Dtype\n",
      "---  ------          --------------  -----\n",
      " 0   tweet_id        2354 non-null   int64\n",
      " 1   retweet_count   2354 non-null   int64\n",
      " 2   favorite_count  2354 non-null   int64\n",
      "dtypes: int64(3)\n",
      "memory usage: 55.3 KB\n"
     ]
    }
   ],
   "source": [
    "twitter_eval.info()"
   ]
  },
  {
   "cell_type": "code",
   "execution_count": 18,
   "metadata": {},
   "outputs": [
    {
     "data": {
      "text/html": [
       "<div>\n",
       "<style scoped>\n",
       "    .dataframe tbody tr th:only-of-type {\n",
       "        vertical-align: middle;\n",
       "    }\n",
       "\n",
       "    .dataframe tbody tr th {\n",
       "        vertical-align: top;\n",
       "    }\n",
       "\n",
       "    .dataframe thead th {\n",
       "        text-align: right;\n",
       "    }\n",
       "</style>\n",
       "<table border=\"1\" class=\"dataframe\">\n",
       "  <thead>\n",
       "    <tr style=\"text-align: right;\">\n",
       "      <th></th>\n",
       "      <th>tweet_id</th>\n",
       "      <th>retweet_count</th>\n",
       "      <th>favorite_count</th>\n",
       "    </tr>\n",
       "  </thead>\n",
       "  <tbody>\n",
       "    <tr>\n",
       "      <th>count</th>\n",
       "      <td>2.354000e+03</td>\n",
       "      <td>2354.000000</td>\n",
       "      <td>2354.000000</td>\n",
       "    </tr>\n",
       "    <tr>\n",
       "      <th>mean</th>\n",
       "      <td>7.426978e+17</td>\n",
       "      <td>3164.797366</td>\n",
       "      <td>8080.968564</td>\n",
       "    </tr>\n",
       "    <tr>\n",
       "      <th>std</th>\n",
       "      <td>6.852812e+16</td>\n",
       "      <td>5284.770364</td>\n",
       "      <td>11814.771334</td>\n",
       "    </tr>\n",
       "    <tr>\n",
       "      <th>min</th>\n",
       "      <td>6.660209e+17</td>\n",
       "      <td>0.000000</td>\n",
       "      <td>0.000000</td>\n",
       "    </tr>\n",
       "    <tr>\n",
       "      <th>25%</th>\n",
       "      <td>6.783975e+17</td>\n",
       "      <td>624.500000</td>\n",
       "      <td>1415.000000</td>\n",
       "    </tr>\n",
       "    <tr>\n",
       "      <th>50%</th>\n",
       "      <td>7.194596e+17</td>\n",
       "      <td>1473.500000</td>\n",
       "      <td>3603.500000</td>\n",
       "    </tr>\n",
       "    <tr>\n",
       "      <th>75%</th>\n",
       "      <td>7.993058e+17</td>\n",
       "      <td>3652.000000</td>\n",
       "      <td>10122.250000</td>\n",
       "    </tr>\n",
       "    <tr>\n",
       "      <th>max</th>\n",
       "      <td>8.924206e+17</td>\n",
       "      <td>79515.000000</td>\n",
       "      <td>132810.000000</td>\n",
       "    </tr>\n",
       "  </tbody>\n",
       "</table>\n",
       "</div>"
      ],
      "text/plain": [
       "           tweet_id  retweet_count  favorite_count\n",
       "count  2.354000e+03  2354.000000    2354.000000   \n",
       "mean   7.426978e+17  3164.797366    8080.968564   \n",
       "std    6.852812e+16  5284.770364    11814.771334  \n",
       "min    6.660209e+17  0.000000       0.000000      \n",
       "25%    6.783975e+17  624.500000     1415.000000   \n",
       "50%    7.194596e+17  1473.500000    3603.500000   \n",
       "75%    7.993058e+17  3652.000000    10122.250000  \n",
       "max    8.924206e+17  79515.000000   132810.000000 "
      ]
     },
     "execution_count": 18,
     "metadata": {},
     "output_type": "execute_result"
    }
   ],
   "source": [
    "twitter_eval.describe()"
   ]
  },
  {
   "cell_type": "markdown",
   "metadata": {},
   "source": [
    "We need to check if every tweeter index in 'twitter_eval' dataframe is available in 'twitter_archive' dataframe"
   ]
  },
  {
   "cell_type": "code",
   "execution_count": 19,
   "metadata": {},
   "outputs": [
    {
     "data": {
      "text/plain": [
       "True"
      ]
     },
     "execution_count": 19,
     "metadata": {},
     "output_type": "execute_result"
    }
   ],
   "source": [
    "checklist1=[]\n",
    "archive_ids = list(twitter_archive.tweet_id)\n",
    "for tweet in list(twitter_eval.tweet_id):\n",
    "    checklist1.append(tweet in archive_ids)\n",
    "sum(checklist1)== twitter_eval.tweet_id.count()"
   ]
  },
  {
   "cell_type": "markdown",
   "metadata": {},
   "source": [
    "Now, we should check for tweeter id(s) that is not included in the `twitter_eval` dataframe and is included in `twitter_archive` dataframe. the results shows that the two tweets that are not included are re-tweets. these retweets will be removed anyway as they violate the schema rule of `twitter_archive` dataframe"
   ]
  },
  {
   "cell_type": "code",
   "execution_count": 20,
   "metadata": {},
   "outputs": [
    {
     "data": {
      "text/html": [
       "<div>\n",
       "<style scoped>\n",
       "    .dataframe tbody tr th:only-of-type {\n",
       "        vertical-align: middle;\n",
       "    }\n",
       "\n",
       "    .dataframe tbody tr th {\n",
       "        vertical-align: top;\n",
       "    }\n",
       "\n",
       "    .dataframe thead th {\n",
       "        text-align: right;\n",
       "    }\n",
       "</style>\n",
       "<table border=\"1\" class=\"dataframe\">\n",
       "  <thead>\n",
       "    <tr style=\"text-align: right;\">\n",
       "      <th></th>\n",
       "      <th>tweet_id</th>\n",
       "      <th>in_reply_to_status_id</th>\n",
       "      <th>in_reply_to_user_id</th>\n",
       "      <th>timestamp</th>\n",
       "      <th>source</th>\n",
       "      <th>text</th>\n",
       "      <th>retweeted_status_id</th>\n",
       "      <th>retweeted_status_user_id</th>\n",
       "      <th>retweeted_status_timestamp</th>\n",
       "      <th>expanded_urls</th>\n",
       "      <th>rating_numerator</th>\n",
       "      <th>rating_denominator</th>\n",
       "      <th>name</th>\n",
       "      <th>doggo</th>\n",
       "      <th>floofer</th>\n",
       "      <th>pupper</th>\n",
       "      <th>puppo</th>\n",
       "    </tr>\n",
       "  </thead>\n",
       "  <tbody>\n",
       "    <tr>\n",
       "      <th>19</th>\n",
       "      <td>888202515573088257</td>\n",
       "      <td>NaN</td>\n",
       "      <td>NaN</td>\n",
       "      <td>2017-07-21 01:02:36 +0000</td>\n",
       "      <td>&lt;a href=\"http://twitter.com/download/iphone\" rel=\"nofollow\"&gt;Twitter for iPhone&lt;/a&gt;</td>\n",
       "      <td>RT @dog_rates: This is Canela. She attempted some fancy porch pics. They were unsuccessful. 13/10 someone help her https://t.co/cLyzpcUcMX</td>\n",
       "      <td>8.874740e+17</td>\n",
       "      <td>4.196984e+09</td>\n",
       "      <td>2017-07-19 00:47:34 +0000</td>\n",
       "      <td>https://twitter.com/dog_rates/status/887473957103951883/photo/1,https://twitter.com/dog_rates/status/887473957103951883/photo/1,https://twitter.com/dog_rates/status/887473957103951883/photo/1,https://twitter.com/dog_rates/status/887473957103951883/photo/1</td>\n",
       "      <td>13</td>\n",
       "      <td>10</td>\n",
       "      <td>Canela</td>\n",
       "      <td>None</td>\n",
       "      <td>None</td>\n",
       "      <td>None</td>\n",
       "      <td>None</td>\n",
       "    </tr>\n",
       "    <tr>\n",
       "      <th>815</th>\n",
       "      <td>771004394259247104</td>\n",
       "      <td>NaN</td>\n",
       "      <td>NaN</td>\n",
       "      <td>2016-08-31 15:19:06 +0000</td>\n",
       "      <td>&lt;a href=\"http://twitter.com/download/iphone\" rel=\"nofollow\"&gt;Twitter for iPhone&lt;/a&gt;</td>\n",
       "      <td>RT @katieornah: @dog_rates learning a lot at college 12/10 for my professor thank u for the pupper slides https://t.co/nTFDr99hg0</td>\n",
       "      <td>7.710021e+17</td>\n",
       "      <td>1.732729e+09</td>\n",
       "      <td>2016-08-31 15:10:07 +0000</td>\n",
       "      <td>https://twitter.com/katieornah/status/771002130450743296/photo/1,https://twitter.com/katieornah/status/771002130450743296/photo/1</td>\n",
       "      <td>12</td>\n",
       "      <td>10</td>\n",
       "      <td>None</td>\n",
       "      <td>None</td>\n",
       "      <td>None</td>\n",
       "      <td>pupper</td>\n",
       "      <td>None</td>\n",
       "    </tr>\n",
       "  </tbody>\n",
       "</table>\n",
       "</div>"
      ],
      "text/plain": [
       "               tweet_id  in_reply_to_status_id  in_reply_to_user_id  \\\n",
       "19   888202515573088257 NaN                    NaN                    \n",
       "815  771004394259247104 NaN                    NaN                    \n",
       "\n",
       "                     timestamp  \\\n",
       "19   2017-07-21 01:02:36 +0000   \n",
       "815  2016-08-31 15:19:06 +0000   \n",
       "\n",
       "                                                                                 source  \\\n",
       "19   <a href=\"http://twitter.com/download/iphone\" rel=\"nofollow\">Twitter for iPhone</a>   \n",
       "815  <a href=\"http://twitter.com/download/iphone\" rel=\"nofollow\">Twitter for iPhone</a>   \n",
       "\n",
       "                                                                                                                                           text  \\\n",
       "19   RT @dog_rates: This is Canela. She attempted some fancy porch pics. They were unsuccessful. 13/10 someone help her https://t.co/cLyzpcUcMX   \n",
       "815  RT @katieornah: @dog_rates learning a lot at college 12/10 for my professor thank u for the pupper slides https://t.co/nTFDr99hg0            \n",
       "\n",
       "     retweeted_status_id  retweeted_status_user_id retweeted_status_timestamp  \\\n",
       "19   8.874740e+17         4.196984e+09              2017-07-19 00:47:34 +0000   \n",
       "815  7.710021e+17         1.732729e+09              2016-08-31 15:10:07 +0000   \n",
       "\n",
       "                                                                                                                                                                                                                                                       expanded_urls  \\\n",
       "19   https://twitter.com/dog_rates/status/887473957103951883/photo/1,https://twitter.com/dog_rates/status/887473957103951883/photo/1,https://twitter.com/dog_rates/status/887473957103951883/photo/1,https://twitter.com/dog_rates/status/887473957103951883/photo/1   \n",
       "815  https://twitter.com/katieornah/status/771002130450743296/photo/1,https://twitter.com/katieornah/status/771002130450743296/photo/1                                                                                                                                 \n",
       "\n",
       "     rating_numerator  rating_denominator    name doggo floofer  pupper puppo  \n",
       "19   13                10                  Canela  None  None    None    None  \n",
       "815  12                10                  None    None  None    pupper  None  "
      ]
     },
     "execution_count": 20,
     "metadata": {},
     "output_type": "execute_result"
    }
   ],
   "source": [
    "checklist2=[]\n",
    "eval_ids = list(twitter_eval.tweet_id)\n",
    "for tweet in list(twitter_archive.tweet_id):\n",
    "    checklist2.append(tweet not in eval_ids)\n",
    "twitter_archive[checklist2]"
   ]
  },
  {
   "cell_type": "code",
   "execution_count": 21,
   "metadata": {},
   "outputs": [
    {
     "data": {
      "text/plain": [
       "0"
      ]
     },
     "execution_count": 21,
     "metadata": {},
     "output_type": "execute_result"
    }
   ],
   "source": [
    "#check if any duplicated records are avialable in this dataframe\n",
    "twitter_eval.duplicated().sum()"
   ]
  },
  {
   "cell_type": "markdown",
   "metadata": {},
   "source": [
    "<a id='Tann'></a>\n",
    "###  3.3 Image Prediction Dataframe\n",
    "The dataframe that contains the dog breed predictions based on the images uploaded to each tweet (`twitter_ann`) is evaluated and issues are noted."
   ]
  },
  {
   "cell_type": "code",
   "execution_count": 22,
   "metadata": {},
   "outputs": [
    {
     "data": {
      "text/html": [
       "<div>\n",
       "<style scoped>\n",
       "    .dataframe tbody tr th:only-of-type {\n",
       "        vertical-align: middle;\n",
       "    }\n",
       "\n",
       "    .dataframe tbody tr th {\n",
       "        vertical-align: top;\n",
       "    }\n",
       "\n",
       "    .dataframe thead th {\n",
       "        text-align: right;\n",
       "    }\n",
       "</style>\n",
       "<table border=\"1\" class=\"dataframe\">\n",
       "  <thead>\n",
       "    <tr style=\"text-align: right;\">\n",
       "      <th></th>\n",
       "      <th>tweet_id</th>\n",
       "      <th>jpg_url</th>\n",
       "      <th>img_num</th>\n",
       "      <th>p1</th>\n",
       "      <th>p1_conf</th>\n",
       "      <th>p1_dog</th>\n",
       "      <th>p2</th>\n",
       "      <th>p2_conf</th>\n",
       "      <th>p2_dog</th>\n",
       "      <th>p3</th>\n",
       "      <th>p3_conf</th>\n",
       "      <th>p3_dog</th>\n",
       "    </tr>\n",
       "  </thead>\n",
       "  <tbody>\n",
       "    <tr>\n",
       "      <th>1937</th>\n",
       "      <td>860276583193509888</td>\n",
       "      <td>https://pbs.twimg.com/media/C_BQ_NlVwAAgYGD.jpg</td>\n",
       "      <td>1</td>\n",
       "      <td>lakeside</td>\n",
       "      <td>0.312299</td>\n",
       "      <td>False</td>\n",
       "      <td>dock</td>\n",
       "      <td>0.159842</td>\n",
       "      <td>False</td>\n",
       "      <td>canoe</td>\n",
       "      <td>0.070795</td>\n",
       "      <td>False</td>\n",
       "    </tr>\n",
       "    <tr>\n",
       "      <th>1385</th>\n",
       "      <td>766008592277377025</td>\n",
       "      <td>https://pbs.twimg.com/media/CqFouXOXYAAYpzG.jpg</td>\n",
       "      <td>1</td>\n",
       "      <td>Welsh_springer_spaniel</td>\n",
       "      <td>0.728153</td>\n",
       "      <td>True</td>\n",
       "      <td>basset</td>\n",
       "      <td>0.103842</td>\n",
       "      <td>True</td>\n",
       "      <td>Brittany_spaniel</td>\n",
       "      <td>0.062414</td>\n",
       "      <td>True</td>\n",
       "    </tr>\n",
       "    <tr>\n",
       "      <th>1192</th>\n",
       "      <td>739979191639244800</td>\n",
       "      <td>https://pbs.twimg.com/media/CkTvJTdXAAAEfbT.jpg</td>\n",
       "      <td>1</td>\n",
       "      <td>Irish_water_spaniel</td>\n",
       "      <td>0.285800</td>\n",
       "      <td>True</td>\n",
       "      <td>wig</td>\n",
       "      <td>0.240653</td>\n",
       "      <td>False</td>\n",
       "      <td>toy_poodle</td>\n",
       "      <td>0.074914</td>\n",
       "      <td>True</td>\n",
       "    </tr>\n",
       "    <tr>\n",
       "      <th>376</th>\n",
       "      <td>673148804208660480</td>\n",
       "      <td>https://pbs.twimg.com/media/CVeBQwiUsAAqhLw.jpg</td>\n",
       "      <td>1</td>\n",
       "      <td>tub</td>\n",
       "      <td>0.873010</td>\n",
       "      <td>False</td>\n",
       "      <td>bathtub</td>\n",
       "      <td>0.091434</td>\n",
       "      <td>False</td>\n",
       "      <td>toilet_seat</td>\n",
       "      <td>0.025456</td>\n",
       "      <td>False</td>\n",
       "    </tr>\n",
       "    <tr>\n",
       "      <th>810</th>\n",
       "      <td>692187005137076224</td>\n",
       "      <td>https://pbs.twimg.com/media/CZskaEIWIAUeTr5.jpg</td>\n",
       "      <td>2</td>\n",
       "      <td>Siberian_husky</td>\n",
       "      <td>0.810592</td>\n",
       "      <td>True</td>\n",
       "      <td>malamute</td>\n",
       "      <td>0.119745</td>\n",
       "      <td>True</td>\n",
       "      <td>Eskimo_dog</td>\n",
       "      <td>0.029265</td>\n",
       "      <td>True</td>\n",
       "    </tr>\n",
       "  </tbody>\n",
       "</table>\n",
       "</div>"
      ],
      "text/plain": [
       "                tweet_id                                          jpg_url  \\\n",
       "1937  860276583193509888  https://pbs.twimg.com/media/C_BQ_NlVwAAgYGD.jpg   \n",
       "1385  766008592277377025  https://pbs.twimg.com/media/CqFouXOXYAAYpzG.jpg   \n",
       "1192  739979191639244800  https://pbs.twimg.com/media/CkTvJTdXAAAEfbT.jpg   \n",
       "376   673148804208660480  https://pbs.twimg.com/media/CVeBQwiUsAAqhLw.jpg   \n",
       "810   692187005137076224  https://pbs.twimg.com/media/CZskaEIWIAUeTr5.jpg   \n",
       "\n",
       "      img_num                      p1   p1_conf  p1_dog        p2   p2_conf  \\\n",
       "1937  1        lakeside                0.312299  False   dock      0.159842   \n",
       "1385  1        Welsh_springer_spaniel  0.728153  True    basset    0.103842   \n",
       "1192  1        Irish_water_spaniel     0.285800  True    wig       0.240653   \n",
       "376   1        tub                     0.873010  False   bathtub   0.091434   \n",
       "810   2        Siberian_husky          0.810592  True    malamute  0.119745   \n",
       "\n",
       "      p2_dog                p3   p3_conf  p3_dog  \n",
       "1937  False   canoe             0.070795  False   \n",
       "1385  True    Brittany_spaniel  0.062414  True    \n",
       "1192  False   toy_poodle        0.074914  True    \n",
       "376   False   toilet_seat       0.025456  False   \n",
       "810   True    Eskimo_dog        0.029265  True    "
      ]
     },
     "execution_count": 22,
     "metadata": {},
     "output_type": "execute_result"
    }
   ],
   "source": [
    "twitter_ann.sample(5)"
   ]
  },
  {
   "cell_type": "code",
   "execution_count": 23,
   "metadata": {},
   "outputs": [
    {
     "data": {
      "text/html": [
       "<div>\n",
       "<style scoped>\n",
       "    .dataframe tbody tr th:only-of-type {\n",
       "        vertical-align: middle;\n",
       "    }\n",
       "\n",
       "    .dataframe tbody tr th {\n",
       "        vertical-align: top;\n",
       "    }\n",
       "\n",
       "    .dataframe thead th {\n",
       "        text-align: right;\n",
       "    }\n",
       "</style>\n",
       "<table border=\"1\" class=\"dataframe\">\n",
       "  <thead>\n",
       "    <tr style=\"text-align: right;\">\n",
       "      <th></th>\n",
       "      <th>tweet_id</th>\n",
       "      <th>img_num</th>\n",
       "      <th>p1_conf</th>\n",
       "      <th>p2_conf</th>\n",
       "      <th>p3_conf</th>\n",
       "    </tr>\n",
       "  </thead>\n",
       "  <tbody>\n",
       "    <tr>\n",
       "      <th>count</th>\n",
       "      <td>2.075000e+03</td>\n",
       "      <td>2075.000000</td>\n",
       "      <td>2075.000000</td>\n",
       "      <td>2.075000e+03</td>\n",
       "      <td>2.075000e+03</td>\n",
       "    </tr>\n",
       "    <tr>\n",
       "      <th>mean</th>\n",
       "      <td>7.384514e+17</td>\n",
       "      <td>1.203855</td>\n",
       "      <td>0.594548</td>\n",
       "      <td>1.345886e-01</td>\n",
       "      <td>6.032417e-02</td>\n",
       "    </tr>\n",
       "    <tr>\n",
       "      <th>std</th>\n",
       "      <td>6.785203e+16</td>\n",
       "      <td>0.561875</td>\n",
       "      <td>0.271174</td>\n",
       "      <td>1.006657e-01</td>\n",
       "      <td>5.090593e-02</td>\n",
       "    </tr>\n",
       "    <tr>\n",
       "      <th>min</th>\n",
       "      <td>6.660209e+17</td>\n",
       "      <td>1.000000</td>\n",
       "      <td>0.044333</td>\n",
       "      <td>1.011300e-08</td>\n",
       "      <td>1.740170e-10</td>\n",
       "    </tr>\n",
       "    <tr>\n",
       "      <th>25%</th>\n",
       "      <td>6.764835e+17</td>\n",
       "      <td>1.000000</td>\n",
       "      <td>0.364412</td>\n",
       "      <td>5.388625e-02</td>\n",
       "      <td>1.622240e-02</td>\n",
       "    </tr>\n",
       "    <tr>\n",
       "      <th>50%</th>\n",
       "      <td>7.119988e+17</td>\n",
       "      <td>1.000000</td>\n",
       "      <td>0.588230</td>\n",
       "      <td>1.181810e-01</td>\n",
       "      <td>4.944380e-02</td>\n",
       "    </tr>\n",
       "    <tr>\n",
       "      <th>75%</th>\n",
       "      <td>7.932034e+17</td>\n",
       "      <td>1.000000</td>\n",
       "      <td>0.843855</td>\n",
       "      <td>1.955655e-01</td>\n",
       "      <td>9.180755e-02</td>\n",
       "    </tr>\n",
       "    <tr>\n",
       "      <th>max</th>\n",
       "      <td>8.924206e+17</td>\n",
       "      <td>4.000000</td>\n",
       "      <td>1.000000</td>\n",
       "      <td>4.880140e-01</td>\n",
       "      <td>2.734190e-01</td>\n",
       "    </tr>\n",
       "  </tbody>\n",
       "</table>\n",
       "</div>"
      ],
      "text/plain": [
       "           tweet_id      img_num      p1_conf       p2_conf       p3_conf\n",
       "count  2.075000e+03  2075.000000  2075.000000  2.075000e+03  2.075000e+03\n",
       "mean   7.384514e+17  1.203855     0.594548     1.345886e-01  6.032417e-02\n",
       "std    6.785203e+16  0.561875     0.271174     1.006657e-01  5.090593e-02\n",
       "min    6.660209e+17  1.000000     0.044333     1.011300e-08  1.740170e-10\n",
       "25%    6.764835e+17  1.000000     0.364412     5.388625e-02  1.622240e-02\n",
       "50%    7.119988e+17  1.000000     0.588230     1.181810e-01  4.944380e-02\n",
       "75%    7.932034e+17  1.000000     0.843855     1.955655e-01  9.180755e-02\n",
       "max    8.924206e+17  4.000000     1.000000     4.880140e-01  2.734190e-01"
      ]
     },
     "execution_count": 23,
     "metadata": {},
     "output_type": "execute_result"
    }
   ],
   "source": [
    "twitter_ann.describe()"
   ]
  },
  {
   "cell_type": "code",
   "execution_count": 24,
   "metadata": {},
   "outputs": [
    {
     "data": {
      "text/plain": [
       "True"
      ]
     },
     "execution_count": 24,
     "metadata": {},
     "output_type": "execute_result"
    }
   ],
   "source": [
    "#check if all tweet_id in twitter_ann is available in twitter_archive dataframe\n",
    "checklist3=[]\n",
    "archive_ids = list(twitter_archive.tweet_id)\n",
    "for tweet in list(twitter_ann.tweet_id):\n",
    "    checklist3.append(tweet in archive_ids)\n",
    "sum(checklist3)== twitter_ann.tweet_id.count()"
   ]
  },
  {
   "cell_type": "code",
   "execution_count": 25,
   "metadata": {},
   "outputs": [
    {
     "data": {
      "text/plain": [
       "0"
      ]
     },
     "execution_count": 25,
     "metadata": {},
     "output_type": "execute_result"
    }
   ],
   "source": [
    "#check if any duplicated records are avialable in this dataframe\n",
    "twitter_ann.duplicated().sum()"
   ]
  },
  {
   "cell_type": "markdown",
   "metadata": {},
   "source": [
    "<a id='AssessSummary'></a>\n",
    "###  3.4 Issues Summary\n",
    "Below is a summary of all data quality and tidiness issues found in the three dataframes.\n",
    "\n",
    "#### 3.4.1 quality issues\n",
    "##### 3.4.1.1 `twitter_archive` dataframe\n",
    "`timestamp` column has a data type of a string while it should be a datetime object.<br>\n",
    "`timestamp` column doesn't have proper timestamp structure.<br>\n",
    "`retweeted_status_timestamp`column has a data type of a string while it should be a datetime object.<br>\n",
    "`twitter_id` column has a `int64` data type where it should be a string.<br>\n",
    "`retweeted_status_id` shows some tweets that shows retweets violating the schema rule of this database (only original tweets).<br>\n",
    "`in_reply_to_status_id` shows some tweets that shows retweets violating the schema rule of this database (only original tweets).<br>\n",
    "`rating_numerator` column is equal to zero in two tweets.<br>\n",
    "`rating_denominator` column has values that needs further investigation. values greater than 10(20 tweets) & values equal to zero.<br>\n",
    "`name` column has names that can't be dog names. all of these names starts with a lowercase character except None entry.<br>\n",
    "`twitter_id` contains some records that doesn't have images which violates dataframe schema.<br>\n",
    "`expanded_urls` has missing records.<br>\n",
    "##### 3.4.1.2 `twitter_eval` dataframe\n",
    "`twitter_id` column has a `int64` data type while it should be a string.<br>\n",
    "##### 3.4.1.3 `twitter_ann` dataframe\n",
    "`twitter_id` column has a `int64` data type while it should be a string.<br>\n",
    "`twitter_id` column has records representing retweets or replies. This issue was detected during cleaning process.<br>\n",
    "\n",
    "#### 3.4.2 tidiness issues\n",
    "##### 3.4.2.1 `twitter_archive` dataframe\n",
    "`doggo`, `floofer`, `pupper` & `puppo` column names are values. column name should be a variable not values.<br>\n",
    "`text` column has a text and url in it. every column should have one variable<br>\n",
    "##### 3.4.2.2 `twitter_eval` dataframe\n",
    "this dataframe forms a single observational unit with  `twitter_archive` dataframe.<br>\n",
    "##### 3.4.2.3 `twitter_ann` dataframe\n",
    "the structure of the dataframe is not tidy. `p*`, `P*_conf`, `P*_dog` can be re-arranged to represent more clear variables.<br>"
   ]
  },
  {
   "cell_type": "markdown",
   "metadata": {},
   "source": [
    "<a id='clean'></a>\n",
    "## 4. Data Cleaning\n",
    "The previous data quality and tidiness issues previously discovered in the three dataframes are resolved in this section. The data cleaning process starts with copy the initial state of all dataframes. Then, each issue is resolved in a define, code and test schema. The first part of this schema defines the issues and how it will be solved. The second part is coding the solution and run this code. Finally, the data is reviewed to ensure the desired modification has been made.\n",
    "\n",
    "### 4.1 save & copy dataframes\n",
    "the first step of this analysis is to save the collected dataframe in the uncleaned status as `.csv` files and make copy of it in the jupyter notebook to start cleaning process."
   ]
  },
  {
   "cell_type": "code",
   "execution_count": 26,
   "metadata": {},
   "outputs": [],
   "source": [
    "# saving initial dataframes as back-up\n",
    "twitter_archive.to_csv('twitter_archive.csv',index = False)\n",
    "twitter_eval.to_csv('twitter_eval.csv',index=False)\n",
    "twitter_ann.to_csv('twitter_ann.csv',index=False)\n",
    "# copying the initial data frames into new dataframes with short names\n",
    "archive = twitter_archive.copy()\n",
    "share = twitter_eval.copy()\n",
    "image = twitter_ann.copy()"
   ]
  },
  {
   "cell_type": "markdown",
   "metadata": {},
   "source": [
    "### 4.2 Join `archive` & `share` dataframes (solve 1 tidiness issue)\n",
    "#### Define\n",
    "the first step of cleaning process was selected to be solving the tidiness issue of `twitter_eval` dataframe by merging it with the `twitter_archive` dataframe. the selected merging method is `inner` on `tweet_id` column. this will remove two records from the `twitter_archive` dataframe which doesn't have `retweet_count` & `favorite_count`. these two records will be removed anyways as they have data validity issues being retweets and not original tweets."
   ]
  },
  {
   "cell_type": "markdown",
   "metadata": {},
   "source": [
    "#### Code"
   ]
  },
  {
   "cell_type": "code",
   "execution_count": 27,
   "metadata": {},
   "outputs": [],
   "source": [
    "archive = pd.merge(archive,share,how='inner',on='tweet_id')"
   ]
  },
  {
   "cell_type": "markdown",
   "metadata": {},
   "source": [
    "#### Test"
   ]
  },
  {
   "cell_type": "code",
   "execution_count": 28,
   "metadata": {},
   "outputs": [
    {
     "name": "stdout",
     "output_type": "stream",
     "text": [
      "<class 'pandas.core.frame.DataFrame'>\n",
      "Int64Index: 2354 entries, 0 to 2353\n",
      "Data columns (total 19 columns):\n",
      " #   Column                      Non-Null Count  Dtype  \n",
      "---  ------                      --------------  -----  \n",
      " 0   tweet_id                    2354 non-null   int64  \n",
      " 1   in_reply_to_status_id       78 non-null     float64\n",
      " 2   in_reply_to_user_id         78 non-null     float64\n",
      " 3   timestamp                   2354 non-null   object \n",
      " 4   source                      2354 non-null   object \n",
      " 5   text                        2354 non-null   object \n",
      " 6   retweeted_status_id         179 non-null    float64\n",
      " 7   retweeted_status_user_id    179 non-null    float64\n",
      " 8   retweeted_status_timestamp  179 non-null    object \n",
      " 9   expanded_urls               2295 non-null   object \n",
      " 10  rating_numerator            2354 non-null   int64  \n",
      " 11  rating_denominator          2354 non-null   int64  \n",
      " 12  name                        2354 non-null   object \n",
      " 13  doggo                       2354 non-null   object \n",
      " 14  floofer                     2354 non-null   object \n",
      " 15  pupper                      2354 non-null   object \n",
      " 16  puppo                       2354 non-null   object \n",
      " 17  retweet_count               2354 non-null   int64  \n",
      " 18  favorite_count              2354 non-null   int64  \n",
      "dtypes: float64(4), int64(5), object(10)\n",
      "memory usage: 367.8+ KB\n"
     ]
    }
   ],
   "source": [
    "archive.info()"
   ]
  },
  {
   "cell_type": "markdown",
   "metadata": {},
   "source": [
    "as it is shown in the `info()` method of the clean `archive` dataframe that the total number of entries is now `2354` and the number of non-null entries in `retweeted_status_id` was decreased by `2` "
   ]
  },
  {
   "cell_type": "markdown",
   "metadata": {},
   "source": [
    "### 4.3 remove retweets & replies (solve 2 quality issues: data validity)\n",
    "#### Define\n",
    "this cleaning step was considered to remove the records that represent retweets and replies as they are not original tweets. These records violate the dataframe schema & considered data quality issue with data validity dimension. The removal was performed with logical slicing using `.isnull()` method."
   ]
  },
  {
   "cell_type": "markdown",
   "metadata": {},
   "source": [
    "#### Code"
   ]
  },
  {
   "cell_type": "code",
   "execution_count": 29,
   "metadata": {},
   "outputs": [],
   "source": [
    "archive=archive[archive.retweeted_status_id.isnull()]"
   ]
  },
  {
   "cell_type": "markdown",
   "metadata": {},
   "source": [
    "#### Test"
   ]
  },
  {
   "cell_type": "code",
   "execution_count": 30,
   "metadata": {},
   "outputs": [
    {
     "name": "stdout",
     "output_type": "stream",
     "text": [
      "<class 'pandas.core.frame.DataFrame'>\n",
      "Int64Index: 2175 entries, 0 to 2353\n",
      "Data columns (total 19 columns):\n",
      " #   Column                      Non-Null Count  Dtype  \n",
      "---  ------                      --------------  -----  \n",
      " 0   tweet_id                    2175 non-null   int64  \n",
      " 1   in_reply_to_status_id       78 non-null     float64\n",
      " 2   in_reply_to_user_id         78 non-null     float64\n",
      " 3   timestamp                   2175 non-null   object \n",
      " 4   source                      2175 non-null   object \n",
      " 5   text                        2175 non-null   object \n",
      " 6   retweeted_status_id         0 non-null      float64\n",
      " 7   retweeted_status_user_id    0 non-null      float64\n",
      " 8   retweeted_status_timestamp  0 non-null      object \n",
      " 9   expanded_urls               2117 non-null   object \n",
      " 10  rating_numerator            2175 non-null   int64  \n",
      " 11  rating_denominator          2175 non-null   int64  \n",
      " 12  name                        2175 non-null   object \n",
      " 13  doggo                       2175 non-null   object \n",
      " 14  floofer                     2175 non-null   object \n",
      " 15  pupper                      2175 non-null   object \n",
      " 16  puppo                       2175 non-null   object \n",
      " 17  retweet_count               2175 non-null   int64  \n",
      " 18  favorite_count              2175 non-null   int64  \n",
      "dtypes: float64(4), int64(5), object(10)\n",
      "memory usage: 339.8+ KB\n"
     ]
    }
   ],
   "source": [
    "archive.info()"
   ]
  },
  {
   "cell_type": "markdown",
   "metadata": {},
   "source": [
    "#### Define"
   ]
  },
  {
   "cell_type": "markdown",
   "metadata": {},
   "source": [
    "The `retweeted_status_id`, `retweeted_status_user_id` & `retweeted_status_timestamp` are no longer needed in the dataframe & should be removed using `.drop()` method."
   ]
  },
  {
   "cell_type": "markdown",
   "metadata": {},
   "source": [
    "#### Code"
   ]
  },
  {
   "cell_type": "code",
   "execution_count": 31,
   "metadata": {},
   "outputs": [],
   "source": [
    "archive.drop(columns=['retweeted_status_id','retweeted_status_user_id','retweeted_status_timestamp'],inplace=True)"
   ]
  },
  {
   "cell_type": "markdown",
   "metadata": {},
   "source": [
    "#### Test"
   ]
  },
  {
   "cell_type": "code",
   "execution_count": 32,
   "metadata": {},
   "outputs": [
    {
     "name": "stdout",
     "output_type": "stream",
     "text": [
      "<class 'pandas.core.frame.DataFrame'>\n",
      "Int64Index: 2175 entries, 0 to 2353\n",
      "Data columns (total 16 columns):\n",
      " #   Column                 Non-Null Count  Dtype  \n",
      "---  ------                 --------------  -----  \n",
      " 0   tweet_id               2175 non-null   int64  \n",
      " 1   in_reply_to_status_id  78 non-null     float64\n",
      " 2   in_reply_to_user_id    78 non-null     float64\n",
      " 3   timestamp              2175 non-null   object \n",
      " 4   source                 2175 non-null   object \n",
      " 5   text                   2175 non-null   object \n",
      " 6   expanded_urls          2117 non-null   object \n",
      " 7   rating_numerator       2175 non-null   int64  \n",
      " 8   rating_denominator     2175 non-null   int64  \n",
      " 9   name                   2175 non-null   object \n",
      " 10  doggo                  2175 non-null   object \n",
      " 11  floofer                2175 non-null   object \n",
      " 12  pupper                 2175 non-null   object \n",
      " 13  puppo                  2175 non-null   object \n",
      " 14  retweet_count          2175 non-null   int64  \n",
      " 15  favorite_count         2175 non-null   int64  \n",
      "dtypes: float64(2), int64(5), object(9)\n",
      "memory usage: 288.9+ KB\n"
     ]
    }
   ],
   "source": [
    "archive.info()"
   ]
  },
  {
   "cell_type": "markdown",
   "metadata": {},
   "source": [
    "#### Define\n",
    "As it's shown in the `.info()` method result above, we still have 78 records that are not original tweets, they are replies. The same previous step is repeated using the `.isnull()` method. "
   ]
  },
  {
   "cell_type": "markdown",
   "metadata": {},
   "source": [
    "#### Code"
   ]
  },
  {
   "cell_type": "code",
   "execution_count": 33,
   "metadata": {},
   "outputs": [],
   "source": [
    "archive=archive[archive.in_reply_to_status_id.isnull()]"
   ]
  },
  {
   "cell_type": "markdown",
   "metadata": {},
   "source": [
    "#### Test"
   ]
  },
  {
   "cell_type": "code",
   "execution_count": 34,
   "metadata": {},
   "outputs": [
    {
     "name": "stdout",
     "output_type": "stream",
     "text": [
      "<class 'pandas.core.frame.DataFrame'>\n",
      "Int64Index: 2097 entries, 0 to 2353\n",
      "Data columns (total 16 columns):\n",
      " #   Column                 Non-Null Count  Dtype  \n",
      "---  ------                 --------------  -----  \n",
      " 0   tweet_id               2097 non-null   int64  \n",
      " 1   in_reply_to_status_id  0 non-null      float64\n",
      " 2   in_reply_to_user_id    0 non-null      float64\n",
      " 3   timestamp              2097 non-null   object \n",
      " 4   source                 2097 non-null   object \n",
      " 5   text                   2097 non-null   object \n",
      " 6   expanded_urls          2094 non-null   object \n",
      " 7   rating_numerator       2097 non-null   int64  \n",
      " 8   rating_denominator     2097 non-null   int64  \n",
      " 9   name                   2097 non-null   object \n",
      " 10  doggo                  2097 non-null   object \n",
      " 11  floofer                2097 non-null   object \n",
      " 12  pupper                 2097 non-null   object \n",
      " 13  puppo                  2097 non-null   object \n",
      " 14  retweet_count          2097 non-null   int64  \n",
      " 15  favorite_count         2097 non-null   int64  \n",
      "dtypes: float64(2), int64(5), object(9)\n",
      "memory usage: 278.5+ KB\n"
     ]
    }
   ],
   "source": [
    "archive.info()"
   ]
  },
  {
   "cell_type": "markdown",
   "metadata": {},
   "source": [
    "#### Define\n",
    "the `in_reply_to_status_id`,`in_reply_to_user_id` are no longer needed in the dataframe & should be removed."
   ]
  },
  {
   "cell_type": "markdown",
   "metadata": {},
   "source": [
    "#### Code"
   ]
  },
  {
   "cell_type": "code",
   "execution_count": 35,
   "metadata": {},
   "outputs": [],
   "source": [
    "archive.drop(columns=['in_reply_to_status_id','in_reply_to_user_id'],inplace=True)"
   ]
  },
  {
   "cell_type": "markdown",
   "metadata": {},
   "source": [
    "#### Test"
   ]
  },
  {
   "cell_type": "code",
   "execution_count": 36,
   "metadata": {},
   "outputs": [
    {
     "name": "stdout",
     "output_type": "stream",
     "text": [
      "<class 'pandas.core.frame.DataFrame'>\n",
      "Int64Index: 2097 entries, 0 to 2353\n",
      "Data columns (total 14 columns):\n",
      " #   Column              Non-Null Count  Dtype \n",
      "---  ------              --------------  ----- \n",
      " 0   tweet_id            2097 non-null   int64 \n",
      " 1   timestamp           2097 non-null   object\n",
      " 2   source              2097 non-null   object\n",
      " 3   text                2097 non-null   object\n",
      " 4   expanded_urls       2094 non-null   object\n",
      " 5   rating_numerator    2097 non-null   int64 \n",
      " 6   rating_denominator  2097 non-null   int64 \n",
      " 7   name                2097 non-null   object\n",
      " 8   doggo               2097 non-null   object\n",
      " 9   floofer             2097 non-null   object\n",
      " 10  pupper              2097 non-null   object\n",
      " 11  puppo               2097 non-null   object\n",
      " 12  retweet_count       2097 non-null   int64 \n",
      " 13  favorite_count      2097 non-null   int64 \n",
      "dtypes: int64(5), object(9)\n",
      "memory usage: 245.7+ KB\n"
     ]
    }
   ],
   "source": [
    "archive.info()"
   ]
  },
  {
   "cell_type": "markdown",
   "metadata": {},
   "source": [
    "### 4.4 remove tweets without images in `archive` dataframe (solve 1 quality issue: data validity)\n",
    "#### Define\n",
    "the clean `archive` dataframe now has 2097 original tweets. the next step is to check which of these tweets has images in the `image` dataframe. tweets without images is considered a data quality issue and should be removed. A logical mask is created as `True` for tweets that exist in both dataframe & `False` elsewhere. Then, logical slicing is applied to remove the `False` records."
   ]
  },
  {
   "cell_type": "markdown",
   "metadata": {},
   "source": [
    "#### Code"
   ]
  },
  {
   "cell_type": "code",
   "execution_count": 37,
   "metadata": {},
   "outputs": [],
   "source": [
    "#create a boolan list of tweets where it's True if the tweet is in the image dataframe and False elsewhere.\n",
    "original_tweet = list(archive.tweet_id)\n",
    "checklist4 = []\n",
    "for tweet in original_tweet:\n",
    "    checklist4.append(tweet in list(image.tweet_id))\n",
    "\n",
    "#remove tweets without image from archive dataframe\n",
    "archive = archive.iloc[checklist4]"
   ]
  },
  {
   "cell_type": "markdown",
   "metadata": {},
   "source": [
    "#### Test"
   ]
  },
  {
   "cell_type": "code",
   "execution_count": 38,
   "metadata": {},
   "outputs": [
    {
     "name": "stdout",
     "output_type": "stream",
     "text": [
      "<class 'pandas.core.frame.DataFrame'>\n",
      "Int64Index: 1971 entries, 0 to 2353\n",
      "Data columns (total 14 columns):\n",
      " #   Column              Non-Null Count  Dtype \n",
      "---  ------              --------------  ----- \n",
      " 0   tweet_id            1971 non-null   int64 \n",
      " 1   timestamp           1971 non-null   object\n",
      " 2   source              1971 non-null   object\n",
      " 3   text                1971 non-null   object\n",
      " 4   expanded_urls       1971 non-null   object\n",
      " 5   rating_numerator    1971 non-null   int64 \n",
      " 6   rating_denominator  1971 non-null   int64 \n",
      " 7   name                1971 non-null   object\n",
      " 8   doggo               1971 non-null   object\n",
      " 9   floofer             1971 non-null   object\n",
      " 10  pupper              1971 non-null   object\n",
      " 11  puppo               1971 non-null   object\n",
      " 12  retweet_count       1971 non-null   int64 \n",
      " 13  favorite_count      1971 non-null   int64 \n",
      "dtypes: int64(5), object(9)\n",
      "memory usage: 231.0+ KB\n"
     ]
    }
   ],
   "source": [
    "archive.info()"
   ]
  },
  {
   "cell_type": "markdown",
   "metadata": {},
   "source": [
    "It is worth noting that the incompleteness issue of `expanded_urls` column doesn't exist anymore after solving the previous data validity issues"
   ]
  },
  {
   "cell_type": "markdown",
   "metadata": {},
   "source": [
    "### 4.5 remove retweets & replies from  `image` dataframe (solve 1 quality issue: data validity)\n",
    "#### Define\n",
    "As it is noticed, the `archive` dataframe now has 1971 records of valid tweets (i.e. original tweets with images) while the `image` dataframe has 2075 records of tweets with images. This indicates a quality issue of data validity. the records in `image` dataframe that are not original tweets must be removed to assist the anticipated analysis effort. The same previous logical slicing is repeated to exclude records in `image` dataframe that doesn't exist in `archive` dataframe."
   ]
  },
  {
   "cell_type": "markdown",
   "metadata": {},
   "source": [
    "#### Code"
   ]
  },
  {
   "cell_type": "code",
   "execution_count": 39,
   "metadata": {},
   "outputs": [],
   "source": [
    "#Mark the valid tweets in `image` dataframe\n",
    "valid_tweet = list(archive.tweet_id)\n",
    "checklist5 = []\n",
    "for tweet in list(image.tweet_id):\n",
    "    checklist5.append(tweet in valid_tweet)\n",
    "\n",
    "#Remove invalid records from `image` dataframe\n",
    "image = image.iloc[checklist5]"
   ]
  },
  {
   "cell_type": "markdown",
   "metadata": {},
   "source": [
    "#### Test"
   ]
  },
  {
   "cell_type": "code",
   "execution_count": 40,
   "metadata": {},
   "outputs": [
    {
     "name": "stdout",
     "output_type": "stream",
     "text": [
      "<class 'pandas.core.frame.DataFrame'>\n",
      "Int64Index: 1971 entries, 0 to 2074\n",
      "Data columns (total 12 columns):\n",
      " #   Column    Non-Null Count  Dtype  \n",
      "---  ------    --------------  -----  \n",
      " 0   tweet_id  1971 non-null   int64  \n",
      " 1   jpg_url   1971 non-null   object \n",
      " 2   img_num   1971 non-null   int64  \n",
      " 3   p1        1971 non-null   object \n",
      " 4   p1_conf   1971 non-null   float64\n",
      " 5   p1_dog    1971 non-null   bool   \n",
      " 6   p2        1971 non-null   object \n",
      " 7   p2_conf   1971 non-null   float64\n",
      " 8   p2_dog    1971 non-null   bool   \n",
      " 9   p3        1971 non-null   object \n",
      " 10  p3_conf   1971 non-null   float64\n",
      " 11  p3_dog    1971 non-null   bool   \n",
      "dtypes: bool(3), float64(3), int64(2), object(4)\n",
      "memory usage: 159.8+ KB\n"
     ]
    }
   ],
   "source": [
    "image.info()"
   ]
  },
  {
   "cell_type": "markdown",
   "metadata": {},
   "source": [
    "### 4.6 modify `doggo`, `floofer`, `pupper` & `puppo` to represent variable not value (solve 1 tidiness issue)\n",
    "Before performing this step, further investigation will be performed. A subset of the original `archive` dataframe is created. Then, a `age_count` column is created to count the age categories assigned to each tweet using the data given in `doggo`, `floofer`, `pupper` & `puppo` columns."
   ]
  },
  {
   "cell_type": "code",
   "execution_count": 41,
   "metadata": {},
   "outputs": [
    {
     "data": {
      "text/plain": [
       "0    1668\n",
       "1    293 \n",
       "2    10  \n",
       "Name: age_count, dtype: int64"
      ]
     },
     "execution_count": 41,
     "metadata": {},
     "output_type": "execute_result"
    }
   ],
   "source": [
    "#create a sub_dataframe from `archive` dataframe\n",
    "archive_sub1=archive[['tweet_id','text','doggo','floofer','pupper','puppo']]\n",
    "#count the number of dog_age terms assigned to each tweet\n",
    "age_count = []\n",
    "for index, row in archive_sub1.iterrows():\n",
    "    count = bool(row['doggo']!='None')+bool(row['floofer']!='None')+bool(row['pupper']!='None')+bool(row['puppo']!='None')\n",
    "    age_count.append(count)\n",
    "archive_sub1['age_count']=age_count\n",
    "archive_sub1.age_count.value_counts()"
   ]
  },
  {
   "cell_type": "markdown",
   "metadata": {},
   "source": [
    "The previous analysis shows that 1668 tweets with no age term, 10 tweets with two age terms & 293 tweets with one age term. in the next two cells we will visualize 5 of the tweets  with no age category & with two age category to visually evaluate the tweet text"
   ]
  },
  {
   "cell_type": "code",
   "execution_count": 42,
   "metadata": {},
   "outputs": [
    {
     "data": {
      "text/html": [
       "<div>\n",
       "<style scoped>\n",
       "    .dataframe tbody tr th:only-of-type {\n",
       "        vertical-align: middle;\n",
       "    }\n",
       "\n",
       "    .dataframe tbody tr th {\n",
       "        vertical-align: top;\n",
       "    }\n",
       "\n",
       "    .dataframe thead th {\n",
       "        text-align: right;\n",
       "    }\n",
       "</style>\n",
       "<table border=\"1\" class=\"dataframe\">\n",
       "  <thead>\n",
       "    <tr style=\"text-align: right;\">\n",
       "      <th></th>\n",
       "      <th>tweet_id</th>\n",
       "      <th>text</th>\n",
       "      <th>doggo</th>\n",
       "      <th>floofer</th>\n",
       "      <th>pupper</th>\n",
       "      <th>puppo</th>\n",
       "      <th>age_count</th>\n",
       "    </tr>\n",
       "  </thead>\n",
       "  <tbody>\n",
       "    <tr>\n",
       "      <th>190</th>\n",
       "      <td>855851453814013952</td>\n",
       "      <td>Here's a puppo participating in the #ScienceMarch. Cleverly disguising her own doggo agenda. 13/10 would keep the planet habitable for https://t.co/cMhq16isel</td>\n",
       "      <td>doggo</td>\n",
       "      <td>None</td>\n",
       "      <td>None</td>\n",
       "      <td>puppo</td>\n",
       "      <td>2</td>\n",
       "    </tr>\n",
       "    <tr>\n",
       "      <th>199</th>\n",
       "      <td>854010172552949760</td>\n",
       "      <td>At first I thought this was a shy doggo, but it's actually a Rare Canadian Floofer Owl. Amateurs would confuse the two. 11/10 only send dogs https://t.co/TXdT3tmuYk</td>\n",
       "      <td>doggo</td>\n",
       "      <td>floofer</td>\n",
       "      <td>None</td>\n",
       "      <td>None</td>\n",
       "      <td>2</td>\n",
       "    </tr>\n",
       "    <tr>\n",
       "      <th>459</th>\n",
       "      <td>817777686764523521</td>\n",
       "      <td>This is Dido. She's playing the lead role in \"Pupper Stops to Catch Snow Before Resuming Shadow Box with Dried Apple.\" 13/10 (IG: didodoggo) https://t.co/m7isZrOBX7</td>\n",
       "      <td>doggo</td>\n",
       "      <td>None</td>\n",
       "      <td>pupper</td>\n",
       "      <td>None</td>\n",
       "      <td>2</td>\n",
       "    </tr>\n",
       "    <tr>\n",
       "      <th>530</th>\n",
       "      <td>808106460588765185</td>\n",
       "      <td>Here we have Burke (pupper) and Dexter (doggo). Pupper wants to be exactly like doggo. Both 12/10 would pet at same time https://t.co/ANBpEYHaho</td>\n",
       "      <td>doggo</td>\n",
       "      <td>None</td>\n",
       "      <td>pupper</td>\n",
       "      <td>None</td>\n",
       "      <td>2</td>\n",
       "    </tr>\n",
       "    <tr>\n",
       "      <th>574</th>\n",
       "      <td>801115127852503040</td>\n",
       "      <td>This is Bones. He's being haunted by another doggo of roughly the same size. 12/10 deep breaths pupper everything's fine https://t.co/55Dqe0SJNj</td>\n",
       "      <td>doggo</td>\n",
       "      <td>None</td>\n",
       "      <td>pupper</td>\n",
       "      <td>None</td>\n",
       "      <td>2</td>\n",
       "    </tr>\n",
       "    <tr>\n",
       "      <th>704</th>\n",
       "      <td>785639753186217984</td>\n",
       "      <td>This is Pinot. He's a sophisticated doggo. You can tell by the hat. Also pointier than your average pupper. Still 10/10 would pet cautiously https://t.co/f2wmLZTPHd</td>\n",
       "      <td>doggo</td>\n",
       "      <td>None</td>\n",
       "      <td>pupper</td>\n",
       "      <td>None</td>\n",
       "      <td>2</td>\n",
       "    </tr>\n",
       "    <tr>\n",
       "      <th>887</th>\n",
       "      <td>759793422261743616</td>\n",
       "      <td>Meet Maggie &amp;amp; Lila. Maggie is the doggo, Lila is the pupper. They are sisters. Both 12/10 would pet at the same time https://t.co/MYwR4DQKll</td>\n",
       "      <td>doggo</td>\n",
       "      <td>None</td>\n",
       "      <td>pupper</td>\n",
       "      <td>None</td>\n",
       "      <td>2</td>\n",
       "    </tr>\n",
       "    <tr>\n",
       "      <th>954</th>\n",
       "      <td>751583847268179968</td>\n",
       "      <td>Please stop sending it pictures that don't even have a doggo or pupper in them. Churlish af. 5/10 neat couch tho https://t.co/u2c9c7qSg8</td>\n",
       "      <td>doggo</td>\n",
       "      <td>None</td>\n",
       "      <td>pupper</td>\n",
       "      <td>None</td>\n",
       "      <td>2</td>\n",
       "    </tr>\n",
       "    <tr>\n",
       "      <th>1061</th>\n",
       "      <td>741067306818797568</td>\n",
       "      <td>This is just downright precious af. 12/10 for both pupper and doggo https://t.co/o5J479bZUC</td>\n",
       "      <td>doggo</td>\n",
       "      <td>None</td>\n",
       "      <td>pupper</td>\n",
       "      <td>None</td>\n",
       "      <td>2</td>\n",
       "    </tr>\n",
       "    <tr>\n",
       "      <th>1111</th>\n",
       "      <td>733109485275860992</td>\n",
       "      <td>Like father (doggo), like son (pupper). Both 12/10 https://t.co/pG2inLaOda</td>\n",
       "      <td>doggo</td>\n",
       "      <td>None</td>\n",
       "      <td>pupper</td>\n",
       "      <td>None</td>\n",
       "      <td>2</td>\n",
       "    </tr>\n",
       "  </tbody>\n",
       "</table>\n",
       "</div>"
      ],
      "text/plain": [
       "                tweet_id  \\\n",
       "190   855851453814013952   \n",
       "199   854010172552949760   \n",
       "459   817777686764523521   \n",
       "530   808106460588765185   \n",
       "574   801115127852503040   \n",
       "704   785639753186217984   \n",
       "887   759793422261743616   \n",
       "954   751583847268179968   \n",
       "1061  741067306818797568   \n",
       "1111  733109485275860992   \n",
       "\n",
       "                                                                                                                                                                      text  \\\n",
       "190   Here's a puppo participating in the #ScienceMarch. Cleverly disguising her own doggo agenda. 13/10 would keep the planet habitable for https://t.co/cMhq16isel         \n",
       "199   At first I thought this was a shy doggo, but it's actually a Rare Canadian Floofer Owl. Amateurs would confuse the two. 11/10 only send dogs https://t.co/TXdT3tmuYk   \n",
       "459   This is Dido. She's playing the lead role in \"Pupper Stops to Catch Snow Before Resuming Shadow Box with Dried Apple.\" 13/10 (IG: didodoggo) https://t.co/m7isZrOBX7   \n",
       "530   Here we have Burke (pupper) and Dexter (doggo). Pupper wants to be exactly like doggo. Both 12/10 would pet at same time https://t.co/ANBpEYHaho                       \n",
       "574   This is Bones. He's being haunted by another doggo of roughly the same size. 12/10 deep breaths pupper everything's fine https://t.co/55Dqe0SJNj                       \n",
       "704   This is Pinot. He's a sophisticated doggo. You can tell by the hat. Also pointier than your average pupper. Still 10/10 would pet cautiously https://t.co/f2wmLZTPHd   \n",
       "887   Meet Maggie &amp; Lila. Maggie is the doggo, Lila is the pupper. They are sisters. Both 12/10 would pet at the same time https://t.co/MYwR4DQKll                       \n",
       "954   Please stop sending it pictures that don't even have a doggo or pupper in them. Churlish af. 5/10 neat couch tho https://t.co/u2c9c7qSg8                               \n",
       "1061  This is just downright precious af. 12/10 for both pupper and doggo https://t.co/o5J479bZUC                                                                            \n",
       "1111  Like father (doggo), like son (pupper). Both 12/10 https://t.co/pG2inLaOda                                                                                             \n",
       "\n",
       "      doggo  floofer  pupper  puppo  age_count  \n",
       "190   doggo  None     None    puppo  2          \n",
       "199   doggo  floofer  None    None   2          \n",
       "459   doggo  None     pupper  None   2          \n",
       "530   doggo  None     pupper  None   2          \n",
       "574   doggo  None     pupper  None   2          \n",
       "704   doggo  None     pupper  None   2          \n",
       "887   doggo  None     pupper  None   2          \n",
       "954   doggo  None     pupper  None   2          \n",
       "1061  doggo  None     pupper  None   2          \n",
       "1111  doggo  None     pupper  None   2          "
      ]
     },
     "execution_count": 42,
     "metadata": {},
     "output_type": "execute_result"
    }
   ],
   "source": [
    "archive_sub1[archive_sub1.age_count==2]"
   ]
  },
  {
   "cell_type": "markdown",
   "metadata": {},
   "source": [
    "Reviewing the tweet text alongside with the count, reveals that these tweets either contains two dogs or contains a dog with two age categories assigned. for sake of better representation, the two age categories will be joined and separated by `_`. Next step is to review tweets with no age categories"
   ]
  },
  {
   "cell_type": "code",
   "execution_count": 43,
   "metadata": {},
   "outputs": [
    {
     "data": {
      "text/html": [
       "<div>\n",
       "<style scoped>\n",
       "    .dataframe tbody tr th:only-of-type {\n",
       "        vertical-align: middle;\n",
       "    }\n",
       "\n",
       "    .dataframe tbody tr th {\n",
       "        vertical-align: top;\n",
       "    }\n",
       "\n",
       "    .dataframe thead th {\n",
       "        text-align: right;\n",
       "    }\n",
       "</style>\n",
       "<table border=\"1\" class=\"dataframe\">\n",
       "  <thead>\n",
       "    <tr style=\"text-align: right;\">\n",
       "      <th></th>\n",
       "      <th>tweet_id</th>\n",
       "      <th>text</th>\n",
       "      <th>doggo</th>\n",
       "      <th>floofer</th>\n",
       "      <th>pupper</th>\n",
       "      <th>puppo</th>\n",
       "      <th>age_count</th>\n",
       "    </tr>\n",
       "  </thead>\n",
       "  <tbody>\n",
       "    <tr>\n",
       "      <th>0</th>\n",
       "      <td>892420643555336193</td>\n",
       "      <td>This is Phineas. He's a mystical boy. Only ever appears in the hole of a donut. 13/10 https://t.co/MgUWQ76dJU</td>\n",
       "      <td>None</td>\n",
       "      <td>None</td>\n",
       "      <td>None</td>\n",
       "      <td>None</td>\n",
       "      <td>0</td>\n",
       "    </tr>\n",
       "    <tr>\n",
       "      <th>1</th>\n",
       "      <td>892177421306343426</td>\n",
       "      <td>This is Tilly. She's just checking pup on you. Hopes you're doing ok. If not, she's available for pats, snugs, boops, the whole bit. 13/10 https://t.co/0Xxu71qeIV</td>\n",
       "      <td>None</td>\n",
       "      <td>None</td>\n",
       "      <td>None</td>\n",
       "      <td>None</td>\n",
       "      <td>0</td>\n",
       "    </tr>\n",
       "    <tr>\n",
       "      <th>2</th>\n",
       "      <td>891815181378084864</td>\n",
       "      <td>This is Archie. He is a rare Norwegian Pouncing Corgo. Lives in the tall grass. You never know when one may strike. 12/10 https://t.co/wUnZnhtVJB</td>\n",
       "      <td>None</td>\n",
       "      <td>None</td>\n",
       "      <td>None</td>\n",
       "      <td>None</td>\n",
       "      <td>0</td>\n",
       "    </tr>\n",
       "    <tr>\n",
       "      <th>3</th>\n",
       "      <td>891689557279858688</td>\n",
       "      <td>This is Darla. She commenced a snooze mid meal. 13/10 happens to the best of us https://t.co/tD36da7qLQ</td>\n",
       "      <td>None</td>\n",
       "      <td>None</td>\n",
       "      <td>None</td>\n",
       "      <td>None</td>\n",
       "      <td>0</td>\n",
       "    </tr>\n",
       "    <tr>\n",
       "      <th>4</th>\n",
       "      <td>891327558926688256</td>\n",
       "      <td>This is Franklin. He would like you to stop calling him \"cute.\" He is a very fierce shark and should be respected as such. 12/10 #BarkWeek https://t.co/AtUZn91f7f</td>\n",
       "      <td>None</td>\n",
       "      <td>None</td>\n",
       "      <td>None</td>\n",
       "      <td>None</td>\n",
       "      <td>0</td>\n",
       "    </tr>\n",
       "    <tr>\n",
       "      <th>...</th>\n",
       "      <td>...</td>\n",
       "      <td>...</td>\n",
       "      <td>...</td>\n",
       "      <td>...</td>\n",
       "      <td>...</td>\n",
       "      <td>...</td>\n",
       "      <td>...</td>\n",
       "    </tr>\n",
       "    <tr>\n",
       "      <th>2349</th>\n",
       "      <td>666049248165822465</td>\n",
       "      <td>Here we have a 1949 1st generation vulpix. Enjoys sweat tea and Fox News. Cannot be phased. 5/10 https://t.co/4B7cOc1EDq</td>\n",
       "      <td>None</td>\n",
       "      <td>None</td>\n",
       "      <td>None</td>\n",
       "      <td>None</td>\n",
       "      <td>0</td>\n",
       "    </tr>\n",
       "    <tr>\n",
       "      <th>2350</th>\n",
       "      <td>666044226329800704</td>\n",
       "      <td>This is a purebred Piers Morgan. Loves to Netflix and chill. Always looks like he forgot to unplug the iron. 6/10 https://t.co/DWnyCjf2mx</td>\n",
       "      <td>None</td>\n",
       "      <td>None</td>\n",
       "      <td>None</td>\n",
       "      <td>None</td>\n",
       "      <td>0</td>\n",
       "    </tr>\n",
       "    <tr>\n",
       "      <th>2351</th>\n",
       "      <td>666033412701032449</td>\n",
       "      <td>Here is a very happy pup. Big fan of well-maintained decks. Just look at that tongue. 9/10 would cuddle af https://t.co/y671yMhoiR</td>\n",
       "      <td>None</td>\n",
       "      <td>None</td>\n",
       "      <td>None</td>\n",
       "      <td>None</td>\n",
       "      <td>0</td>\n",
       "    </tr>\n",
       "    <tr>\n",
       "      <th>2352</th>\n",
       "      <td>666029285002620928</td>\n",
       "      <td>This is a western brown Mitsubishi terrier. Upset about leaf. Actually 2 dogs here. 7/10 would walk the shit out of https://t.co/r7mOb2m0UI</td>\n",
       "      <td>None</td>\n",
       "      <td>None</td>\n",
       "      <td>None</td>\n",
       "      <td>None</td>\n",
       "      <td>0</td>\n",
       "    </tr>\n",
       "    <tr>\n",
       "      <th>2353</th>\n",
       "      <td>666020888022790149</td>\n",
       "      <td>Here we have a Japanese Irish Setter. Lost eye in Vietnam (?). Big fan of relaxing on stair. 8/10 would pet https://t.co/BLDqew2Ijj</td>\n",
       "      <td>None</td>\n",
       "      <td>None</td>\n",
       "      <td>None</td>\n",
       "      <td>None</td>\n",
       "      <td>0</td>\n",
       "    </tr>\n",
       "  </tbody>\n",
       "</table>\n",
       "<p>1668 rows × 7 columns</p>\n",
       "</div>"
      ],
      "text/plain": [
       "                tweet_id  \\\n",
       "0     892420643555336193   \n",
       "1     892177421306343426   \n",
       "2     891815181378084864   \n",
       "3     891689557279858688   \n",
       "4     891327558926688256   \n",
       "...                  ...   \n",
       "2349  666049248165822465   \n",
       "2350  666044226329800704   \n",
       "2351  666033412701032449   \n",
       "2352  666029285002620928   \n",
       "2353  666020888022790149   \n",
       "\n",
       "                                                                                                                                                                    text  \\\n",
       "0     This is Phineas. He's a mystical boy. Only ever appears in the hole of a donut. 13/10 https://t.co/MgUWQ76dJU                                                        \n",
       "1     This is Tilly. She's just checking pup on you. Hopes you're doing ok. If not, she's available for pats, snugs, boops, the whole bit. 13/10 https://t.co/0Xxu71qeIV   \n",
       "2     This is Archie. He is a rare Norwegian Pouncing Corgo. Lives in the tall grass. You never know when one may strike. 12/10 https://t.co/wUnZnhtVJB                    \n",
       "3     This is Darla. She commenced a snooze mid meal. 13/10 happens to the best of us https://t.co/tD36da7qLQ                                                              \n",
       "4     This is Franklin. He would like you to stop calling him \"cute.\" He is a very fierce shark and should be respected as such. 12/10 #BarkWeek https://t.co/AtUZn91f7f   \n",
       "...                                                                                                                                                                  ...   \n",
       "2349  Here we have a 1949 1st generation vulpix. Enjoys sweat tea and Fox News. Cannot be phased. 5/10 https://t.co/4B7cOc1EDq                                             \n",
       "2350  This is a purebred Piers Morgan. Loves to Netflix and chill. Always looks like he forgot to unplug the iron. 6/10 https://t.co/DWnyCjf2mx                            \n",
       "2351  Here is a very happy pup. Big fan of well-maintained decks. Just look at that tongue. 9/10 would cuddle af https://t.co/y671yMhoiR                                   \n",
       "2352  This is a western brown Mitsubishi terrier. Upset about leaf. Actually 2 dogs here. 7/10 would walk the shit out of https://t.co/r7mOb2m0UI                          \n",
       "2353  Here we have a Japanese Irish Setter. Lost eye in Vietnam (?). Big fan of relaxing on stair. 8/10 would pet https://t.co/BLDqew2Ijj                                  \n",
       "\n",
       "     doggo floofer pupper puppo  age_count  \n",
       "0     None  None    None   None  0          \n",
       "1     None  None    None   None  0          \n",
       "2     None  None    None   None  0          \n",
       "3     None  None    None   None  0          \n",
       "4     None  None    None   None  0          \n",
       "...    ...   ...     ...    ... ..          \n",
       "2349  None  None    None   None  0          \n",
       "2350  None  None    None   None  0          \n",
       "2351  None  None    None   None  0          \n",
       "2352  None  None    None   None  0          \n",
       "2353  None  None    None   None  0          \n",
       "\n",
       "[1668 rows x 7 columns]"
      ]
     },
     "execution_count": 43,
     "metadata": {},
     "output_type": "execute_result"
    }
   ],
   "source": [
    "archive_sub1[archive_sub1.age_count==0]"
   ]
  },
  {
   "cell_type": "markdown",
   "metadata": {},
   "source": [
    "reviewing the sample text of these tweets, it shows that no age categories were assigned to the dog. Thus, we can consider it incomplete data with no records to complete it. as other data is actually how the `WeRateDogs` would classify the dog age.\n",
    "#### Define\n",
    "Thus, the complete cleaning process would be creating `dog_age` column. Then, assign a null value for tweets without any age category & a joined category (two categories separated by `_`) for records with two age categories. the next two cells represent the code and test of this step"
   ]
  },
  {
   "cell_type": "markdown",
   "metadata": {},
   "source": [
    "#### Code"
   ]
  },
  {
   "cell_type": "code",
   "execution_count": 44,
   "metadata": {},
   "outputs": [],
   "source": [
    "#replace all None entry with empty string\n",
    "archive_sub1[['doggo','floofer','pupper','puppo']]=archive_sub1[['doggo','floofer','pupper','puppo']].replace('None','')\n",
    "#create dog_age list as stated above\n",
    "dog_age=[]\n",
    "age_category = ['doggo','floofer','pupper','puppo']\n",
    "for index,row in archive_sub1.iterrows():\n",
    "    aggregate=[]\n",
    "    for cat in age_category:\n",
    "        if row[cat]!='':\n",
    "            aggregate.append(row[cat])\n",
    "    sep ='_'\n",
    "    age = sep.join(aggregate)\n",
    "    dog_age.append(age)\n",
    "archive_sub1['dog_age']=dog_age\n",
    "archive_sub1['dog_age']=archive_sub1['dog_age'].replace('',np.nan) "
   ]
  },
  {
   "cell_type": "markdown",
   "metadata": {},
   "source": [
    "#### Test"
   ]
  },
  {
   "cell_type": "code",
   "execution_count": 45,
   "metadata": {},
   "outputs": [
    {
     "data": {
      "text/plain": [
       "pupper           201\n",
       "doggo            63 \n",
       "puppo            22 \n",
       "doggo_pupper     8  \n",
       "floofer          7  \n",
       "doggo_puppo      1  \n",
       "doggo_floofer    1  \n",
       "Name: dog_age, dtype: int64"
      ]
     },
     "execution_count": 45,
     "metadata": {},
     "output_type": "execute_result"
    }
   ],
   "source": [
    "archive_sub1.dog_age.value_counts()"
   ]
  },
  {
   "cell_type": "markdown",
   "metadata": {},
   "source": [
    "#### Define\n",
    "At this stage the `archive_sub1` dataframe is only needed with two columns `tweet_id` & `dog_age`. Thus, the rest of the columns will be dropped. Also, it is better to rename `dog_age` column to `dog_stage` to prevent confusion."
   ]
  },
  {
   "cell_type": "markdown",
   "metadata": {},
   "source": [
    "#### Code"
   ]
  },
  {
   "cell_type": "code",
   "execution_count": 46,
   "metadata": {},
   "outputs": [],
   "source": [
    "archive_sub1.drop(columns=['pupper','doggo','puppo','floofer','age_count','text'],inplace=True)\n",
    "archive_sub1=archive_sub1.rename(columns={'dog_age':'dog_stage'})"
   ]
  },
  {
   "cell_type": "markdown",
   "metadata": {},
   "source": [
    "#### Test"
   ]
  },
  {
   "cell_type": "code",
   "execution_count": 47,
   "metadata": {},
   "outputs": [
    {
     "name": "stdout",
     "output_type": "stream",
     "text": [
      "<class 'pandas.core.frame.DataFrame'>\n",
      "Int64Index: 1971 entries, 0 to 2353\n",
      "Data columns (total 2 columns):\n",
      " #   Column     Non-Null Count  Dtype \n",
      "---  ------     --------------  ----- \n",
      " 0   tweet_id   1971 non-null   int64 \n",
      " 1   dog_stage  303 non-null    object\n",
      "dtypes: int64(1), object(1)\n",
      "memory usage: 46.2+ KB\n"
     ]
    }
   ],
   "source": [
    "archive_sub1.info()"
   ]
  },
  {
   "cell_type": "markdown",
   "metadata": {},
   "source": [
    "#### Define\n",
    "The step after that is to merge `archive` dataframe to `archive_sub1` dataframe on `tweet_id` column. Then, drop `doggo`, `floofer`, `pupper` & `puppo` columns. the resultant `archive` dataframe will have `dog_stage` column to represent entries provided by the dropped columns in a tidy way."
   ]
  },
  {
   "cell_type": "markdown",
   "metadata": {},
   "source": [
    "#### Code"
   ]
  },
  {
   "cell_type": "code",
   "execution_count": 48,
   "metadata": {},
   "outputs": [],
   "source": [
    "archive = pd.merge(archive, archive_sub1, how='left',on='tweet_id')\n",
    "archive.drop(columns=['pupper','doggo','puppo','floofer'],inplace=True)"
   ]
  },
  {
   "cell_type": "markdown",
   "metadata": {},
   "source": [
    "#### Test"
   ]
  },
  {
   "cell_type": "code",
   "execution_count": 49,
   "metadata": {},
   "outputs": [
    {
     "name": "stdout",
     "output_type": "stream",
     "text": [
      "<class 'pandas.core.frame.DataFrame'>\n",
      "Int64Index: 1971 entries, 0 to 1970\n",
      "Data columns (total 11 columns):\n",
      " #   Column              Non-Null Count  Dtype \n",
      "---  ------              --------------  ----- \n",
      " 0   tweet_id            1971 non-null   int64 \n",
      " 1   timestamp           1971 non-null   object\n",
      " 2   source              1971 non-null   object\n",
      " 3   text                1971 non-null   object\n",
      " 4   expanded_urls       1971 non-null   object\n",
      " 5   rating_numerator    1971 non-null   int64 \n",
      " 6   rating_denominator  1971 non-null   int64 \n",
      " 7   name                1971 non-null   object\n",
      " 8   retweet_count       1971 non-null   int64 \n",
      " 9   favorite_count      1971 non-null   int64 \n",
      " 10  dog_stage           303 non-null    object\n",
      "dtypes: int64(5), object(6)\n",
      "memory usage: 184.8+ KB\n"
     ]
    }
   ],
   "source": [
    "archive.info()"
   ]
  },
  {
   "cell_type": "markdown",
   "metadata": {},
   "source": [
    "### 4.7 split the data in `text` column in `archive` dataframe (solve 1 tidiness issue)\n",
    "#### Define\n",
    "The entries in the text column represent a tweet text and shortened url. the data will be splitted into separated columns with name `text` and `short_url`. This analysis will consider shortened & expanded url as two different variables. Thus, both `short_url` and `expanded_url` will be kept here."
   ]
  },
  {
   "cell_type": "markdown",
   "metadata": {},
   "source": [
    "#### Code"
   ]
  },
  {
   "cell_type": "code",
   "execution_count": 50,
   "metadata": {},
   "outputs": [],
   "source": [
    "archive=archive.rename(columns={'text':'issue'})\n",
    "archive['text']=archive.issue.str.extract(r'(.*\\n*.*)\\s(?:https://).*')\n",
    "archive['short_urls']=archive.issue.str.extract(r'.*\\s((?:https://).*)')\n",
    "archive.drop(columns=['issue'],inplace=True)"
   ]
  },
  {
   "cell_type": "markdown",
   "metadata": {},
   "source": [
    "##### Test"
   ]
  },
  {
   "cell_type": "code",
   "execution_count": 51,
   "metadata": {},
   "outputs": [
    {
     "data": {
      "text/html": [
       "<div>\n",
       "<style scoped>\n",
       "    .dataframe tbody tr th:only-of-type {\n",
       "        vertical-align: middle;\n",
       "    }\n",
       "\n",
       "    .dataframe tbody tr th {\n",
       "        vertical-align: top;\n",
       "    }\n",
       "\n",
       "    .dataframe thead th {\n",
       "        text-align: right;\n",
       "    }\n",
       "</style>\n",
       "<table border=\"1\" class=\"dataframe\">\n",
       "  <thead>\n",
       "    <tr style=\"text-align: right;\">\n",
       "      <th></th>\n",
       "      <th>tweet_id</th>\n",
       "      <th>timestamp</th>\n",
       "      <th>source</th>\n",
       "      <th>expanded_urls</th>\n",
       "      <th>rating_numerator</th>\n",
       "      <th>rating_denominator</th>\n",
       "      <th>name</th>\n",
       "      <th>retweet_count</th>\n",
       "      <th>favorite_count</th>\n",
       "      <th>dog_stage</th>\n",
       "      <th>text</th>\n",
       "      <th>short_urls</th>\n",
       "    </tr>\n",
       "  </thead>\n",
       "  <tbody>\n",
       "    <tr>\n",
       "      <th>0</th>\n",
       "      <td>892420643555336193</td>\n",
       "      <td>2017-08-01 16:23:56 +0000</td>\n",
       "      <td>&lt;a href=\"http://twitter.com/download/iphone\" rel=\"nofollow\"&gt;Twitter for iPhone&lt;/a&gt;</td>\n",
       "      <td>https://twitter.com/dog_rates/status/892420643555336193/photo/1</td>\n",
       "      <td>13</td>\n",
       "      <td>10</td>\n",
       "      <td>Phineas</td>\n",
       "      <td>8853</td>\n",
       "      <td>39467</td>\n",
       "      <td>NaN</td>\n",
       "      <td>This is Phineas. He's a mystical boy. Only ever appears in the hole of a donut. 13/10</td>\n",
       "      <td>https://t.co/MgUWQ76dJU</td>\n",
       "    </tr>\n",
       "    <tr>\n",
       "      <th>1</th>\n",
       "      <td>892177421306343426</td>\n",
       "      <td>2017-08-01 00:17:27 +0000</td>\n",
       "      <td>&lt;a href=\"http://twitter.com/download/iphone\" rel=\"nofollow\"&gt;Twitter for iPhone&lt;/a&gt;</td>\n",
       "      <td>https://twitter.com/dog_rates/status/892177421306343426/photo/1</td>\n",
       "      <td>13</td>\n",
       "      <td>10</td>\n",
       "      <td>Tilly</td>\n",
       "      <td>6514</td>\n",
       "      <td>33819</td>\n",
       "      <td>NaN</td>\n",
       "      <td>This is Tilly. She's just checking pup on you. Hopes you're doing ok. If not, she's available for pats, snugs, boops, the whole bit. 13/10</td>\n",
       "      <td>https://t.co/0Xxu71qeIV</td>\n",
       "    </tr>\n",
       "    <tr>\n",
       "      <th>2</th>\n",
       "      <td>891815181378084864</td>\n",
       "      <td>2017-07-31 00:18:03 +0000</td>\n",
       "      <td>&lt;a href=\"http://twitter.com/download/iphone\" rel=\"nofollow\"&gt;Twitter for iPhone&lt;/a&gt;</td>\n",
       "      <td>https://twitter.com/dog_rates/status/891815181378084864/photo/1</td>\n",
       "      <td>12</td>\n",
       "      <td>10</td>\n",
       "      <td>Archie</td>\n",
       "      <td>4328</td>\n",
       "      <td>25461</td>\n",
       "      <td>NaN</td>\n",
       "      <td>This is Archie. He is a rare Norwegian Pouncing Corgo. Lives in the tall grass. You never know when one may strike. 12/10</td>\n",
       "      <td>https://t.co/wUnZnhtVJB</td>\n",
       "    </tr>\n",
       "    <tr>\n",
       "      <th>3</th>\n",
       "      <td>891689557279858688</td>\n",
       "      <td>2017-07-30 15:58:51 +0000</td>\n",
       "      <td>&lt;a href=\"http://twitter.com/download/iphone\" rel=\"nofollow\"&gt;Twitter for iPhone&lt;/a&gt;</td>\n",
       "      <td>https://twitter.com/dog_rates/status/891689557279858688/photo/1</td>\n",
       "      <td>13</td>\n",
       "      <td>10</td>\n",
       "      <td>Darla</td>\n",
       "      <td>8964</td>\n",
       "      <td>42908</td>\n",
       "      <td>NaN</td>\n",
       "      <td>This is Darla. She commenced a snooze mid meal. 13/10 happens to the best of us</td>\n",
       "      <td>https://t.co/tD36da7qLQ</td>\n",
       "    </tr>\n",
       "    <tr>\n",
       "      <th>4</th>\n",
       "      <td>891327558926688256</td>\n",
       "      <td>2017-07-29 16:00:24 +0000</td>\n",
       "      <td>&lt;a href=\"http://twitter.com/download/iphone\" rel=\"nofollow\"&gt;Twitter for iPhone&lt;/a&gt;</td>\n",
       "      <td>https://twitter.com/dog_rates/status/891327558926688256/photo/1,https://twitter.com/dog_rates/status/891327558926688256/photo/1</td>\n",
       "      <td>12</td>\n",
       "      <td>10</td>\n",
       "      <td>Franklin</td>\n",
       "      <td>9774</td>\n",
       "      <td>41048</td>\n",
       "      <td>NaN</td>\n",
       "      <td>This is Franklin. He would like you to stop calling him \"cute.\" He is a very fierce shark and should be respected as such. 12/10 #BarkWeek</td>\n",
       "      <td>https://t.co/AtUZn91f7f</td>\n",
       "    </tr>\n",
       "  </tbody>\n",
       "</table>\n",
       "</div>"
      ],
      "text/plain": [
       "             tweet_id                  timestamp  \\\n",
       "0  892420643555336193  2017-08-01 16:23:56 +0000   \n",
       "1  892177421306343426  2017-08-01 00:17:27 +0000   \n",
       "2  891815181378084864  2017-07-31 00:18:03 +0000   \n",
       "3  891689557279858688  2017-07-30 15:58:51 +0000   \n",
       "4  891327558926688256  2017-07-29 16:00:24 +0000   \n",
       "\n",
       "                                                                               source  \\\n",
       "0  <a href=\"http://twitter.com/download/iphone\" rel=\"nofollow\">Twitter for iPhone</a>   \n",
       "1  <a href=\"http://twitter.com/download/iphone\" rel=\"nofollow\">Twitter for iPhone</a>   \n",
       "2  <a href=\"http://twitter.com/download/iphone\" rel=\"nofollow\">Twitter for iPhone</a>   \n",
       "3  <a href=\"http://twitter.com/download/iphone\" rel=\"nofollow\">Twitter for iPhone</a>   \n",
       "4  <a href=\"http://twitter.com/download/iphone\" rel=\"nofollow\">Twitter for iPhone</a>   \n",
       "\n",
       "                                                                                                                     expanded_urls  \\\n",
       "0  https://twitter.com/dog_rates/status/892420643555336193/photo/1                                                                   \n",
       "1  https://twitter.com/dog_rates/status/892177421306343426/photo/1                                                                   \n",
       "2  https://twitter.com/dog_rates/status/891815181378084864/photo/1                                                                   \n",
       "3  https://twitter.com/dog_rates/status/891689557279858688/photo/1                                                                   \n",
       "4  https://twitter.com/dog_rates/status/891327558926688256/photo/1,https://twitter.com/dog_rates/status/891327558926688256/photo/1   \n",
       "\n",
       "   rating_numerator  rating_denominator      name  retweet_count  \\\n",
       "0  13                10                  Phineas   8853            \n",
       "1  13                10                  Tilly     6514            \n",
       "2  12                10                  Archie    4328            \n",
       "3  13                10                  Darla     8964            \n",
       "4  12                10                  Franklin  9774            \n",
       "\n",
       "   favorite_count dog_stage  \\\n",
       "0  39467           NaN        \n",
       "1  33819           NaN        \n",
       "2  25461           NaN        \n",
       "3  42908           NaN        \n",
       "4  41048           NaN        \n",
       "\n",
       "                                                                                                                                         text  \\\n",
       "0  This is Phineas. He's a mystical boy. Only ever appears in the hole of a donut. 13/10                                                        \n",
       "1  This is Tilly. She's just checking pup on you. Hopes you're doing ok. If not, she's available for pats, snugs, boops, the whole bit. 13/10   \n",
       "2  This is Archie. He is a rare Norwegian Pouncing Corgo. Lives in the tall grass. You never know when one may strike. 12/10                    \n",
       "3  This is Darla. She commenced a snooze mid meal. 13/10 happens to the best of us                                                              \n",
       "4  This is Franklin. He would like you to stop calling him \"cute.\" He is a very fierce shark and should be respected as such. 12/10 #BarkWeek   \n",
       "\n",
       "                short_urls  \n",
       "0  https://t.co/MgUWQ76dJU  \n",
       "1  https://t.co/0Xxu71qeIV  \n",
       "2  https://t.co/wUnZnhtVJB  \n",
       "3  https://t.co/tD36da7qLQ  \n",
       "4  https://t.co/AtUZn91f7f  "
      ]
     },
     "execution_count": 51,
     "metadata": {},
     "output_type": "execute_result"
    }
   ],
   "source": [
    "archive.head()"
   ]
  },
  {
   "cell_type": "markdown",
   "metadata": {},
   "source": [
    "### 4.8 clean `name` column (solve 2 data quality issue: completeness and accuracy)\n",
    "`name` column in `archive` dataframe has records that are not valid dog names. previous investigation showed that `None` entry is used for alot of records. Also other faulty names exist and all shares the commnon feature which is starting with lowercase letter.<br>\n",
    "The first step of cleaning process is to make a list of all invalid names and their count."
   ]
  },
  {
   "cell_type": "code",
   "execution_count": 52,
   "metadata": {},
   "outputs": [
    {
     "data": {
      "text/plain": [
       "None            524\n",
       "a               55 \n",
       "the             7  \n",
       "an              6  \n",
       "very            4  \n",
       "one             4  \n",
       "quite           3  \n",
       "just            3  \n",
       "getting         2  \n",
       "his             1  \n",
       "my              1  \n",
       "officially      1  \n",
       "such            1  \n",
       "light           1  \n",
       "actually        1  \n",
       "incredibly      1  \n",
       "space           1  \n",
       "infuriating     1  \n",
       "this            1  \n",
       "unacceptable    1  \n",
       "by              1  \n",
       "not             1  \n",
       "all             1  \n",
       "Name: name, dtype: int64"
      ]
     },
     "execution_count": 52,
     "metadata": {},
     "output_type": "execute_result"
    }
   ],
   "source": [
    "name_issue = archive.name.value_counts().iloc[[(x[0].islower()or x=='None')for x in list(archive.name.value_counts().index)]]\n",
    "name_issue"
   ]
  },
  {
   "cell_type": "markdown",
   "metadata": {},
   "source": [
    "A sub_dataframe is created from `archive` dataframe."
   ]
  },
  {
   "cell_type": "code",
   "execution_count": 53,
   "metadata": {},
   "outputs": [],
   "source": [
    "archive_sub2 = archive[['tweet_id','name','text','short_urls']]"
   ]
  },
  {
   "cell_type": "markdown",
   "metadata": {},
   "source": [
    "#### Define\n",
    "Then the wrong names of single time occurance is checked first. the following cells represents the code and test for solving the issues of these names. the choice to go manually is made as the case may vary from one entry to another(i.e. not all time it is granted that the tweet has no name) as it is the case with `his` entry.\n",
    "This Definition is the same for the coming codes so it will not be repeated"
   ]
  },
  {
   "cell_type": "markdown",
   "metadata": {},
   "source": [
    "#### Code"
   ]
  },
  {
   "cell_type": "code",
   "execution_count": 54,
   "metadata": {},
   "outputs": [],
   "source": [
    "archive_sub2[archive_sub2.name=='his']\n",
    "archive_sub2.name=archive_sub2.name.replace('his','Quizno')"
   ]
  },
  {
   "cell_type": "markdown",
   "metadata": {},
   "source": [
    "#### Test"
   ]
  },
  {
   "cell_type": "code",
   "execution_count": 55,
   "metadata": {},
   "outputs": [
    {
     "data": {
      "text/plain": [
       "0"
      ]
     },
     "execution_count": 55,
     "metadata": {},
     "output_type": "execute_result"
    }
   ],
   "source": [
    "sum(archive_sub2.name=='his')"
   ]
  },
  {
   "cell_type": "markdown",
   "metadata": {},
   "source": [
    "#### Code"
   ]
  },
  {
   "cell_type": "code",
   "execution_count": 56,
   "metadata": {},
   "outputs": [],
   "source": [
    "archive_sub2[archive_sub2.name=='unacceptable']\n",
    "archive_sub2.name=archive_sub2.name.replace('unacceptable',np.nan)"
   ]
  },
  {
   "cell_type": "markdown",
   "metadata": {},
   "source": [
    "#### Test"
   ]
  },
  {
   "cell_type": "code",
   "execution_count": 57,
   "metadata": {},
   "outputs": [
    {
     "data": {
      "text/plain": [
       "0"
      ]
     },
     "execution_count": 57,
     "metadata": {},
     "output_type": "execute_result"
    }
   ],
   "source": [
    "sum(archive_sub2.name=='unacceptable')"
   ]
  },
  {
   "cell_type": "markdown",
   "metadata": {},
   "source": [
    "#### Code"
   ]
  },
  {
   "cell_type": "code",
   "execution_count": 58,
   "metadata": {},
   "outputs": [],
   "source": [
    "archive_sub2[archive_sub2.name=='officially']\n",
    "archive_sub2.name=archive_sub2.name.replace('officially',np.nan)"
   ]
  },
  {
   "cell_type": "markdown",
   "metadata": {},
   "source": [
    "#### Test"
   ]
  },
  {
   "cell_type": "code",
   "execution_count": 59,
   "metadata": {},
   "outputs": [
    {
     "data": {
      "text/plain": [
       "0"
      ]
     },
     "execution_count": 59,
     "metadata": {},
     "output_type": "execute_result"
    }
   ],
   "source": [
    "sum(archive_sub2.name=='officially')"
   ]
  },
  {
   "cell_type": "markdown",
   "metadata": {},
   "source": [
    "#### Code"
   ]
  },
  {
   "cell_type": "code",
   "execution_count": 60,
   "metadata": {},
   "outputs": [],
   "source": [
    "archive_sub2[archive_sub2.name=='by']\n",
    "archive_sub2.name=archive_sub2.name.replace('by',np.nan)"
   ]
  },
  {
   "cell_type": "markdown",
   "metadata": {},
   "source": [
    "#### Test"
   ]
  },
  {
   "cell_type": "code",
   "execution_count": 61,
   "metadata": {},
   "outputs": [
    {
     "data": {
      "text/plain": [
       "0"
      ]
     },
     "execution_count": 61,
     "metadata": {},
     "output_type": "execute_result"
    }
   ],
   "source": [
    "sum(archive_sub2.name=='by')"
   ]
  },
  {
   "cell_type": "markdown",
   "metadata": {},
   "source": [
    "#### Code"
   ]
  },
  {
   "cell_type": "code",
   "execution_count": 62,
   "metadata": {},
   "outputs": [],
   "source": [
    "archive_sub2[archive_sub2.name=='all']\n",
    "archive_sub2.name=archive_sub2.name.replace('all',np.nan)"
   ]
  },
  {
   "cell_type": "markdown",
   "metadata": {},
   "source": [
    "#### Test"
   ]
  },
  {
   "cell_type": "code",
   "execution_count": 63,
   "metadata": {},
   "outputs": [
    {
     "data": {
      "text/plain": [
       "0"
      ]
     },
     "execution_count": 63,
     "metadata": {},
     "output_type": "execute_result"
    }
   ],
   "source": [
    "sum(archive_sub2.name=='all')"
   ]
  },
  {
   "cell_type": "markdown",
   "metadata": {},
   "source": [
    "#### Code"
   ]
  },
  {
   "cell_type": "code",
   "execution_count": 64,
   "metadata": {},
   "outputs": [],
   "source": [
    "archive_sub2[archive_sub2.name=='light']\n",
    "archive_sub2.name=archive_sub2.name.replace('light',np.nan)"
   ]
  },
  {
   "cell_type": "markdown",
   "metadata": {},
   "source": [
    "#### Test"
   ]
  },
  {
   "cell_type": "code",
   "execution_count": 65,
   "metadata": {},
   "outputs": [
    {
     "data": {
      "text/plain": [
       "0"
      ]
     },
     "execution_count": 65,
     "metadata": {},
     "output_type": "execute_result"
    }
   ],
   "source": [
    "sum(archive_sub2.name=='light')"
   ]
  },
  {
   "cell_type": "markdown",
   "metadata": {},
   "source": [
    "#### Code"
   ]
  },
  {
   "cell_type": "code",
   "execution_count": 66,
   "metadata": {},
   "outputs": [],
   "source": [
    "archive_sub2[archive_sub2.name=='such']\n",
    "#inspecting the instgram user name found in the tweet text. it suggests that the dog name is Roxy\n",
    "archive_sub2.name=archive_sub2.name.replace('such','Roxy')"
   ]
  },
  {
   "cell_type": "markdown",
   "metadata": {},
   "source": [
    "#### Test"
   ]
  },
  {
   "cell_type": "code",
   "execution_count": 67,
   "metadata": {},
   "outputs": [
    {
     "data": {
      "text/plain": [
       "0"
      ]
     },
     "execution_count": 67,
     "metadata": {},
     "output_type": "execute_result"
    }
   ],
   "source": [
    "sum(archive_sub2.name=='such')"
   ]
  },
  {
   "cell_type": "markdown",
   "metadata": {},
   "source": [
    "#### Code"
   ]
  },
  {
   "cell_type": "code",
   "execution_count": 68,
   "metadata": {},
   "outputs": [],
   "source": [
    "archive_sub2[archive_sub2.name=='actually']\n",
    "archive_sub2.name=archive_sub2.name.replace('actually',np.nan)"
   ]
  },
  {
   "cell_type": "markdown",
   "metadata": {},
   "source": [
    "#### Test"
   ]
  },
  {
   "cell_type": "code",
   "execution_count": 69,
   "metadata": {},
   "outputs": [
    {
     "data": {
      "text/plain": [
       "0"
      ]
     },
     "execution_count": 69,
     "metadata": {},
     "output_type": "execute_result"
    }
   ],
   "source": [
    "sum(archive_sub2.name=='actually')"
   ]
  },
  {
   "cell_type": "markdown",
   "metadata": {},
   "source": [
    "#### Code"
   ]
  },
  {
   "cell_type": "code",
   "execution_count": 70,
   "metadata": {},
   "outputs": [],
   "source": [
    "archive_sub2[archive_sub2.name=='not']\n",
    "archive_sub2.name=archive_sub2.name.replace('not',np.nan)"
   ]
  },
  {
   "cell_type": "markdown",
   "metadata": {},
   "source": [
    "#### Test"
   ]
  },
  {
   "cell_type": "code",
   "execution_count": 71,
   "metadata": {},
   "outputs": [
    {
     "data": {
      "text/plain": [
       "0"
      ]
     },
     "execution_count": 71,
     "metadata": {},
     "output_type": "execute_result"
    }
   ],
   "source": [
    "sum(archive_sub2.name=='not')"
   ]
  },
  {
   "cell_type": "markdown",
   "metadata": {},
   "source": [
    "#### Code"
   ]
  },
  {
   "cell_type": "code",
   "execution_count": 72,
   "metadata": {},
   "outputs": [],
   "source": [
    "archive_sub2[archive_sub2.name=='my']\n",
    "archive_sub2.name=archive_sub2.name.replace('my','Zoey')"
   ]
  },
  {
   "cell_type": "markdown",
   "metadata": {},
   "source": [
    "#### Test"
   ]
  },
  {
   "cell_type": "code",
   "execution_count": 73,
   "metadata": {},
   "outputs": [
    {
     "data": {
      "text/plain": [
       "0"
      ]
     },
     "execution_count": 73,
     "metadata": {},
     "output_type": "execute_result"
    }
   ],
   "source": [
    "sum(archive_sub2.name=='my')"
   ]
  },
  {
   "cell_type": "markdown",
   "metadata": {},
   "source": [
    "#### Code"
   ]
  },
  {
   "cell_type": "code",
   "execution_count": 74,
   "metadata": {},
   "outputs": [],
   "source": [
    "archive_sub2[archive_sub2.name=='this']\n",
    "archive_sub2.name=archive_sub2.name.replace('this',np.nan)"
   ]
  },
  {
   "cell_type": "markdown",
   "metadata": {},
   "source": [
    "#### Test"
   ]
  },
  {
   "cell_type": "code",
   "execution_count": 75,
   "metadata": {},
   "outputs": [
    {
     "data": {
      "text/plain": [
       "0"
      ]
     },
     "execution_count": 75,
     "metadata": {},
     "output_type": "execute_result"
    }
   ],
   "source": [
    "sum(archive_sub2.name=='this')"
   ]
  },
  {
   "cell_type": "markdown",
   "metadata": {},
   "source": [
    "#### Code"
   ]
  },
  {
   "cell_type": "code",
   "execution_count": 76,
   "metadata": {},
   "outputs": [],
   "source": [
    "archive_sub2[archive_sub2.name=='space']\n",
    "archive_sub2.name=archive_sub2.name.replace('space',np.nan)"
   ]
  },
  {
   "cell_type": "markdown",
   "metadata": {},
   "source": [
    "#### Test"
   ]
  },
  {
   "cell_type": "code",
   "execution_count": 77,
   "metadata": {},
   "outputs": [
    {
     "data": {
      "text/plain": [
       "0"
      ]
     },
     "execution_count": 77,
     "metadata": {},
     "output_type": "execute_result"
    }
   ],
   "source": [
    "sum(archive_sub2.name=='space')"
   ]
  },
  {
   "cell_type": "markdown",
   "metadata": {},
   "source": [
    "#### Code"
   ]
  },
  {
   "cell_type": "code",
   "execution_count": 78,
   "metadata": {},
   "outputs": [],
   "source": [
    "archive_sub2[archive_sub2.name=='incredibly']\n",
    "archive_sub2.name=archive_sub2.name.replace('incredibly',np.nan)"
   ]
  },
  {
   "cell_type": "markdown",
   "metadata": {},
   "source": [
    "#### Test"
   ]
  },
  {
   "cell_type": "code",
   "execution_count": 79,
   "metadata": {},
   "outputs": [
    {
     "data": {
      "text/plain": [
       "0"
      ]
     },
     "execution_count": 79,
     "metadata": {},
     "output_type": "execute_result"
    }
   ],
   "source": [
    "sum(archive_sub2.name=='incredibly')"
   ]
  },
  {
   "cell_type": "markdown",
   "metadata": {},
   "source": [
    "#### Code"
   ]
  },
  {
   "cell_type": "code",
   "execution_count": 80,
   "metadata": {},
   "outputs": [],
   "source": [
    "archive_sub2[archive_sub2.name=='infuriating']\n",
    "archive_sub2.name=archive_sub2.name.replace('infuriating',np.nan)"
   ]
  },
  {
   "cell_type": "markdown",
   "metadata": {},
   "source": [
    "#### Test"
   ]
  },
  {
   "cell_type": "code",
   "execution_count": 81,
   "metadata": {},
   "outputs": [
    {
     "data": {
      "text/plain": [
       "0"
      ]
     },
     "execution_count": 81,
     "metadata": {},
     "output_type": "execute_result"
    }
   ],
   "source": [
    "sum(archive_sub2.name=='infuriating')"
   ]
  },
  {
   "cell_type": "markdown",
   "metadata": {},
   "source": [
    "#### Code"
   ]
  },
  {
   "cell_type": "code",
   "execution_count": 82,
   "metadata": {},
   "outputs": [],
   "source": [
    "archive_sub2[archive_sub2.name=='getting']\n",
    "archive_sub2.name=archive_sub2.name.replace('getting',np.nan)"
   ]
  },
  {
   "cell_type": "markdown",
   "metadata": {},
   "source": [
    "#### Test"
   ]
  },
  {
   "cell_type": "code",
   "execution_count": 83,
   "metadata": {},
   "outputs": [
    {
     "data": {
      "text/plain": [
       "0"
      ]
     },
     "execution_count": 83,
     "metadata": {},
     "output_type": "execute_result"
    }
   ],
   "source": [
    "sum(archive_sub2.name=='getting')"
   ]
  },
  {
   "cell_type": "markdown",
   "metadata": {},
   "source": [
    "#### Code"
   ]
  },
  {
   "cell_type": "code",
   "execution_count": 84,
   "metadata": {},
   "outputs": [],
   "source": [
    "archive_sub2[archive_sub2.name=='just']\n",
    "archive_sub2.name=archive_sub2.name.replace('just',np.nan)"
   ]
  },
  {
   "cell_type": "markdown",
   "metadata": {},
   "source": [
    "#### Test"
   ]
  },
  {
   "cell_type": "code",
   "execution_count": 85,
   "metadata": {},
   "outputs": [
    {
     "data": {
      "text/plain": [
       "0"
      ]
     },
     "execution_count": 85,
     "metadata": {},
     "output_type": "execute_result"
    }
   ],
   "source": [
    "sum(archive_sub2.name=='just')"
   ]
  },
  {
   "cell_type": "markdown",
   "metadata": {},
   "source": [
    "#### Code"
   ]
  },
  {
   "cell_type": "code",
   "execution_count": 86,
   "metadata": {},
   "outputs": [],
   "source": [
    "archive_sub2[archive_sub2.name=='quite']\n",
    "archive_sub2.name=archive_sub2.name.replace('quite',np.nan)"
   ]
  },
  {
   "cell_type": "markdown",
   "metadata": {},
   "source": [
    "#### Test"
   ]
  },
  {
   "cell_type": "code",
   "execution_count": 87,
   "metadata": {},
   "outputs": [
    {
     "data": {
      "text/plain": [
       "0"
      ]
     },
     "execution_count": 87,
     "metadata": {},
     "output_type": "execute_result"
    }
   ],
   "source": [
    "sum(archive_sub2.name=='quite')"
   ]
  },
  {
   "cell_type": "markdown",
   "metadata": {},
   "source": [
    "#### Code"
   ]
  },
  {
   "cell_type": "code",
   "execution_count": 88,
   "metadata": {},
   "outputs": [],
   "source": [
    "archive_sub2[archive_sub2.name=='very']\n",
    "archive_sub2.name=archive_sub2.name.replace('very',np.nan)"
   ]
  },
  {
   "cell_type": "markdown",
   "metadata": {},
   "source": [
    "#### Test"
   ]
  },
  {
   "cell_type": "code",
   "execution_count": 89,
   "metadata": {},
   "outputs": [
    {
     "data": {
      "text/plain": [
       "0"
      ]
     },
     "execution_count": 89,
     "metadata": {},
     "output_type": "execute_result"
    }
   ],
   "source": [
    "sum(archive_sub2.name=='very')"
   ]
  },
  {
   "cell_type": "markdown",
   "metadata": {},
   "source": [
    "#### Code"
   ]
  },
  {
   "cell_type": "code",
   "execution_count": 90,
   "metadata": {},
   "outputs": [],
   "source": [
    "archive_sub2[archive_sub2.name=='one']\n",
    "archive_sub2.iloc[272]=archive_sub2.iloc[272].replace('one','Grace')\n",
    "archive_sub2.name=archive_sub2.name.replace('one',np.nan)"
   ]
  },
  {
   "cell_type": "markdown",
   "metadata": {},
   "source": [
    "#### Test"
   ]
  },
  {
   "cell_type": "code",
   "execution_count": 91,
   "metadata": {},
   "outputs": [
    {
     "data": {
      "text/plain": [
       "0"
      ]
     },
     "execution_count": 91,
     "metadata": {},
     "output_type": "execute_result"
    }
   ],
   "source": [
    "sum(archive_sub2.name=='one')"
   ]
  },
  {
   "cell_type": "markdown",
   "metadata": {},
   "source": [
    "#### Code"
   ]
  },
  {
   "cell_type": "code",
   "execution_count": 92,
   "metadata": {},
   "outputs": [],
   "source": [
    "archive_sub2[archive_sub2.name=='an']\n",
    "archive_sub2.iloc[1823]=archive_sub2.iloc[1823].replace('an','Berta')\n",
    "archive_sub2.name=archive_sub2.name.replace('an',np.nan)"
   ]
  },
  {
   "cell_type": "markdown",
   "metadata": {},
   "source": [
    "#### Test"
   ]
  },
  {
   "cell_type": "code",
   "execution_count": 93,
   "metadata": {},
   "outputs": [
    {
     "data": {
      "text/plain": [
       "0"
      ]
     },
     "execution_count": 93,
     "metadata": {},
     "output_type": "execute_result"
    }
   ],
   "source": [
    "sum(archive_sub2.name=='an')"
   ]
  },
  {
   "cell_type": "markdown",
   "metadata": {},
   "source": [
    "#### Code"
   ]
  },
  {
   "cell_type": "code",
   "execution_count": 94,
   "metadata": {},
   "outputs": [],
   "source": [
    "archive_sub2[archive_sub2.name=='the']\n",
    "archive_sub2.name=archive_sub2.name.replace('the',np.nan)"
   ]
  },
  {
   "cell_type": "markdown",
   "metadata": {},
   "source": [
    "#### Test"
   ]
  },
  {
   "cell_type": "code",
   "execution_count": 95,
   "metadata": {},
   "outputs": [
    {
     "data": {
      "text/plain": [
       "0"
      ]
     },
     "execution_count": 95,
     "metadata": {},
     "output_type": "execute_result"
    }
   ],
   "source": [
    "sum(archive_sub2.name=='the')"
   ]
  },
  {
   "cell_type": "code",
   "execution_count": 96,
   "metadata": {},
   "outputs": [
    {
     "data": {
      "text/html": [
       "<div>\n",
       "<style scoped>\n",
       "    .dataframe tbody tr th:only-of-type {\n",
       "        vertical-align: middle;\n",
       "    }\n",
       "\n",
       "    .dataframe tbody tr th {\n",
       "        vertical-align: top;\n",
       "    }\n",
       "\n",
       "    .dataframe thead th {\n",
       "        text-align: right;\n",
       "    }\n",
       "</style>\n",
       "<table border=\"1\" class=\"dataframe\">\n",
       "  <thead>\n",
       "    <tr style=\"text-align: right;\">\n",
       "      <th></th>\n",
       "      <th>tweet_id</th>\n",
       "      <th>name</th>\n",
       "      <th>text</th>\n",
       "      <th>short_urls</th>\n",
       "    </tr>\n",
       "  </thead>\n",
       "  <tbody>\n",
       "    <tr>\n",
       "      <th>49</th>\n",
       "      <td>881536004380872706</td>\n",
       "      <td>a</td>\n",
       "      <td>Here is a pupper approaching maximum borkdrive. Zooming at never before seen speeds. 14/10 paw-inspiring af \\n(IG: puffie_the_chow)</td>\n",
       "      <td>https://t.co/ghXBIIeQZF</td>\n",
       "    </tr>\n",
       "    <tr>\n",
       "      <th>468</th>\n",
       "      <td>792913359805018113</td>\n",
       "      <td>a</td>\n",
       "      <td>Here is a perfect example of someone who has their priorities in order. 13/10 for both owner and Forrest</td>\n",
       "      <td>https://t.co/LRyMrU7Wfq</td>\n",
       "    </tr>\n",
       "    <tr>\n",
       "      <th>578</th>\n",
       "      <td>772581559778025472</td>\n",
       "      <td>a</td>\n",
       "      <td>Guys this is getting so out of hand. We only rate dogs. This is a Galapagos Speed Panda. Pls only send dogs... 10/10</td>\n",
       "      <td>https://t.co/8lpAGaZRFn</td>\n",
       "    </tr>\n",
       "    <tr>\n",
       "      <th>742</th>\n",
       "      <td>747885874273214464</td>\n",
       "      <td>a</td>\n",
       "      <td>This is a mighty rare blue-tailed hammer sherk. Human almost lost a limb trying to take these. Be careful guys. 8/10</td>\n",
       "      <td>https://t.co/TGenMeXreW</td>\n",
       "    </tr>\n",
       "    <tr>\n",
       "      <th>744</th>\n",
       "      <td>747816857231626240</td>\n",
       "      <td>a</td>\n",
       "      <td>Viewer discretion is advised. This is a terrible attack in progress. Not even in water (tragic af). 4/10 bad sherk</td>\n",
       "      <td>https://t.co/L3U0j14N5R</td>\n",
       "    </tr>\n",
       "    <tr>\n",
       "      <th>752</th>\n",
       "      <td>746872823977771008</td>\n",
       "      <td>a</td>\n",
       "      <td>This is a carrot. We only rate dogs. Please only send in dogs. You all really should know this by now ...11/10</td>\n",
       "      <td>https://t.co/9e48aPrBm2</td>\n",
       "    </tr>\n",
       "    <tr>\n",
       "      <th>777</th>\n",
       "      <td>743222593470234624</td>\n",
       "      <td>a</td>\n",
       "      <td>This is a very rare Great Alaskan Bush Pupper. Hard to stumble upon without spooking. 12/10 would pet passionately</td>\n",
       "      <td>https://t.co/xOBKCdpzaa</td>\n",
       "    </tr>\n",
       "    <tr>\n",
       "      <th>912</th>\n",
       "      <td>717537687239008257</td>\n",
       "      <td>a</td>\n",
       "      <td>People please. This is a Deadly Mediterranean Plop T-Rex. We only rate dogs. Only send in dogs. Thanks you... 11/10</td>\n",
       "      <td>https://t.co/2ATDsgHD4n</td>\n",
       "    </tr>\n",
       "    <tr>\n",
       "      <th>922</th>\n",
       "      <td>715733265223708672</td>\n",
       "      <td>a</td>\n",
       "      <td>This is a taco. We only rate dogs. Please only send in dogs. Dogs are what we rate. Not tacos. Thank you... 10/10</td>\n",
       "      <td>https://t.co/cxl6xGY8B9</td>\n",
       "    </tr>\n",
       "    <tr>\n",
       "      <th>1036</th>\n",
       "      <td>704859558691414016</td>\n",
       "      <td>a</td>\n",
       "      <td>Here is a heartbreaking scene of an incredible pupper being laid to rest. 10/10 RIP pupper</td>\n",
       "      <td>https://t.co/81mvJ0rGRu</td>\n",
       "    </tr>\n",
       "    <tr>\n",
       "      <th>1045</th>\n",
       "      <td>704054845121142784</td>\n",
       "      <td>a</td>\n",
       "      <td>Here is a whole flock of puppers.  60/50 I'll take the lot</td>\n",
       "      <td>https://t.co/9dpcw6MdWa</td>\n",
       "    </tr>\n",
       "    <tr>\n",
       "      <th>1054</th>\n",
       "      <td>703079050210877440</td>\n",
       "      <td>a</td>\n",
       "      <td>This is a Butternut Cumberfloof. It's not windy they just look like that. 11/10 back at it again with the red socks</td>\n",
       "      <td>https://t.co/hMjzhdUHaW</td>\n",
       "    </tr>\n",
       "    <tr>\n",
       "      <th>1060</th>\n",
       "      <td>702539513671897089</td>\n",
       "      <td>a</td>\n",
       "      <td>This is a Wild Tuscan Poofwiggle. Careful not to startle. Rare tongue slip. One eye magical. 12/10 would def pet</td>\n",
       "      <td>https://t.co/4EnShAQjv6</td>\n",
       "    </tr>\n",
       "    <tr>\n",
       "      <th>1072</th>\n",
       "      <td>700864154249383937</td>\n",
       "      <td>a</td>\n",
       "      <td>\"Pupper is a present to world. Here is a bow for pupper.\" 12/10 precious as hell</td>\n",
       "      <td>https://t.co/ItSsE92gCW</td>\n",
       "    </tr>\n",
       "    <tr>\n",
       "      <th>1173</th>\n",
       "      <td>692187005137076224</td>\n",
       "      <td>a</td>\n",
       "      <td>This is a rare Arctic Wubberfloof. Unamused by the happenings. No longer has the appetites. 12/10 would totally hug</td>\n",
       "      <td>https://t.co/krvbacIX0N</td>\n",
       "    </tr>\n",
       "    <tr>\n",
       "      <th>1383</th>\n",
       "      <td>679530280114372609</td>\n",
       "      <td>a</td>\n",
       "      <td>Guys this really needs to stop. We've been over this way too many times. This is a giraffe. We only rate dogs.. 7/10</td>\n",
       "      <td>https://t.co/yavgkHYPOC</td>\n",
       "    </tr>\n",
       "    <tr>\n",
       "      <th>1426</th>\n",
       "      <td>677644091929329666</td>\n",
       "      <td>a</td>\n",
       "      <td>This is a dog swinging. I really enjoyed it so I hope you all do as well. 11/10</td>\n",
       "      <td>https://t.co/Ozo9KHTRND</td>\n",
       "    </tr>\n",
       "    <tr>\n",
       "      <th>1486</th>\n",
       "      <td>675706639471788032</td>\n",
       "      <td>a</td>\n",
       "      <td>This is a Sizzlin Menorah spaniel from Brooklyn named Wylie. Lovable eyes. Chiller as hell. 10/10 and I'm out.. poof</td>\n",
       "      <td>https://t.co/7E0AiJXPmI</td>\n",
       "    </tr>\n",
       "    <tr>\n",
       "      <th>1487</th>\n",
       "      <td>675534494439489536</td>\n",
       "      <td>a</td>\n",
       "      <td>Seriously guys?! Only send in dogs. I only rate dogs. This is a baby black bear... 11/10</td>\n",
       "      <td>https://t.co/H7kpabTfLj</td>\n",
       "    </tr>\n",
       "    <tr>\n",
       "      <th>1509</th>\n",
       "      <td>675109292475830276</td>\n",
       "      <td>a</td>\n",
       "      <td>C'mon guys. We've been over this. We only rate dogs. This is a cow. Please only submit dogs. Thank you...... 9/10</td>\n",
       "      <td>https://t.co/WjcELNEqN2</td>\n",
       "    </tr>\n",
       "    <tr>\n",
       "      <th>1510</th>\n",
       "      <td>675047298674663426</td>\n",
       "      <td>a</td>\n",
       "      <td>This is a fluffy albino Bacardi Columbia mix. Excellent at the tweets. 11/10 would hug gently</td>\n",
       "      <td>https://t.co/diboDRUuEI</td>\n",
       "    </tr>\n",
       "    <tr>\n",
       "      <th>1548</th>\n",
       "      <td>674082852460433408</td>\n",
       "      <td>a</td>\n",
       "      <td>This is a Sagitariot Baklava mix. Loves her new hat. 11/10 radiant pup</td>\n",
       "      <td>https://t.co/Bko5kFJYUU</td>\n",
       "    </tr>\n",
       "    <tr>\n",
       "      <th>1565</th>\n",
       "      <td>673715861853720576</td>\n",
       "      <td>a</td>\n",
       "      <td>This is a heavily opinionated dog. Loves walls. Nobody knows how the hair works. Always ready for a kiss. 4/10</td>\n",
       "      <td>https://t.co/dFiaKZ9cDl</td>\n",
       "    </tr>\n",
       "    <tr>\n",
       "      <th>1579</th>\n",
       "      <td>673636718965334016</td>\n",
       "      <td>a</td>\n",
       "      <td>This is a Lofted Aphrodisiac Terrier named Kip. Big fan of bed n breakfasts. Fits perfectly. 10/10 would pet firmly</td>\n",
       "      <td>https://t.co/gKlLpNzIl3</td>\n",
       "    </tr>\n",
       "    <tr>\n",
       "      <th>1618</th>\n",
       "      <td>672604026190569472</td>\n",
       "      <td>a</td>\n",
       "      <td>This is a baby Rand Paul. Curls for days. 11/10 would cuddle the hell out of</td>\n",
       "      <td>https://t.co/xHXNaPAYRe</td>\n",
       "    </tr>\n",
       "    <tr>\n",
       "      <th>1658</th>\n",
       "      <td>671743150407421952</td>\n",
       "      <td>a</td>\n",
       "      <td>This is a Tuscaloosa Alcatraz named Jacob (Yacōb). Loves to sit in swing. Stellar tongue. 11/10 look at his feet</td>\n",
       "      <td>https://t.co/2IslQ8ZSc7</td>\n",
       "    </tr>\n",
       "    <tr>\n",
       "      <th>1688</th>\n",
       "      <td>671147085991960577</td>\n",
       "      <td>a</td>\n",
       "      <td>This is a Helvetica Listerine named Rufus. This time Rufus will be ready for the UPS guy. He'll never expect it 9/10</td>\n",
       "      <td>https://t.co/34OhVhMkVr</td>\n",
       "    </tr>\n",
       "    <tr>\n",
       "      <th>1738</th>\n",
       "      <td>670427002554466305</td>\n",
       "      <td>a</td>\n",
       "      <td>This is a Deciduous Trimester mix named Spork. Only 1 ear works. No seat belt. Incredibly reckless. 9/10 still cute</td>\n",
       "      <td>https://t.co/CtuJoLHiDo</td>\n",
       "    </tr>\n",
       "    <tr>\n",
       "      <th>1747</th>\n",
       "      <td>670361874861563904</td>\n",
       "      <td>a</td>\n",
       "      <td>This is a Rich Mahogany Seltzer named Cherokee. Just got destroyed by a snowball. Isn't very happy about it. 9/10</td>\n",
       "      <td>https://t.co/98ZBi6o4dj</td>\n",
       "    </tr>\n",
       "    <tr>\n",
       "      <th>1750</th>\n",
       "      <td>670303360680108032</td>\n",
       "      <td>a</td>\n",
       "      <td>This is a Speckled Cauliflower Yosemite named Hemry. He's terrified of intruder dog. Not one bit comfortable. 9/10</td>\n",
       "      <td>https://t.co/yV3Qgjh8iN</td>\n",
       "    </tr>\n",
       "    <tr>\n",
       "      <th>1768</th>\n",
       "      <td>669923323644657664</td>\n",
       "      <td>a</td>\n",
       "      <td>This is a spotted Lipitor Rumpelstiltskin named Alphred. He can't wait for the Turkey. 10/10 would pet really well</td>\n",
       "      <td>https://t.co/6GUGO7azNX</td>\n",
       "    </tr>\n",
       "    <tr>\n",
       "      <th>1774</th>\n",
       "      <td>669661792646373376</td>\n",
       "      <td>a</td>\n",
       "      <td>This is a brave dog. Excellent free climber. Trying to get closer to God. Not very loyal though. Doesn't bark. 5/10</td>\n",
       "      <td>https://t.co/ODnILTr4QM</td>\n",
       "    </tr>\n",
       "    <tr>\n",
       "      <th>1782</th>\n",
       "      <td>669564461267722241</td>\n",
       "      <td>a</td>\n",
       "      <td>This is a Coriander Baton Rouge named Alfredo. Loves to cuddle with smaller well-dressed dog. 10/10 would hug lots</td>\n",
       "      <td>https://t.co/eCRdwouKCl</td>\n",
       "    </tr>\n",
       "    <tr>\n",
       "      <th>1810</th>\n",
       "      <td>668955713004314625</td>\n",
       "      <td>a</td>\n",
       "      <td>This is a Slovakian Helter Skelter Feta named Leroi. Likes to skip on roofs. Good traction. Much balance. 10/10 wow!</td>\n",
       "      <td>https://t.co/Dmy2mY2Qj5</td>\n",
       "    </tr>\n",
       "    <tr>\n",
       "      <th>1817</th>\n",
       "      <td>668815180734689280</td>\n",
       "      <td>a</td>\n",
       "      <td>This is a wild Toblerone from Papua New Guinea. Mouth always open. Addicted to hay. Acts blind. 7/10 handsome dog</td>\n",
       "      <td>https://t.co/IGmVbz07tZ</td>\n",
       "    </tr>\n",
       "    <tr>\n",
       "      <th>1830</th>\n",
       "      <td>668614819948453888</td>\n",
       "      <td>a</td>\n",
       "      <td>Here is a horned dog. Much grace. Can jump over moons (dam!). Paws not soft. Bad at barking. 7/10 can still pet tho</td>\n",
       "      <td>https://t.co/2Su7gmsnZm</td>\n",
       "    </tr>\n",
       "    <tr>\n",
       "      <th>1836</th>\n",
       "      <td>668507509523615744</td>\n",
       "      <td>a</td>\n",
       "      <td>This is a Birmingham Quagmire named Chuk. Loves to relax and watch the game while sippin on that iced mocha. 10/10</td>\n",
       "      <td>https://t.co/HvNg9JWxFt</td>\n",
       "    </tr>\n",
       "    <tr>\n",
       "      <th>1840</th>\n",
       "      <td>668466899341221888</td>\n",
       "      <td>a</td>\n",
       "      <td>Here is a mother dog caring for her pups. Snazzy red mohawk. Doesn't wag tail. Pups look confused. Overall 4/10</td>\n",
       "      <td>https://t.co/YOHe6lf09m</td>\n",
       "    </tr>\n",
       "    <tr>\n",
       "      <th>1853</th>\n",
       "      <td>668171859951755264</td>\n",
       "      <td>a</td>\n",
       "      <td>This is a Trans Siberian Kellogg named Alfonso. Huge ass eyeballs. Actually Dobby from Harry Potter. 7/10</td>\n",
       "      <td>https://t.co/XpseHBlAAb</td>\n",
       "    </tr>\n",
       "    <tr>\n",
       "      <th>1867</th>\n",
       "      <td>667861340749471744</td>\n",
       "      <td>a</td>\n",
       "      <td>This is a Shotokon Macadamia mix named Cheryl. Sophisticated af. Looks like a disappointed librarian. Shh (lol) 9/10</td>\n",
       "      <td>https://t.co/J4GnJ5Swba</td>\n",
       "    </tr>\n",
       "    <tr>\n",
       "      <th>1873</th>\n",
       "      <td>667773195014021121</td>\n",
       "      <td>a</td>\n",
       "      <td>This is a rare Hungarian Pinot named Jessiga. She is either mid-stroke or got stuck in the washing machine. 8/10</td>\n",
       "      <td>https://t.co/ZU0i0KJyqD</td>\n",
       "    </tr>\n",
       "    <tr>\n",
       "      <th>1880</th>\n",
       "      <td>667538891197542400</td>\n",
       "      <td>a</td>\n",
       "      <td>This is a southwest Coriander named Klint. Hat looks expensive. Still on house arrest :(\\n9/10</td>\n",
       "      <td>https://t.co/IQTOMqDUIe</td>\n",
       "    </tr>\n",
       "    <tr>\n",
       "      <th>1889</th>\n",
       "      <td>667470559035432960</td>\n",
       "      <td>a</td>\n",
       "      <td>This is a northern Wahoo named Kohl. He runs this town. Chases tumbleweeds. Draws gun wicked fast. 11/10 legendary</td>\n",
       "      <td>https://t.co/J4vn2rOYFk</td>\n",
       "    </tr>\n",
       "    <tr>\n",
       "      <th>1903</th>\n",
       "      <td>667177989038297088</td>\n",
       "      <td>a</td>\n",
       "      <td>This is a Dasani Kingfisher from Maine. His name is Daryl. Daryl doesn't like being swallowed by a panda. 8/10</td>\n",
       "      <td>https://t.co/jpaeu6LNmW</td>\n",
       "    </tr>\n",
       "    <tr>\n",
       "      <th>1919</th>\n",
       "      <td>666983947667116034</td>\n",
       "      <td>a</td>\n",
       "      <td>This is a curly Ticonderoga named Pepe. No feet. Loves to jet ski. 11/10 would hug until forever</td>\n",
       "      <td>https://t.co/cyDfaK8NBc</td>\n",
       "    </tr>\n",
       "    <tr>\n",
       "      <th>1926</th>\n",
       "      <td>666781792255496192</td>\n",
       "      <td>a</td>\n",
       "      <td>This is a purebred Bacardi named Octaviath. Can shoot spaghetti out of mouth. 10/10</td>\n",
       "      <td>https://t.co/uEvsGLOFHa</td>\n",
       "    </tr>\n",
       "    <tr>\n",
       "      <th>1929</th>\n",
       "      <td>666701168228331520</td>\n",
       "      <td>a</td>\n",
       "      <td>This is a golden Buckminsterfullerene named Johm. Drives trucks. Lumberjack (?). Enjoys wall. 8/10 would hug softly</td>\n",
       "      <td>https://t.co/uQbZJM2DQB</td>\n",
       "    </tr>\n",
       "    <tr>\n",
       "      <th>1942</th>\n",
       "      <td>666407126856765440</td>\n",
       "      <td>a</td>\n",
       "      <td>This is a southern Vesuvius bumblegruff. Can drive a truck (wow). Made friends with 5 other nifty dogs (neat). 7/10</td>\n",
       "      <td>https://t.co/LopTBkKa8h</td>\n",
       "    </tr>\n",
       "    <tr>\n",
       "      <th>1949</th>\n",
       "      <td>666293911632134144</td>\n",
       "      <td>a</td>\n",
       "      <td>This is a funny dog. Weird toes. Won't come down. Loves branch. Refuses to eat his food. Hard to cuddle with. 3/10</td>\n",
       "      <td>https://t.co/IIXis0zta0</td>\n",
       "    </tr>\n",
       "    <tr>\n",
       "      <th>1962</th>\n",
       "      <td>666057090499244032</td>\n",
       "      <td>a</td>\n",
       "      <td>My oh my. This is a rare blond Canadian terrier on wheels. Only $8.98. Rather docile. 9/10 very rare</td>\n",
       "      <td>https://t.co/yWBqbrzy8O</td>\n",
       "    </tr>\n",
       "    <tr>\n",
       "      <th>1963</th>\n",
       "      <td>666055525042405380</td>\n",
       "      <td>a</td>\n",
       "      <td>Here is a Siberian heavily armored polar bear mix. Strong owner. 10/10 I would do unspeakable things to pet this dog</td>\n",
       "      <td>https://t.co/rdivxLiqEt</td>\n",
       "    </tr>\n",
       "    <tr>\n",
       "      <th>1965</th>\n",
       "      <td>666050758794694657</td>\n",
       "      <td>a</td>\n",
       "      <td>This is a truly beautiful English Wilson Staff retriever. Has a nice phone. Privileged. 10/10 would trade lives with</td>\n",
       "      <td>https://t.co/fvIbQfHjIe</td>\n",
       "    </tr>\n",
       "    <tr>\n",
       "      <th>1967</th>\n",
       "      <td>666044226329800704</td>\n",
       "      <td>a</td>\n",
       "      <td>This is a purebred Piers Morgan. Loves to Netflix and chill. Always looks like he forgot to unplug the iron. 6/10</td>\n",
       "      <td>https://t.co/DWnyCjf2mx</td>\n",
       "    </tr>\n",
       "    <tr>\n",
       "      <th>1968</th>\n",
       "      <td>666033412701032449</td>\n",
       "      <td>a</td>\n",
       "      <td>Here is a very happy pup. Big fan of well-maintained decks. Just look at that tongue. 9/10 would cuddle af</td>\n",
       "      <td>https://t.co/y671yMhoiR</td>\n",
       "    </tr>\n",
       "    <tr>\n",
       "      <th>1969</th>\n",
       "      <td>666029285002620928</td>\n",
       "      <td>a</td>\n",
       "      <td>This is a western brown Mitsubishi terrier. Upset about leaf. Actually 2 dogs here. 7/10 would walk the shit out of</td>\n",
       "      <td>https://t.co/r7mOb2m0UI</td>\n",
       "    </tr>\n",
       "  </tbody>\n",
       "</table>\n",
       "</div>"
      ],
      "text/plain": [
       "                tweet_id name  \\\n",
       "49    881536004380872706  a     \n",
       "468   792913359805018113  a     \n",
       "578   772581559778025472  a     \n",
       "742   747885874273214464  a     \n",
       "744   747816857231626240  a     \n",
       "752   746872823977771008  a     \n",
       "777   743222593470234624  a     \n",
       "912   717537687239008257  a     \n",
       "922   715733265223708672  a     \n",
       "1036  704859558691414016  a     \n",
       "1045  704054845121142784  a     \n",
       "1054  703079050210877440  a     \n",
       "1060  702539513671897089  a     \n",
       "1072  700864154249383937  a     \n",
       "1173  692187005137076224  a     \n",
       "1383  679530280114372609  a     \n",
       "1426  677644091929329666  a     \n",
       "1486  675706639471788032  a     \n",
       "1487  675534494439489536  a     \n",
       "1509  675109292475830276  a     \n",
       "1510  675047298674663426  a     \n",
       "1548  674082852460433408  a     \n",
       "1565  673715861853720576  a     \n",
       "1579  673636718965334016  a     \n",
       "1618  672604026190569472  a     \n",
       "1658  671743150407421952  a     \n",
       "1688  671147085991960577  a     \n",
       "1738  670427002554466305  a     \n",
       "1747  670361874861563904  a     \n",
       "1750  670303360680108032  a     \n",
       "1768  669923323644657664  a     \n",
       "1774  669661792646373376  a     \n",
       "1782  669564461267722241  a     \n",
       "1810  668955713004314625  a     \n",
       "1817  668815180734689280  a     \n",
       "1830  668614819948453888  a     \n",
       "1836  668507509523615744  a     \n",
       "1840  668466899341221888  a     \n",
       "1853  668171859951755264  a     \n",
       "1867  667861340749471744  a     \n",
       "1873  667773195014021121  a     \n",
       "1880  667538891197542400  a     \n",
       "1889  667470559035432960  a     \n",
       "1903  667177989038297088  a     \n",
       "1919  666983947667116034  a     \n",
       "1926  666781792255496192  a     \n",
       "1929  666701168228331520  a     \n",
       "1942  666407126856765440  a     \n",
       "1949  666293911632134144  a     \n",
       "1962  666057090499244032  a     \n",
       "1963  666055525042405380  a     \n",
       "1965  666050758794694657  a     \n",
       "1967  666044226329800704  a     \n",
       "1968  666033412701032449  a     \n",
       "1969  666029285002620928  a     \n",
       "\n",
       "                                                                                                                                     text  \\\n",
       "49    Here is a pupper approaching maximum borkdrive. Zooming at never before seen speeds. 14/10 paw-inspiring af \\n(IG: puffie_the_chow)   \n",
       "468   Here is a perfect example of someone who has their priorities in order. 13/10 for both owner and Forrest                              \n",
       "578   Guys this is getting so out of hand. We only rate dogs. This is a Galapagos Speed Panda. Pls only send dogs... 10/10                  \n",
       "742   This is a mighty rare blue-tailed hammer sherk. Human almost lost a limb trying to take these. Be careful guys. 8/10                  \n",
       "744   Viewer discretion is advised. This is a terrible attack in progress. Not even in water (tragic af). 4/10 bad sherk                    \n",
       "752   This is a carrot. We only rate dogs. Please only send in dogs. You all really should know this by now ...11/10                        \n",
       "777   This is a very rare Great Alaskan Bush Pupper. Hard to stumble upon without spooking. 12/10 would pet passionately                    \n",
       "912   People please. This is a Deadly Mediterranean Plop T-Rex. We only rate dogs. Only send in dogs. Thanks you... 11/10                   \n",
       "922   This is a taco. We only rate dogs. Please only send in dogs. Dogs are what we rate. Not tacos. Thank you... 10/10                     \n",
       "1036  Here is a heartbreaking scene of an incredible pupper being laid to rest. 10/10 RIP pupper                                            \n",
       "1045  Here is a whole flock of puppers.  60/50 I'll take the lot                                                                            \n",
       "1054  This is a Butternut Cumberfloof. It's not windy they just look like that. 11/10 back at it again with the red socks                   \n",
       "1060  This is a Wild Tuscan Poofwiggle. Careful not to startle. Rare tongue slip. One eye magical. 12/10 would def pet                      \n",
       "1072  \"Pupper is a present to world. Here is a bow for pupper.\" 12/10 precious as hell                                                      \n",
       "1173  This is a rare Arctic Wubberfloof. Unamused by the happenings. No longer has the appetites. 12/10 would totally hug                   \n",
       "1383  Guys this really needs to stop. We've been over this way too many times. This is a giraffe. We only rate dogs.. 7/10                  \n",
       "1426  This is a dog swinging. I really enjoyed it so I hope you all do as well. 11/10                                                       \n",
       "1486  This is a Sizzlin Menorah spaniel from Brooklyn named Wylie. Lovable eyes. Chiller as hell. 10/10 and I'm out.. poof                  \n",
       "1487  Seriously guys?! Only send in dogs. I only rate dogs. This is a baby black bear... 11/10                                              \n",
       "1509  C'mon guys. We've been over this. We only rate dogs. This is a cow. Please only submit dogs. Thank you...... 9/10                     \n",
       "1510  This is a fluffy albino Bacardi Columbia mix. Excellent at the tweets. 11/10 would hug gently                                         \n",
       "1548  This is a Sagitariot Baklava mix. Loves her new hat. 11/10 radiant pup                                                                \n",
       "1565  This is a heavily opinionated dog. Loves walls. Nobody knows how the hair works. Always ready for a kiss. 4/10                        \n",
       "1579  This is a Lofted Aphrodisiac Terrier named Kip. Big fan of bed n breakfasts. Fits perfectly. 10/10 would pet firmly                   \n",
       "1618  This is a baby Rand Paul. Curls for days. 11/10 would cuddle the hell out of                                                          \n",
       "1658  This is a Tuscaloosa Alcatraz named Jacob (Yacōb). Loves to sit in swing. Stellar tongue. 11/10 look at his feet                      \n",
       "1688  This is a Helvetica Listerine named Rufus. This time Rufus will be ready for the UPS guy. He'll never expect it 9/10                  \n",
       "1738  This is a Deciduous Trimester mix named Spork. Only 1 ear works. No seat belt. Incredibly reckless. 9/10 still cute                   \n",
       "1747  This is a Rich Mahogany Seltzer named Cherokee. Just got destroyed by a snowball. Isn't very happy about it. 9/10                     \n",
       "1750  This is a Speckled Cauliflower Yosemite named Hemry. He's terrified of intruder dog. Not one bit comfortable. 9/10                    \n",
       "1768  This is a spotted Lipitor Rumpelstiltskin named Alphred. He can't wait for the Turkey. 10/10 would pet really well                    \n",
       "1774  This is a brave dog. Excellent free climber. Trying to get closer to God. Not very loyal though. Doesn't bark. 5/10                   \n",
       "1782  This is a Coriander Baton Rouge named Alfredo. Loves to cuddle with smaller well-dressed dog. 10/10 would hug lots                    \n",
       "1810  This is a Slovakian Helter Skelter Feta named Leroi. Likes to skip on roofs. Good traction. Much balance. 10/10 wow!                  \n",
       "1817  This is a wild Toblerone from Papua New Guinea. Mouth always open. Addicted to hay. Acts blind. 7/10 handsome dog                     \n",
       "1830  Here is a horned dog. Much grace. Can jump over moons (dam!). Paws not soft. Bad at barking. 7/10 can still pet tho                   \n",
       "1836  This is a Birmingham Quagmire named Chuk. Loves to relax and watch the game while sippin on that iced mocha. 10/10                    \n",
       "1840  Here is a mother dog caring for her pups. Snazzy red mohawk. Doesn't wag tail. Pups look confused. Overall 4/10                       \n",
       "1853  This is a Trans Siberian Kellogg named Alfonso. Huge ass eyeballs. Actually Dobby from Harry Potter. 7/10                             \n",
       "1867  This is a Shotokon Macadamia mix named Cheryl. Sophisticated af. Looks like a disappointed librarian. Shh (lol) 9/10                  \n",
       "1873  This is a rare Hungarian Pinot named Jessiga. She is either mid-stroke or got stuck in the washing machine. 8/10                      \n",
       "1880  This is a southwest Coriander named Klint. Hat looks expensive. Still on house arrest :(\\n9/10                                        \n",
       "1889  This is a northern Wahoo named Kohl. He runs this town. Chases tumbleweeds. Draws gun wicked fast. 11/10 legendary                    \n",
       "1903  This is a Dasani Kingfisher from Maine. His name is Daryl. Daryl doesn't like being swallowed by a panda. 8/10                        \n",
       "1919  This is a curly Ticonderoga named Pepe. No feet. Loves to jet ski. 11/10 would hug until forever                                      \n",
       "1926  This is a purebred Bacardi named Octaviath. Can shoot spaghetti out of mouth. 10/10                                                   \n",
       "1929  This is a golden Buckminsterfullerene named Johm. Drives trucks. Lumberjack (?). Enjoys wall. 8/10 would hug softly                   \n",
       "1942  This is a southern Vesuvius bumblegruff. Can drive a truck (wow). Made friends with 5 other nifty dogs (neat). 7/10                   \n",
       "1949  This is a funny dog. Weird toes. Won't come down. Loves branch. Refuses to eat his food. Hard to cuddle with. 3/10                    \n",
       "1962  My oh my. This is a rare blond Canadian terrier on wheels. Only $8.98. Rather docile. 9/10 very rare                                  \n",
       "1963  Here is a Siberian heavily armored polar bear mix. Strong owner. 10/10 I would do unspeakable things to pet this dog                  \n",
       "1965  This is a truly beautiful English Wilson Staff retriever. Has a nice phone. Privileged. 10/10 would trade lives with                  \n",
       "1967  This is a purebred Piers Morgan. Loves to Netflix and chill. Always looks like he forgot to unplug the iron. 6/10                     \n",
       "1968  Here is a very happy pup. Big fan of well-maintained decks. Just look at that tongue. 9/10 would cuddle af                            \n",
       "1969  This is a western brown Mitsubishi terrier. Upset about leaf. Actually 2 dogs here. 7/10 would walk the shit out of                   \n",
       "\n",
       "                   short_urls  \n",
       "49    https://t.co/ghXBIIeQZF  \n",
       "468   https://t.co/LRyMrU7Wfq  \n",
       "578   https://t.co/8lpAGaZRFn  \n",
       "742   https://t.co/TGenMeXreW  \n",
       "744   https://t.co/L3U0j14N5R  \n",
       "752   https://t.co/9e48aPrBm2  \n",
       "777   https://t.co/xOBKCdpzaa  \n",
       "912   https://t.co/2ATDsgHD4n  \n",
       "922   https://t.co/cxl6xGY8B9  \n",
       "1036  https://t.co/81mvJ0rGRu  \n",
       "1045  https://t.co/9dpcw6MdWa  \n",
       "1054  https://t.co/hMjzhdUHaW  \n",
       "1060  https://t.co/4EnShAQjv6  \n",
       "1072  https://t.co/ItSsE92gCW  \n",
       "1173  https://t.co/krvbacIX0N  \n",
       "1383  https://t.co/yavgkHYPOC  \n",
       "1426  https://t.co/Ozo9KHTRND  \n",
       "1486  https://t.co/7E0AiJXPmI  \n",
       "1487  https://t.co/H7kpabTfLj  \n",
       "1509  https://t.co/WjcELNEqN2  \n",
       "1510  https://t.co/diboDRUuEI  \n",
       "1548  https://t.co/Bko5kFJYUU  \n",
       "1565  https://t.co/dFiaKZ9cDl  \n",
       "1579  https://t.co/gKlLpNzIl3  \n",
       "1618  https://t.co/xHXNaPAYRe  \n",
       "1658  https://t.co/2IslQ8ZSc7  \n",
       "1688  https://t.co/34OhVhMkVr  \n",
       "1738  https://t.co/CtuJoLHiDo  \n",
       "1747  https://t.co/98ZBi6o4dj  \n",
       "1750  https://t.co/yV3Qgjh8iN  \n",
       "1768  https://t.co/6GUGO7azNX  \n",
       "1774  https://t.co/ODnILTr4QM  \n",
       "1782  https://t.co/eCRdwouKCl  \n",
       "1810  https://t.co/Dmy2mY2Qj5  \n",
       "1817  https://t.co/IGmVbz07tZ  \n",
       "1830  https://t.co/2Su7gmsnZm  \n",
       "1836  https://t.co/HvNg9JWxFt  \n",
       "1840  https://t.co/YOHe6lf09m  \n",
       "1853  https://t.co/XpseHBlAAb  \n",
       "1867  https://t.co/J4GnJ5Swba  \n",
       "1873  https://t.co/ZU0i0KJyqD  \n",
       "1880  https://t.co/IQTOMqDUIe  \n",
       "1889  https://t.co/J4vn2rOYFk  \n",
       "1903  https://t.co/jpaeu6LNmW  \n",
       "1919  https://t.co/cyDfaK8NBc  \n",
       "1926  https://t.co/uEvsGLOFHa  \n",
       "1929  https://t.co/uQbZJM2DQB  \n",
       "1942  https://t.co/LopTBkKa8h  \n",
       "1949  https://t.co/IIXis0zta0  \n",
       "1962  https://t.co/yWBqbrzy8O  \n",
       "1963  https://t.co/rdivxLiqEt  \n",
       "1965  https://t.co/fvIbQfHjIe  \n",
       "1967  https://t.co/DWnyCjf2mx  \n",
       "1968  https://t.co/y671yMhoiR  \n",
       "1969  https://t.co/r7mOb2m0UI  "
      ]
     },
     "execution_count": 96,
     "metadata": {},
     "output_type": "execute_result"
    }
   ],
   "source": [
    "archive_sub2[archive_sub2.name=='a']"
   ]
  },
  {
   "cell_type": "markdown",
   "metadata": {},
   "source": [
    "#### Define\n",
    "Assessment of the above dataframe showed a pattern where all of the tweets with `name` entry `a` the tweets with names has a prefix of `named` or `name is` otherwise it doesn't have name at all. this pattern can be used to extract all dog names with proper regular expression while assign `NaN` to records without the detected pattern. The same methodology was decided to be followed with `None` entries as it has so much records to be visually inspected."
   ]
  },
  {
   "cell_type": "markdown",
   "metadata": {},
   "source": [
    "#### Code"
   ]
  },
  {
   "cell_type": "code",
   "execution_count": 97,
   "metadata": {},
   "outputs": [],
   "source": [
    "pattern = re.compile(r'(?:name(?:d)?)\\s{1}(?:is\\s)?([A-Za-z]+)')\n",
    "for index, row in archive_sub2.iterrows():  \n",
    "    if row['name']=='a' or row['name']=='None':\n",
    "        try:\n",
    "            dog_name = re.findall(pattern, row['text'])[0]\n",
    "            archive_sub2.loc[index,'name'] = archive_sub2.loc[index,'name'].replace(row['name'], dog_name)\n",
    "\n",
    "        except IndexError:\n",
    "            archive_sub2.loc[index,'name'] = np.nan"
   ]
  },
  {
   "cell_type": "markdown",
   "metadata": {},
   "source": [
    "#### Test"
   ]
  },
  {
   "cell_type": "code",
   "execution_count": 98,
   "metadata": {},
   "outputs": [
    {
     "data": {
      "text/plain": [
       "0"
      ]
     },
     "execution_count": 98,
     "metadata": {},
     "output_type": "execute_result"
    }
   ],
   "source": [
    "sum(archive_sub2.name=='a')"
   ]
  },
  {
   "cell_type": "code",
   "execution_count": 99,
   "metadata": {},
   "outputs": [
    {
     "data": {
      "text/plain": [
       "0"
      ]
     },
     "execution_count": 99,
     "metadata": {},
     "output_type": "execute_result"
    }
   ],
   "source": [
    "sum(archive_sub2.name=='None')"
   ]
  },
  {
   "cell_type": "markdown",
   "metadata": {},
   "source": [
    "#### Define\n",
    "Merge the two dataframes `archive` & `archive_sub2` which contains the correct names & remove the repeated columns to conclude this cleaning step."
   ]
  },
  {
   "cell_type": "markdown",
   "metadata": {},
   "source": [
    "#### Code"
   ]
  },
  {
   "cell_type": "code",
   "execution_count": 100,
   "metadata": {},
   "outputs": [],
   "source": [
    "archive_sub2.drop(columns=['text','short_urls'],inplace=True)\n",
    "archive_sub2.rename(columns={'name':'c_name'},inplace=True)\n",
    "archive = pd.merge(archive,archive_sub2,how='inner',on='tweet_id')\n",
    "archive.drop(columns=['name'],inplace=True)"
   ]
  },
  {
   "cell_type": "markdown",
   "metadata": {},
   "source": [
    "#### Test"
   ]
  },
  {
   "cell_type": "code",
   "execution_count": 101,
   "metadata": {},
   "outputs": [
    {
     "name": "stdout",
     "output_type": "stream",
     "text": [
      "<class 'pandas.core.frame.DataFrame'>\n",
      "Int64Index: 1971 entries, 0 to 1970\n",
      "Data columns (total 12 columns):\n",
      " #   Column              Non-Null Count  Dtype \n",
      "---  ------              --------------  ----- \n",
      " 0   tweet_id            1971 non-null   int64 \n",
      " 1   timestamp           1971 non-null   object\n",
      " 2   source              1971 non-null   object\n",
      " 3   expanded_urls       1971 non-null   object\n",
      " 4   rating_numerator    1971 non-null   int64 \n",
      " 5   rating_denominator  1971 non-null   int64 \n",
      " 6   retweet_count       1971 non-null   int64 \n",
      " 7   favorite_count      1971 non-null   int64 \n",
      " 8   dog_stage           303 non-null    object\n",
      " 9   text                1971 non-null   object\n",
      " 10  short_urls          1971 non-null   object\n",
      " 11  c_name              1382 non-null   object\n",
      "dtypes: int64(5), object(7)\n",
      "memory usage: 200.2+ KB\n"
     ]
    }
   ],
   "source": [
    "archive.info()"
   ]
  },
  {
   "cell_type": "markdown",
   "metadata": {},
   "source": [
    "### 4.9 clean `rating_denominator`  column (solve 1 data quality issue:accuracy)\n",
    "#### Define\n",
    "for sake of correct evaluation, all denominator should be 10. Other values is considered errors and need cleaning. A sub_dataframe `archive_sub3` is first created to ease performing this task. Then, a list of all `rating_denominator` that doesn't equal 10."
   ]
  },
  {
   "cell_type": "markdown",
   "metadata": {},
   "source": [
    "#### Code"
   ]
  },
  {
   "cell_type": "code",
   "execution_count": 102,
   "metadata": {},
   "outputs": [],
   "source": [
    "archive_sub3 = archive[['tweet_id','rating_numerator','rating_denominator','text','short_urls']]\n",
    "rate_issue = archive_sub3.rating_denominator.value_counts().iloc[[x!=10 for x in list(archive_sub3.rating_denominator.value_counts().index)]]"
   ]
  },
  {
   "cell_type": "markdown",
   "metadata": {},
   "source": [
    "#### Test"
   ]
  },
  {
   "cell_type": "code",
   "execution_count": 103,
   "metadata": {},
   "outputs": [
    {
     "data": {
      "text/plain": [
       "50     3\n",
       "80     2\n",
       "11     2\n",
       "170    1\n",
       "150    1\n",
       "120    1\n",
       "110    1\n",
       "90     1\n",
       "70     1\n",
       "40     1\n",
       "20     1\n",
       "7      1\n",
       "2      1\n",
       "Name: rating_denominator, dtype: int64"
      ]
     },
     "execution_count": 103,
     "metadata": {},
     "output_type": "execute_result"
    }
   ],
   "source": [
    "rate_issue"
   ]
  },
  {
   "cell_type": "markdown",
   "metadata": {},
   "source": [
    "#### Define\n",
    "Inspecting those value we can detect two patterns. first one is denominator that can't be divided by 10 without reminder and second one is denominator that can be divided 10 with zero reminder. the former issue is checked first then the later one.\n",
    "This Definition is the same for the coming codes so it will not be repeated"
   ]
  },
  {
   "cell_type": "markdown",
   "metadata": {},
   "source": [
    "#### Code"
   ]
  },
  {
   "cell_type": "code",
   "execution_count": 104,
   "metadata": {},
   "outputs": [
    {
     "data": {
      "text/html": [
       "<div>\n",
       "<style scoped>\n",
       "    .dataframe tbody tr th:only-of-type {\n",
       "        vertical-align: middle;\n",
       "    }\n",
       "\n",
       "    .dataframe tbody tr th {\n",
       "        vertical-align: top;\n",
       "    }\n",
       "\n",
       "    .dataframe thead th {\n",
       "        text-align: right;\n",
       "    }\n",
       "</style>\n",
       "<table border=\"1\" class=\"dataframe\">\n",
       "  <thead>\n",
       "    <tr style=\"text-align: right;\">\n",
       "      <th></th>\n",
       "      <th>tweet_id</th>\n",
       "      <th>rating_numerator</th>\n",
       "      <th>rating_denominator</th>\n",
       "      <th>text</th>\n",
       "      <th>short_urls</th>\n",
       "    </tr>\n",
       "  </thead>\n",
       "  <tbody>\n",
       "    <tr>\n",
       "      <th>1950</th>\n",
       "      <td>666287406224695296</td>\n",
       "      <td>1</td>\n",
       "      <td>2</td>\n",
       "      <td>This is an Albanian 3 1/2 legged  Episcopalian. Loves well-polished hardwood flooring. Penis on the collar. 9/10</td>\n",
       "      <td>https://t.co/d9NcXFKwLv</td>\n",
       "    </tr>\n",
       "  </tbody>\n",
       "</table>\n",
       "</div>"
      ],
      "text/plain": [
       "                tweet_id  rating_numerator  rating_denominator  \\\n",
       "1950  666287406224695296  1                 2                    \n",
       "\n",
       "                                                                                                                  text  \\\n",
       "1950  This is an Albanian 3 1/2 legged  Episcopalian. Loves well-polished hardwood flooring. Penis on the collar. 9/10   \n",
       "\n",
       "                   short_urls  \n",
       "1950  https://t.co/d9NcXFKwLv  "
      ]
     },
     "execution_count": 104,
     "metadata": {},
     "output_type": "execute_result"
    }
   ],
   "source": [
    "archive_sub3[archive_sub3.rating_denominator==2]"
   ]
  },
  {
   "cell_type": "code",
   "execution_count": 105,
   "metadata": {},
   "outputs": [],
   "source": [
    "archive_sub3.iloc[1950] = archive_sub3.iloc[1950].replace(1,9)\n",
    "archive_sub3.iloc[1950] = archive_sub3.iloc[1950].replace(2,10)"
   ]
  },
  {
   "cell_type": "markdown",
   "metadata": {},
   "source": [
    "#### Test"
   ]
  },
  {
   "cell_type": "code",
   "execution_count": 106,
   "metadata": {},
   "outputs": [
    {
     "data": {
      "text/plain": [
       "0"
      ]
     },
     "execution_count": 106,
     "metadata": {},
     "output_type": "execute_result"
    }
   ],
   "source": [
    "sum(archive_sub3.rating_denominator==2)"
   ]
  },
  {
   "cell_type": "markdown",
   "metadata": {},
   "source": [
    "#### Code"
   ]
  },
  {
   "cell_type": "code",
   "execution_count": 107,
   "metadata": {},
   "outputs": [
    {
     "data": {
      "text/html": [
       "<div>\n",
       "<style scoped>\n",
       "    .dataframe tbody tr th:only-of-type {\n",
       "        vertical-align: middle;\n",
       "    }\n",
       "\n",
       "    .dataframe tbody tr th {\n",
       "        vertical-align: top;\n",
       "    }\n",
       "\n",
       "    .dataframe thead th {\n",
       "        text-align: right;\n",
       "    }\n",
       "</style>\n",
       "<table border=\"1\" class=\"dataframe\">\n",
       "  <thead>\n",
       "    <tr style=\"text-align: right;\">\n",
       "      <th></th>\n",
       "      <th>tweet_id</th>\n",
       "      <th>rating_numerator</th>\n",
       "      <th>rating_denominator</th>\n",
       "      <th>text</th>\n",
       "      <th>short_urls</th>\n",
       "    </tr>\n",
       "  </thead>\n",
       "  <tbody>\n",
       "    <tr>\n",
       "      <th>382</th>\n",
       "      <td>810984652412424192</td>\n",
       "      <td>24</td>\n",
       "      <td>7</td>\n",
       "      <td>Meet Sam. She smiles 24/7 &amp;amp; secretly aspires to be a reindeer. \\nKeep Sam smiling by clicking and sharing this link:</td>\n",
       "      <td>https://t.co/98tB8y7y7t https://t.co/LouL5vdvxx</td>\n",
       "    </tr>\n",
       "  </tbody>\n",
       "</table>\n",
       "</div>"
      ],
      "text/plain": [
       "               tweet_id  rating_numerator  rating_denominator  \\\n",
       "382  810984652412424192  24                7                    \n",
       "\n",
       "                                                                                                                         text  \\\n",
       "382  Meet Sam. She smiles 24/7 &amp; secretly aspires to be a reindeer. \\nKeep Sam smiling by clicking and sharing this link:   \n",
       "\n",
       "                                          short_urls  \n",
       "382  https://t.co/98tB8y7y7t https://t.co/LouL5vdvxx  "
      ]
     },
     "execution_count": 107,
     "metadata": {},
     "output_type": "execute_result"
    }
   ],
   "source": [
    "archive_sub3[archive_sub3.rating_denominator==7]"
   ]
  },
  {
   "cell_type": "code",
   "execution_count": 108,
   "metadata": {},
   "outputs": [],
   "source": [
    "archive_sub3.iloc[382] = archive_sub3.iloc[382].replace(24,np.nan)\n",
    "archive_sub3.iloc[382] = archive_sub3.iloc[382].replace(7,np.nan)"
   ]
  },
  {
   "cell_type": "markdown",
   "metadata": {},
   "source": [
    "#### Test"
   ]
  },
  {
   "cell_type": "code",
   "execution_count": 109,
   "metadata": {},
   "outputs": [
    {
     "data": {
      "text/plain": [
       "0"
      ]
     },
     "execution_count": 109,
     "metadata": {},
     "output_type": "execute_result"
    }
   ],
   "source": [
    "sum(archive_sub3.rating_denominator==7)"
   ]
  },
  {
   "cell_type": "markdown",
   "metadata": {},
   "source": [
    "#### Code"
   ]
  },
  {
   "cell_type": "code",
   "execution_count": 110,
   "metadata": {},
   "outputs": [
    {
     "data": {
      "text/html": [
       "<div>\n",
       "<style scoped>\n",
       "    .dataframe tbody tr th:only-of-type {\n",
       "        vertical-align: middle;\n",
       "    }\n",
       "\n",
       "    .dataframe tbody tr th {\n",
       "        vertical-align: top;\n",
       "    }\n",
       "\n",
       "    .dataframe thead th {\n",
       "        text-align: right;\n",
       "    }\n",
       "</style>\n",
       "<table border=\"1\" class=\"dataframe\">\n",
       "  <thead>\n",
       "    <tr style=\"text-align: right;\">\n",
       "      <th></th>\n",
       "      <th>tweet_id</th>\n",
       "      <th>rating_numerator</th>\n",
       "      <th>rating_denominator</th>\n",
       "      <th>text</th>\n",
       "      <th>short_urls</th>\n",
       "    </tr>\n",
       "  </thead>\n",
       "  <tbody>\n",
       "    <tr>\n",
       "      <th>794</th>\n",
       "      <td>740373189193256964</td>\n",
       "      <td>9.0</td>\n",
       "      <td>11.0</td>\n",
       "      <td>After so many requests, this is Bretagne. She was the last surviving 9/11 search dog, and our second ever 14/10. RIP</td>\n",
       "      <td>https://t.co/XAVDNDaVgQ</td>\n",
       "    </tr>\n",
       "    <tr>\n",
       "      <th>1313</th>\n",
       "      <td>682962037429899265</td>\n",
       "      <td>7.0</td>\n",
       "      <td>11.0</td>\n",
       "      <td>This is Darrel. He just robbed a 7/11 and is in a high speed police chase. Was just spotted by the helicopter 10/10</td>\n",
       "      <td>https://t.co/7EsP8LmSp5</td>\n",
       "    </tr>\n",
       "  </tbody>\n",
       "</table>\n",
       "</div>"
      ],
      "text/plain": [
       "                tweet_id  rating_numerator  rating_denominator  \\\n",
       "794   740373189193256964  9.0               11.0                 \n",
       "1313  682962037429899265  7.0               11.0                 \n",
       "\n",
       "                                                                                                                      text  \\\n",
       "794   After so many requests, this is Bretagne. She was the last surviving 9/11 search dog, and our second ever 14/10. RIP   \n",
       "1313  This is Darrel. He just robbed a 7/11 and is in a high speed police chase. Was just spotted by the helicopter 10/10    \n",
       "\n",
       "                   short_urls  \n",
       "794   https://t.co/XAVDNDaVgQ  \n",
       "1313  https://t.co/7EsP8LmSp5  "
      ]
     },
     "execution_count": 110,
     "metadata": {},
     "output_type": "execute_result"
    }
   ],
   "source": [
    "archive_sub3[archive_sub3.rating_denominator==11]"
   ]
  },
  {
   "cell_type": "code",
   "execution_count": 111,
   "metadata": {},
   "outputs": [],
   "source": [
    "archive_sub3.iloc[794] = archive_sub3.iloc[794].replace(9,14)\n",
    "archive_sub3.iloc[794] = archive_sub3.iloc[794].replace(11,10)\n",
    "archive_sub3.iloc[1313] = archive_sub3.iloc[1313].replace(7,10)\n",
    "archive_sub3.iloc[1313] = archive_sub3.iloc[1313].replace(11,10)"
   ]
  },
  {
   "cell_type": "markdown",
   "metadata": {},
   "source": [
    "#### Test"
   ]
  },
  {
   "cell_type": "code",
   "execution_count": 112,
   "metadata": {},
   "outputs": [
    {
     "data": {
      "text/plain": [
       "0"
      ]
     },
     "execution_count": 112,
     "metadata": {},
     "output_type": "execute_result"
    }
   ],
   "source": [
    "sum(archive_sub3.rating_denominator==11)"
   ]
  },
  {
   "cell_type": "markdown",
   "metadata": {},
   "source": [
    "#### Code"
   ]
  },
  {
   "cell_type": "code",
   "execution_count": 113,
   "metadata": {},
   "outputs": [],
   "source": [
    "for index, row in archive_sub3.iterrows():  \n",
    "    if row['rating_denominator']!=10 and row['rating_denominator']%10 == 0:\n",
    "        dogs = row['rating_denominator']/10\n",
    "        archive_sub3.loc[index,'rating_denominator'] = 10\n",
    "        archive_sub3.loc[index,'rating_numerator'] = row['rating_numerator']/dogs"
   ]
  },
  {
   "cell_type": "markdown",
   "metadata": {},
   "source": [
    "#### Test"
   ]
  },
  {
   "cell_type": "code",
   "execution_count": 114,
   "metadata": {},
   "outputs": [
    {
     "data": {
      "text/plain": [
       "10.0    1970\n",
       "Name: rating_denominator, dtype: int64"
      ]
     },
     "execution_count": 114,
     "metadata": {},
     "output_type": "execute_result"
    }
   ],
   "source": [
    "archive_sub3.rating_denominator.value_counts()"
   ]
  },
  {
   "cell_type": "markdown",
   "metadata": {},
   "source": [
    "### 4.10 clean `rating_numerator`  column (solve 1 data quality issue:accuracy)\n",
    "#### Define\n",
    "Also the database schema should allow rating numerator to be more than the denominator but very low and very high records are suspicious. a list of values that is contained now in `rating_numerator` is created."
   ]
  },
  {
   "cell_type": "code",
   "execution_count": 115,
   "metadata": {},
   "outputs": [
    {
     "data": {
      "text/plain": [
       "12.0      450\n",
       "10.0      420\n",
       "11.0      397\n",
       "13.0      253\n",
       "9.0       151\n",
       "8.0       95 \n",
       "7.0       51 \n",
       "14.0      34 \n",
       "5.0       33 \n",
       "6.0       32 \n",
       "3.0       19 \n",
       "4.0       15 \n",
       "2.0       10 \n",
       "1.0       4  \n",
       "27.0      1  \n",
       "0.0       1  \n",
       "1776.0    1  \n",
       "26.0      1  \n",
       "75.0      1  \n",
       "420.0     1  \n",
       "Name: rating_numerator, dtype: int64"
      ]
     },
     "execution_count": 115,
     "metadata": {},
     "output_type": "execute_result"
    }
   ],
   "source": [
    "archive_sub3.rating_numerator.value_counts()"
   ]
  },
  {
   "cell_type": "markdown",
   "metadata": {},
   "source": [
    "We can suspect very low and very high values. only records with discovered issues are reported in the next cells."
   ]
  },
  {
   "cell_type": "markdown",
   "metadata": {},
   "source": [
    "#### Code"
   ]
  },
  {
   "cell_type": "code",
   "execution_count": 116,
   "metadata": {},
   "outputs": [
    {
     "data": {
      "text/html": [
       "<div>\n",
       "<style scoped>\n",
       "    .dataframe tbody tr th:only-of-type {\n",
       "        vertical-align: middle;\n",
       "    }\n",
       "\n",
       "    .dataframe tbody tr th {\n",
       "        vertical-align: top;\n",
       "    }\n",
       "\n",
       "    .dataframe thead th {\n",
       "        text-align: right;\n",
       "    }\n",
       "</style>\n",
       "<table border=\"1\" class=\"dataframe\">\n",
       "  <thead>\n",
       "    <tr style=\"text-align: right;\">\n",
       "      <th></th>\n",
       "      <th>tweet_id</th>\n",
       "      <th>rating_numerator</th>\n",
       "      <th>rating_denominator</th>\n",
       "      <th>text</th>\n",
       "      <th>short_urls</th>\n",
       "    </tr>\n",
       "  </thead>\n",
       "  <tbody>\n",
       "    <tr>\n",
       "      <th>1696</th>\n",
       "      <td>670842764863651840</td>\n",
       "      <td>420.0</td>\n",
       "      <td>10.0</td>\n",
       "      <td>After so many requests... here you go.\\n\\nGood dogg. 420/10</td>\n",
       "      <td>https://t.co/yfAAo1gdeY</td>\n",
       "    </tr>\n",
       "  </tbody>\n",
       "</table>\n",
       "</div>"
      ],
      "text/plain": [
       "                tweet_id  rating_numerator  rating_denominator  \\\n",
       "1696  670842764863651840  420.0             10.0                 \n",
       "\n",
       "                                                             text  \\\n",
       "1696  After so many requests... here you go.\\n\\nGood dogg. 420/10   \n",
       "\n",
       "                   short_urls  \n",
       "1696  https://t.co/yfAAo1gdeY  "
      ]
     },
     "execution_count": 116,
     "metadata": {},
     "output_type": "execute_result"
    }
   ],
   "source": [
    "archive_sub3[archive_sub3.rating_numerator==420]"
   ]
  },
  {
   "cell_type": "markdown",
   "metadata": {},
   "source": [
    "this tweet shows a picture of a singer and doesn't have a valid dog rating. Thus it is not a valid tweet as per dataframe schema. the rating is marked `np.nan` to be removed later."
   ]
  },
  {
   "cell_type": "code",
   "execution_count": 117,
   "metadata": {},
   "outputs": [],
   "source": [
    "archive_sub3.iloc[1696] = archive_sub3.iloc[1696].replace(420,np.nan)"
   ]
  },
  {
   "cell_type": "markdown",
   "metadata": {},
   "source": [
    "#### Test"
   ]
  },
  {
   "cell_type": "code",
   "execution_count": 118,
   "metadata": {},
   "outputs": [
    {
     "data": {
      "text/plain": [
       "0"
      ]
     },
     "execution_count": 118,
     "metadata": {},
     "output_type": "execute_result"
    }
   ],
   "source": [
    "sum(archive_sub3.rating_numerator==420)"
   ]
  },
  {
   "cell_type": "markdown",
   "metadata": {},
   "source": [
    "#### Code"
   ]
  },
  {
   "cell_type": "code",
   "execution_count": 119,
   "metadata": {},
   "outputs": [
    {
     "data": {
      "text/html": [
       "<div>\n",
       "<style scoped>\n",
       "    .dataframe tbody tr th:only-of-type {\n",
       "        vertical-align: middle;\n",
       "    }\n",
       "\n",
       "    .dataframe tbody tr th {\n",
       "        vertical-align: top;\n",
       "    }\n",
       "\n",
       "    .dataframe thead th {\n",
       "        text-align: right;\n",
       "    }\n",
       "</style>\n",
       "<table border=\"1\" class=\"dataframe\">\n",
       "  <thead>\n",
       "    <tr style=\"text-align: right;\">\n",
       "      <th></th>\n",
       "      <th>tweet_id</th>\n",
       "      <th>rating_numerator</th>\n",
       "      <th>rating_denominator</th>\n",
       "      <th>text</th>\n",
       "      <th>short_urls</th>\n",
       "    </tr>\n",
       "  </thead>\n",
       "  <tbody>\n",
       "    <tr>\n",
       "      <th>499</th>\n",
       "      <td>786709082849828864</td>\n",
       "      <td>75.0</td>\n",
       "      <td>10.0</td>\n",
       "      <td>This is Logan, the Chow who lived. He solemnly swears he's up to lots of good. H*ckin magical af 9.75/10</td>\n",
       "      <td>https://t.co/yBO5wuqaPS</td>\n",
       "    </tr>\n",
       "  </tbody>\n",
       "</table>\n",
       "</div>"
      ],
      "text/plain": [
       "               tweet_id  rating_numerator  rating_denominator  \\\n",
       "499  786709082849828864  75.0              10.0                 \n",
       "\n",
       "                                                                                                         text  \\\n",
       "499  This is Logan, the Chow who lived. He solemnly swears he's up to lots of good. H*ckin magical af 9.75/10   \n",
       "\n",
       "                  short_urls  \n",
       "499  https://t.co/yBO5wuqaPS  "
      ]
     },
     "execution_count": 119,
     "metadata": {},
     "output_type": "execute_result"
    }
   ],
   "source": [
    "archive_sub3[archive_sub3.rating_numerator==75]"
   ]
  },
  {
   "cell_type": "code",
   "execution_count": 120,
   "metadata": {},
   "outputs": [],
   "source": [
    "archive_sub3.iloc[499] = archive_sub3.iloc[499].replace(75,9.75)"
   ]
  },
  {
   "cell_type": "markdown",
   "metadata": {},
   "source": [
    "#### Test"
   ]
  },
  {
   "cell_type": "code",
   "execution_count": 121,
   "metadata": {},
   "outputs": [
    {
     "data": {
      "text/plain": [
       "0"
      ]
     },
     "execution_count": 121,
     "metadata": {},
     "output_type": "execute_result"
    }
   ],
   "source": [
    "sum(archive_sub3.rating_numerator==75)"
   ]
  },
  {
   "cell_type": "markdown",
   "metadata": {},
   "source": [
    "#### Code"
   ]
  },
  {
   "cell_type": "code",
   "execution_count": 122,
   "metadata": {},
   "outputs": [
    {
     "data": {
      "text/html": [
       "<div>\n",
       "<style scoped>\n",
       "    .dataframe tbody tr th:only-of-type {\n",
       "        vertical-align: middle;\n",
       "    }\n",
       "\n",
       "    .dataframe tbody tr th {\n",
       "        vertical-align: top;\n",
       "    }\n",
       "\n",
       "    .dataframe thead th {\n",
       "        text-align: right;\n",
       "    }\n",
       "</style>\n",
       "<table border=\"1\" class=\"dataframe\">\n",
       "  <thead>\n",
       "    <tr style=\"text-align: right;\">\n",
       "      <th></th>\n",
       "      <th>tweet_id</th>\n",
       "      <th>rating_numerator</th>\n",
       "      <th>rating_denominator</th>\n",
       "      <th>text</th>\n",
       "      <th>short_urls</th>\n",
       "    </tr>\n",
       "  </thead>\n",
       "  <tbody>\n",
       "    <tr>\n",
       "      <th>549</th>\n",
       "      <td>778027034220126208</td>\n",
       "      <td>27.0</td>\n",
       "      <td>10.0</td>\n",
       "      <td>This is Sophie. She's a Jubilant Bush Pupper. Super h*ckin rare. Appears at random just to smile at the locals. 11.27/10 would smile back</td>\n",
       "      <td>https://t.co/QFaUiIHxHq</td>\n",
       "    </tr>\n",
       "  </tbody>\n",
       "</table>\n",
       "</div>"
      ],
      "text/plain": [
       "               tweet_id  rating_numerator  rating_denominator  \\\n",
       "549  778027034220126208  27.0              10.0                 \n",
       "\n",
       "                                                                                                                                          text  \\\n",
       "549  This is Sophie. She's a Jubilant Bush Pupper. Super h*ckin rare. Appears at random just to smile at the locals. 11.27/10 would smile back   \n",
       "\n",
       "                  short_urls  \n",
       "549  https://t.co/QFaUiIHxHq  "
      ]
     },
     "execution_count": 122,
     "metadata": {},
     "output_type": "execute_result"
    }
   ],
   "source": [
    "archive_sub3[archive_sub3.rating_numerator==27]"
   ]
  },
  {
   "cell_type": "code",
   "execution_count": 123,
   "metadata": {},
   "outputs": [],
   "source": [
    "archive_sub3.iloc[549] = archive_sub3.iloc[549].replace(27,11.27)"
   ]
  },
  {
   "cell_type": "markdown",
   "metadata": {},
   "source": [
    "#### Test"
   ]
  },
  {
   "cell_type": "code",
   "execution_count": 124,
   "metadata": {},
   "outputs": [
    {
     "data": {
      "text/plain": [
       "0"
      ]
     },
     "execution_count": 124,
     "metadata": {},
     "output_type": "execute_result"
    }
   ],
   "source": [
    "sum(archive_sub3.rating_numerator==27)"
   ]
  },
  {
   "cell_type": "markdown",
   "metadata": {},
   "source": [
    "#### Code"
   ]
  },
  {
   "cell_type": "code",
   "execution_count": 125,
   "metadata": {},
   "outputs": [
    {
     "data": {
      "text/html": [
       "<div>\n",
       "<style scoped>\n",
       "    .dataframe tbody tr th:only-of-type {\n",
       "        vertical-align: middle;\n",
       "    }\n",
       "\n",
       "    .dataframe tbody tr th {\n",
       "        vertical-align: top;\n",
       "    }\n",
       "\n",
       "    .dataframe thead th {\n",
       "        text-align: right;\n",
       "    }\n",
       "</style>\n",
       "<table border=\"1\" class=\"dataframe\">\n",
       "  <thead>\n",
       "    <tr style=\"text-align: right;\">\n",
       "      <th></th>\n",
       "      <th>tweet_id</th>\n",
       "      <th>rating_numerator</th>\n",
       "      <th>rating_denominator</th>\n",
       "      <th>text</th>\n",
       "      <th>short_urls</th>\n",
       "    </tr>\n",
       "  </thead>\n",
       "  <tbody>\n",
       "    <tr>\n",
       "      <th>884</th>\n",
       "      <td>722974582966214656</td>\n",
       "      <td>2.0</td>\n",
       "      <td>10.0</td>\n",
       "      <td>Happy 4/20 from the squad! 13/10 for all</td>\n",
       "      <td>https://t.co/eV1diwds8a</td>\n",
       "    </tr>\n",
       "    <tr>\n",
       "      <th>1404</th>\n",
       "      <td>678675843183484930</td>\n",
       "      <td>2.0</td>\n",
       "      <td>10.0</td>\n",
       "      <td>Exotic pup here. Tail long af. Throat looks swollen. Might breathe fire. Exceptionally unfluffy 2/10 would still pet</td>\n",
       "      <td>https://t.co/a8SqCaSo2r</td>\n",
       "    </tr>\n",
       "    <tr>\n",
       "      <th>1407</th>\n",
       "      <td>678424312106393600</td>\n",
       "      <td>2.0</td>\n",
       "      <td>10.0</td>\n",
       "      <td>This is Crystal. She's a shitty fireman. No sense of urgency. People could be dying Crystal. 2/10 just irresponsible</td>\n",
       "      <td>https://t.co/rtMtjSl9pz</td>\n",
       "    </tr>\n",
       "    <tr>\n",
       "      <th>1545</th>\n",
       "      <td>674265582246694913</td>\n",
       "      <td>2.0</td>\n",
       "      <td>10.0</td>\n",
       "      <td>This is Henry. He's a shit dog. Short pointy ears. Leaves trail of pee. Not fluffy. Doesn't come when called. 2/10</td>\n",
       "      <td>https://t.co/Pu9RhfHDEQ</td>\n",
       "    </tr>\n",
       "    <tr>\n",
       "      <th>1701</th>\n",
       "      <td>670826280409919488</td>\n",
       "      <td>2.0</td>\n",
       "      <td>10.0</td>\n",
       "      <td>Scary dog here. Too many legs. Extra tail. Not soft, let alone fluffy. Won't bark. Moves sideways. Has weapon. 2/10</td>\n",
       "      <td>https://t.co/XOPXCSXiUT</td>\n",
       "    </tr>\n",
       "    <tr>\n",
       "      <th>1855</th>\n",
       "      <td>668142349051129856</td>\n",
       "      <td>2.0</td>\n",
       "      <td>10.0</td>\n",
       "      <td>This lil pup is Oliver. Hops around. Has wings but doesn't fly (lame). Annoying chirp. Won't catch tennis balls 2/10</td>\n",
       "      <td>https://t.co/DnhUw0aBM2</td>\n",
       "    </tr>\n",
       "    <tr>\n",
       "      <th>1864</th>\n",
       "      <td>667878741721415682</td>\n",
       "      <td>2.0</td>\n",
       "      <td>10.0</td>\n",
       "      <td>This is Tedrick. He lives on the edge. Needs someone to hit the gas tho. Other than that he's a baller. 10&amp;amp;2/10</td>\n",
       "      <td>https://t.co/LvP1TTYSCN</td>\n",
       "    </tr>\n",
       "    <tr>\n",
       "      <th>1925</th>\n",
       "      <td>666786068205871104</td>\n",
       "      <td>2.0</td>\n",
       "      <td>10.0</td>\n",
       "      <td>Unfamiliar with this breed. Ears pointy af. Won't let go of seashell. Won't eat kibble. Not very fast. Bad dog 2/10</td>\n",
       "      <td>https://t.co/EIn5kElY1S</td>\n",
       "    </tr>\n",
       "    <tr>\n",
       "      <th>1941</th>\n",
       "      <td>666411507551481857</td>\n",
       "      <td>2.0</td>\n",
       "      <td>10.0</td>\n",
       "      <td>This is quite the dog. Gets really excited when not in water. Not very soft tho. Bad at fetch. Can't do tricks. 2/10</td>\n",
       "      <td>https://t.co/aMCTNWO94t</td>\n",
       "    </tr>\n",
       "    <tr>\n",
       "      <th>1964</th>\n",
       "      <td>666051853826850816</td>\n",
       "      <td>2.0</td>\n",
       "      <td>10.0</td>\n",
       "      <td>This is an odd dog. Hard on the outside but loving on the inside. Petting still fun. Doesn't play catch well. 2/10</td>\n",
       "      <td>https://t.co/v5A4vzSDdc</td>\n",
       "    </tr>\n",
       "  </tbody>\n",
       "</table>\n",
       "</div>"
      ],
      "text/plain": [
       "                tweet_id  rating_numerator  rating_denominator  \\\n",
       "884   722974582966214656  2.0               10.0                 \n",
       "1404  678675843183484930  2.0               10.0                 \n",
       "1407  678424312106393600  2.0               10.0                 \n",
       "1545  674265582246694913  2.0               10.0                 \n",
       "1701  670826280409919488  2.0               10.0                 \n",
       "1855  668142349051129856  2.0               10.0                 \n",
       "1864  667878741721415682  2.0               10.0                 \n",
       "1925  666786068205871104  2.0               10.0                 \n",
       "1941  666411507551481857  2.0               10.0                 \n",
       "1964  666051853826850816  2.0               10.0                 \n",
       "\n",
       "                                                                                                                      text  \\\n",
       "884   Happy 4/20 from the squad! 13/10 for all                                                                               \n",
       "1404  Exotic pup here. Tail long af. Throat looks swollen. Might breathe fire. Exceptionally unfluffy 2/10 would still pet   \n",
       "1407  This is Crystal. She's a shitty fireman. No sense of urgency. People could be dying Crystal. 2/10 just irresponsible   \n",
       "1545  This is Henry. He's a shit dog. Short pointy ears. Leaves trail of pee. Not fluffy. Doesn't come when called. 2/10     \n",
       "1701  Scary dog here. Too many legs. Extra tail. Not soft, let alone fluffy. Won't bark. Moves sideways. Has weapon. 2/10    \n",
       "1855  This lil pup is Oliver. Hops around. Has wings but doesn't fly (lame). Annoying chirp. Won't catch tennis balls 2/10   \n",
       "1864  This is Tedrick. He lives on the edge. Needs someone to hit the gas tho. Other than that he's a baller. 10&amp;2/10    \n",
       "1925  Unfamiliar with this breed. Ears pointy af. Won't let go of seashell. Won't eat kibble. Not very fast. Bad dog 2/10    \n",
       "1941  This is quite the dog. Gets really excited when not in water. Not very soft tho. Bad at fetch. Can't do tricks. 2/10   \n",
       "1964  This is an odd dog. Hard on the outside but loving on the inside. Petting still fun. Doesn't play catch well. 2/10     \n",
       "\n",
       "                   short_urls  \n",
       "884   https://t.co/eV1diwds8a  \n",
       "1404  https://t.co/a8SqCaSo2r  \n",
       "1407  https://t.co/rtMtjSl9pz  \n",
       "1545  https://t.co/Pu9RhfHDEQ  \n",
       "1701  https://t.co/XOPXCSXiUT  \n",
       "1855  https://t.co/DnhUw0aBM2  \n",
       "1864  https://t.co/LvP1TTYSCN  \n",
       "1925  https://t.co/EIn5kElY1S  \n",
       "1941  https://t.co/aMCTNWO94t  \n",
       "1964  https://t.co/v5A4vzSDdc  "
      ]
     },
     "execution_count": 125,
     "metadata": {},
     "output_type": "execute_result"
    }
   ],
   "source": [
    "archive_sub3[archive_sub3.rating_numerator==2]"
   ]
  },
  {
   "cell_type": "code",
   "execution_count": 126,
   "metadata": {},
   "outputs": [],
   "source": [
    "archive_sub3.iloc[884] = archive_sub3.iloc[884].replace(2,13)"
   ]
  },
  {
   "cell_type": "markdown",
   "metadata": {},
   "source": [
    "#### Test"
   ]
  },
  {
   "cell_type": "code",
   "execution_count": 127,
   "metadata": {},
   "outputs": [
    {
     "data": {
      "text/plain": [
       "13.0"
      ]
     },
     "execution_count": 127,
     "metadata": {},
     "output_type": "execute_result"
    }
   ],
   "source": [
    "archive_sub3.rating_numerator.iloc[884]"
   ]
  },
  {
   "cell_type": "markdown",
   "metadata": {},
   "source": [
    "#### Code"
   ]
  },
  {
   "cell_type": "code",
   "execution_count": 128,
   "metadata": {},
   "outputs": [
    {
     "data": {
      "text/html": [
       "<div>\n",
       "<style scoped>\n",
       "    .dataframe tbody tr th:only-of-type {\n",
       "        vertical-align: middle;\n",
       "    }\n",
       "\n",
       "    .dataframe tbody tr th {\n",
       "        vertical-align: top;\n",
       "    }\n",
       "\n",
       "    .dataframe thead th {\n",
       "        text-align: right;\n",
       "    }\n",
       "</style>\n",
       "<table border=\"1\" class=\"dataframe\">\n",
       "  <thead>\n",
       "    <tr style=\"text-align: right;\">\n",
       "      <th></th>\n",
       "      <th>tweet_id</th>\n",
       "      <th>rating_numerator</th>\n",
       "      <th>rating_denominator</th>\n",
       "      <th>text</th>\n",
       "      <th>short_urls</th>\n",
       "    </tr>\n",
       "  </thead>\n",
       "  <tbody>\n",
       "    <tr>\n",
       "      <th>39</th>\n",
       "      <td>883482846933004288</td>\n",
       "      <td>5.0</td>\n",
       "      <td>10.0</td>\n",
       "      <td>This is Bella. She hopes her smile made you smile. If not, she is also offering you her favorite monkey. 13.5/10</td>\n",
       "      <td>https://t.co/qjrljjt948</td>\n",
       "    </tr>\n",
       "    <tr>\n",
       "      <th>526</th>\n",
       "      <td>781661882474196992</td>\n",
       "      <td>5.0</td>\n",
       "      <td>10.0</td>\n",
       "      <td>Who keeps sending in pictures without dogs in them? This needs to stop. 5/10 for the mediocre road</td>\n",
       "      <td>https://t.co/ELqelxWMrC</td>\n",
       "    </tr>\n",
       "    <tr>\n",
       "      <th>700</th>\n",
       "      <td>751583847268179968</td>\n",
       "      <td>5.0</td>\n",
       "      <td>10.0</td>\n",
       "      <td>Please stop sending it pictures that don't even have a doggo or pupper in them. Churlish af. 5/10 neat couch tho</td>\n",
       "      <td>https://t.co/u2c9c7qSg8</td>\n",
       "    </tr>\n",
       "    <tr>\n",
       "      <th>1089</th>\n",
       "      <td>699691744225525762</td>\n",
       "      <td>5.0</td>\n",
       "      <td>10.0</td>\n",
       "      <td>This is Dave. He's a tropical pup. Short lil legs (dachshund mix?) Excels underwater, but refuses to eat kibble 5/10</td>\n",
       "      <td>https://t.co/ZJnCxlIf62</td>\n",
       "    </tr>\n",
       "    <tr>\n",
       "      <th>1179</th>\n",
       "      <td>691483041324204033</td>\n",
       "      <td>5.0</td>\n",
       "      <td>10.0</td>\n",
       "      <td>When bae says they can't go out but you see them with someone else that same night. 5/10 &amp;amp; 10/10 for heartbroken pup</td>\n",
       "      <td>https://t.co/aenk0KpoWM</td>\n",
       "    </tr>\n",
       "    <tr>\n",
       "      <th>1246</th>\n",
       "      <td>687102708889812993</td>\n",
       "      <td>5.0</td>\n",
       "      <td>10.0</td>\n",
       "      <td>Army of water dogs here. None of them know where they're going. Have no real purpose. Aggressive barks. 5/10 for all</td>\n",
       "      <td>https://t.co/A88x73TwMN</td>\n",
       "    </tr>\n",
       "    <tr>\n",
       "      <th>1276</th>\n",
       "      <td>684959798585110529</td>\n",
       "      <td>5.0</td>\n",
       "      <td>10.0</td>\n",
       "      <td>This is Jerry. He's a neat dog. No legs (tragic). Has more horns than a dog usually does. Bark is unique af. 5/10</td>\n",
       "      <td>https://t.co/85q7xlplsJ</td>\n",
       "    </tr>\n",
       "    <tr>\n",
       "      <th>1281</th>\n",
       "      <td>684880619965411328</td>\n",
       "      <td>5.0</td>\n",
       "      <td>10.0</td>\n",
       "      <td>Here we have a basking dino pupper. Looks powerful. Occasionally shits eggs. Doesn't want the holidays to end. 5/10</td>\n",
       "      <td>https://t.co/DnNweb5eTO</td>\n",
       "    </tr>\n",
       "    <tr>\n",
       "      <th>1297</th>\n",
       "      <td>683849932751646720</td>\n",
       "      <td>5.0</td>\n",
       "      <td>10.0</td>\n",
       "      <td>This is Jiminy. He's not the brightest dog. Needs to lay off the kibble. 5/10 still petable</td>\n",
       "      <td>https://t.co/omln4LOy1x</td>\n",
       "    </tr>\n",
       "    <tr>\n",
       "      <th>1329</th>\n",
       "      <td>682003177596559360</td>\n",
       "      <td>5.0</td>\n",
       "      <td>10.0</td>\n",
       "      <td>Unique dog here. Wrinkly as hell. Weird segmented neck. Finger on fire. Doesn't seem to notice. 5/10 might still pet</td>\n",
       "      <td>https://t.co/Hy9La4xNX3</td>\n",
       "    </tr>\n",
       "    <tr>\n",
       "      <th>1374</th>\n",
       "      <td>679877062409191424</td>\n",
       "      <td>5.0</td>\n",
       "      <td>10.0</td>\n",
       "      <td>Meet Penelope. She's a bacon frise. Total babe (lol get it like the movie). Doesn't bark tho. 5/10 very average dog</td>\n",
       "      <td>https://t.co/SDcQYg0HSZ</td>\n",
       "    </tr>\n",
       "    <tr>\n",
       "      <th>1436</th>\n",
       "      <td>677301033169788928</td>\n",
       "      <td>5.0</td>\n",
       "      <td>10.0</td>\n",
       "      <td>This is Juckson. He's totally on his way to a nascar race. 5/10 for Juckson</td>\n",
       "      <td>https://t.co/IoLRvF0Kak</td>\n",
       "    </tr>\n",
       "    <tr>\n",
       "      <th>1447</th>\n",
       "      <td>676897532954456065</td>\n",
       "      <td>5.0</td>\n",
       "      <td>10.0</td>\n",
       "      <td>Exotic handheld dog here. Appears unathletic. Feet look deadly. Can be thrown a great distance. 5/10 might pet idk</td>\n",
       "      <td>https://t.co/Avq4awulqk</td>\n",
       "    </tr>\n",
       "    <tr>\n",
       "      <th>1457</th>\n",
       "      <td>676588346097852417</td>\n",
       "      <td>5.0</td>\n",
       "      <td>10.0</td>\n",
       "      <td>This is Bubbles. He kinda resembles a fish. Always makes eye contact with u no matter what. Sneaky tongue slip. 5/10</td>\n",
       "      <td>https://t.co/Nrhvc5tLFT</td>\n",
       "    </tr>\n",
       "    <tr>\n",
       "      <th>1494</th>\n",
       "      <td>675483430902214656</td>\n",
       "      <td>5.0</td>\n",
       "      <td>10.0</td>\n",
       "      <td>Rare shielded battle dog here. Very happy about abundance of lettuce. Painfully slow fetcher. Still petable. 5/10</td>\n",
       "      <td>https://t.co/C3tlKVq7eO</td>\n",
       "    </tr>\n",
       "    <tr>\n",
       "      <th>1506</th>\n",
       "      <td>675135153782571009</td>\n",
       "      <td>5.0</td>\n",
       "      <td>10.0</td>\n",
       "      <td>This is Steven. He got locked outside. Damn it Steven. 5/10 nice grill tho</td>\n",
       "      <td>https://t.co/zf7Sxxjfp3</td>\n",
       "    </tr>\n",
       "    <tr>\n",
       "      <th>1529</th>\n",
       "      <td>674646392044941312</td>\n",
       "      <td>5.0</td>\n",
       "      <td>10.0</td>\n",
       "      <td>Two gorgeous dogs here. Little waddling dog is a rebel. Refuses to look at camera. Must be a preteen. 5/10 &amp;amp; 8/10</td>\n",
       "      <td>https://t.co/YPfw7oahbD</td>\n",
       "    </tr>\n",
       "    <tr>\n",
       "      <th>1532</th>\n",
       "      <td>674632714662858753</td>\n",
       "      <td>5.0</td>\n",
       "      <td>10.0</td>\n",
       "      <td>Rare submerged pup here. Holds breath for a long time. Frowning because that spoon ignores him. 5/10 would still pet</td>\n",
       "      <td>https://t.co/EJzzNHE8bE</td>\n",
       "    </tr>\n",
       "    <tr>\n",
       "      <th>1550</th>\n",
       "      <td>674063288070742018</td>\n",
       "      <td>5.0</td>\n",
       "      <td>10.0</td>\n",
       "      <td>This is Earl. Earl is lost. Someone help Earl. He has no tags. Just trying to get home. 5/10 hang in there Earl</td>\n",
       "      <td>https://t.co/1ZbfqAVDg6</td>\n",
       "    </tr>\n",
       "    <tr>\n",
       "      <th>1603</th>\n",
       "      <td>672980819271634944</td>\n",
       "      <td>5.0</td>\n",
       "      <td>10.0</td>\n",
       "      <td>Extraordinary dog here. Looks large. Just a head. No body. Rather intrusive. 5/10 would still pet</td>\n",
       "      <td>https://t.co/ufHWUFA9Pu</td>\n",
       "    </tr>\n",
       "    <tr>\n",
       "      <th>1637</th>\n",
       "      <td>672231046314901505</td>\n",
       "      <td>5.0</td>\n",
       "      <td>10.0</td>\n",
       "      <td>Exotic underwater dog here. Very shy. Wont return tennis balls I toss him. Never been petted. 5/10 I bet he's soft</td>\n",
       "      <td>https://t.co/WH7Nzc5IBA</td>\n",
       "    </tr>\n",
       "    <tr>\n",
       "      <th>1650</th>\n",
       "      <td>671879137494245376</td>\n",
       "      <td>5.0</td>\n",
       "      <td>10.0</td>\n",
       "      <td>This is Brad. He's a chubby lil pup. Doesn't really need the food he's trying to reach. 5/10 you've had enough Brad</td>\n",
       "      <td>https://t.co/vPXKSaNsbE</td>\n",
       "    </tr>\n",
       "    <tr>\n",
       "      <th>1685</th>\n",
       "      <td>671159727754231808</td>\n",
       "      <td>5.0</td>\n",
       "      <td>10.0</td>\n",
       "      <td>This is Anthony. He just finished up his masters at Harvard. Unprofessional tattoos. Always looks perturbed. 5/10</td>\n",
       "      <td>https://t.co/iHLo9rGay1</td>\n",
       "    </tr>\n",
       "    <tr>\n",
       "      <th>1714</th>\n",
       "      <td>670782429121134593</td>\n",
       "      <td>5.0</td>\n",
       "      <td>10.0</td>\n",
       "      <td>This dude slaps your girl's ass what do you do?\\n5/10</td>\n",
       "      <td>https://t.co/6dioUL6gcP</td>\n",
       "    </tr>\n",
       "    <tr>\n",
       "      <th>1731</th>\n",
       "      <td>670449342516494336</td>\n",
       "      <td>5.0</td>\n",
       "      <td>10.0</td>\n",
       "      <td>Vibrant dog here. Fabulous tail. Only 2 legs tho. Has wings but can barely fly (lame). Rather elusive. 5/10 okay pup</td>\n",
       "      <td>https://t.co/cixC0M3P1e</td>\n",
       "    </tr>\n",
       "    <tr>\n",
       "      <th>1756</th>\n",
       "      <td>670069087419133954</td>\n",
       "      <td>5.0</td>\n",
       "      <td>10.0</td>\n",
       "      <td>This is Randall. He's from Chernobyl. Built playground himself. Has been stuck up there quite a while. 5/10 good dog</td>\n",
       "      <td>https://t.co/pzrvc7wKGd</td>\n",
       "    </tr>\n",
       "    <tr>\n",
       "      <th>1761</th>\n",
       "      <td>670037189829525505</td>\n",
       "      <td>5.0</td>\n",
       "      <td>10.0</td>\n",
       "      <td>Awesome dog here. Not sure where it is tho. Spectacular camouflage. Enjoys leaves. Not very soft. 5/10 still petable</td>\n",
       "      <td>https://t.co/rOTOteKx4q</td>\n",
       "    </tr>\n",
       "    <tr>\n",
       "      <th>1774</th>\n",
       "      <td>669661792646373376</td>\n",
       "      <td>5.0</td>\n",
       "      <td>10.0</td>\n",
       "      <td>This is a brave dog. Excellent free climber. Trying to get closer to God. Not very loyal though. Doesn't bark. 5/10</td>\n",
       "      <td>https://t.co/ODnILTr4QM</td>\n",
       "    </tr>\n",
       "    <tr>\n",
       "      <th>1801</th>\n",
       "      <td>668994913074286592</td>\n",
       "      <td>5.0</td>\n",
       "      <td>10.0</td>\n",
       "      <td>Two gorgeous pups here. Both have cute fake horns(adorable). Barn in the back looks on fire. 5/10 would pet rly well</td>\n",
       "      <td>https://t.co/w5oYFXi0uh</td>\n",
       "    </tr>\n",
       "    <tr>\n",
       "      <th>1825</th>\n",
       "      <td>668631377374486528</td>\n",
       "      <td>5.0</td>\n",
       "      <td>10.0</td>\n",
       "      <td>Meet Zeek. He is a grey Cumulonimbus. Zeek is hungry. Someone should feed Zeek asap. 5/10 absolutely terrifying</td>\n",
       "      <td>https://t.co/fvVNScw8VH</td>\n",
       "    </tr>\n",
       "    <tr>\n",
       "      <th>1860</th>\n",
       "      <td>667911425562669056</td>\n",
       "      <td>5.0</td>\n",
       "      <td>10.0</td>\n",
       "      <td>Wow. Armored dog here. Ready for battle. Face looks dangerous. Not very loyal. Lil dog on back havin a blast. 5/10</td>\n",
       "      <td>https://t.co/SyMoWrp368</td>\n",
       "    </tr>\n",
       "    <tr>\n",
       "      <th>1927</th>\n",
       "      <td>666776908487630848</td>\n",
       "      <td>5.0</td>\n",
       "      <td>10.0</td>\n",
       "      <td>This is Josep. He is a Rye Manganese mix. Can drive w eyes closed. Very irresponsible. Menace on the roadways. 5/10</td>\n",
       "      <td>https://t.co/XNGeDwrtYH</td>\n",
       "    </tr>\n",
       "    <tr>\n",
       "      <th>1966</th>\n",
       "      <td>666049248165822465</td>\n",
       "      <td>5.0</td>\n",
       "      <td>10.0</td>\n",
       "      <td>Here we have a 1949 1st generation vulpix. Enjoys sweat tea and Fox News. Cannot be phased. 5/10</td>\n",
       "      <td>https://t.co/4B7cOc1EDq</td>\n",
       "    </tr>\n",
       "  </tbody>\n",
       "</table>\n",
       "</div>"
      ],
      "text/plain": [
       "                tweet_id  rating_numerator  rating_denominator  \\\n",
       "39    883482846933004288  5.0               10.0                 \n",
       "526   781661882474196992  5.0               10.0                 \n",
       "700   751583847268179968  5.0               10.0                 \n",
       "1089  699691744225525762  5.0               10.0                 \n",
       "1179  691483041324204033  5.0               10.0                 \n",
       "1246  687102708889812993  5.0               10.0                 \n",
       "1276  684959798585110529  5.0               10.0                 \n",
       "1281  684880619965411328  5.0               10.0                 \n",
       "1297  683849932751646720  5.0               10.0                 \n",
       "1329  682003177596559360  5.0               10.0                 \n",
       "1374  679877062409191424  5.0               10.0                 \n",
       "1436  677301033169788928  5.0               10.0                 \n",
       "1447  676897532954456065  5.0               10.0                 \n",
       "1457  676588346097852417  5.0               10.0                 \n",
       "1494  675483430902214656  5.0               10.0                 \n",
       "1506  675135153782571009  5.0               10.0                 \n",
       "1529  674646392044941312  5.0               10.0                 \n",
       "1532  674632714662858753  5.0               10.0                 \n",
       "1550  674063288070742018  5.0               10.0                 \n",
       "1603  672980819271634944  5.0               10.0                 \n",
       "1637  672231046314901505  5.0               10.0                 \n",
       "1650  671879137494245376  5.0               10.0                 \n",
       "1685  671159727754231808  5.0               10.0                 \n",
       "1714  670782429121134593  5.0               10.0                 \n",
       "1731  670449342516494336  5.0               10.0                 \n",
       "1756  670069087419133954  5.0               10.0                 \n",
       "1761  670037189829525505  5.0               10.0                 \n",
       "1774  669661792646373376  5.0               10.0                 \n",
       "1801  668994913074286592  5.0               10.0                 \n",
       "1825  668631377374486528  5.0               10.0                 \n",
       "1860  667911425562669056  5.0               10.0                 \n",
       "1927  666776908487630848  5.0               10.0                 \n",
       "1966  666049248165822465  5.0               10.0                 \n",
       "\n",
       "                                                                                                                          text  \\\n",
       "39    This is Bella. She hopes her smile made you smile. If not, she is also offering you her favorite monkey. 13.5/10           \n",
       "526   Who keeps sending in pictures without dogs in them? This needs to stop. 5/10 for the mediocre road                         \n",
       "700   Please stop sending it pictures that don't even have a doggo or pupper in them. Churlish af. 5/10 neat couch tho           \n",
       "1089  This is Dave. He's a tropical pup. Short lil legs (dachshund mix?) Excels underwater, but refuses to eat kibble 5/10       \n",
       "1179  When bae says they can't go out but you see them with someone else that same night. 5/10 &amp; 10/10 for heartbroken pup   \n",
       "1246  Army of water dogs here. None of them know where they're going. Have no real purpose. Aggressive barks. 5/10 for all       \n",
       "1276  This is Jerry. He's a neat dog. No legs (tragic). Has more horns than a dog usually does. Bark is unique af. 5/10          \n",
       "1281  Here we have a basking dino pupper. Looks powerful. Occasionally shits eggs. Doesn't want the holidays to end. 5/10        \n",
       "1297  This is Jiminy. He's not the brightest dog. Needs to lay off the kibble. 5/10 still petable                                \n",
       "1329  Unique dog here. Wrinkly as hell. Weird segmented neck. Finger on fire. Doesn't seem to notice. 5/10 might still pet       \n",
       "1374  Meet Penelope. She's a bacon frise. Total babe (lol get it like the movie). Doesn't bark tho. 5/10 very average dog        \n",
       "1436  This is Juckson. He's totally on his way to a nascar race. 5/10 for Juckson                                                \n",
       "1447  Exotic handheld dog here. Appears unathletic. Feet look deadly. Can be thrown a great distance. 5/10 might pet idk         \n",
       "1457  This is Bubbles. He kinda resembles a fish. Always makes eye contact with u no matter what. Sneaky tongue slip. 5/10       \n",
       "1494  Rare shielded battle dog here. Very happy about abundance of lettuce. Painfully slow fetcher. Still petable. 5/10          \n",
       "1506  This is Steven. He got locked outside. Damn it Steven. 5/10 nice grill tho                                                 \n",
       "1529  Two gorgeous dogs here. Little waddling dog is a rebel. Refuses to look at camera. Must be a preteen. 5/10 &amp; 8/10      \n",
       "1532  Rare submerged pup here. Holds breath for a long time. Frowning because that spoon ignores him. 5/10 would still pet       \n",
       "1550  This is Earl. Earl is lost. Someone help Earl. He has no tags. Just trying to get home. 5/10 hang in there Earl            \n",
       "1603  Extraordinary dog here. Looks large. Just a head. No body. Rather intrusive. 5/10 would still pet                          \n",
       "1637  Exotic underwater dog here. Very shy. Wont return tennis balls I toss him. Never been petted. 5/10 I bet he's soft         \n",
       "1650  This is Brad. He's a chubby lil pup. Doesn't really need the food he's trying to reach. 5/10 you've had enough Brad        \n",
       "1685  This is Anthony. He just finished up his masters at Harvard. Unprofessional tattoos. Always looks perturbed. 5/10          \n",
       "1714  This dude slaps your girl's ass what do you do?\\n5/10                                                                      \n",
       "1731  Vibrant dog here. Fabulous tail. Only 2 legs tho. Has wings but can barely fly (lame). Rather elusive. 5/10 okay pup       \n",
       "1756  This is Randall. He's from Chernobyl. Built playground himself. Has been stuck up there quite a while. 5/10 good dog       \n",
       "1761  Awesome dog here. Not sure where it is tho. Spectacular camouflage. Enjoys leaves. Not very soft. 5/10 still petable       \n",
       "1774  This is a brave dog. Excellent free climber. Trying to get closer to God. Not very loyal though. Doesn't bark. 5/10        \n",
       "1801  Two gorgeous pups here. Both have cute fake horns(adorable). Barn in the back looks on fire. 5/10 would pet rly well       \n",
       "1825  Meet Zeek. He is a grey Cumulonimbus. Zeek is hungry. Someone should feed Zeek asap. 5/10 absolutely terrifying            \n",
       "1860  Wow. Armored dog here. Ready for battle. Face looks dangerous. Not very loyal. Lil dog on back havin a blast. 5/10         \n",
       "1927  This is Josep. He is a Rye Manganese mix. Can drive w eyes closed. Very irresponsible. Menace on the roadways. 5/10        \n",
       "1966  Here we have a 1949 1st generation vulpix. Enjoys sweat tea and Fox News. Cannot be phased. 5/10                           \n",
       "\n",
       "                   short_urls  \n",
       "39    https://t.co/qjrljjt948  \n",
       "526   https://t.co/ELqelxWMrC  \n",
       "700   https://t.co/u2c9c7qSg8  \n",
       "1089  https://t.co/ZJnCxlIf62  \n",
       "1179  https://t.co/aenk0KpoWM  \n",
       "1246  https://t.co/A88x73TwMN  \n",
       "1276  https://t.co/85q7xlplsJ  \n",
       "1281  https://t.co/DnNweb5eTO  \n",
       "1297  https://t.co/omln4LOy1x  \n",
       "1329  https://t.co/Hy9La4xNX3  \n",
       "1374  https://t.co/SDcQYg0HSZ  \n",
       "1436  https://t.co/IoLRvF0Kak  \n",
       "1447  https://t.co/Avq4awulqk  \n",
       "1457  https://t.co/Nrhvc5tLFT  \n",
       "1494  https://t.co/C3tlKVq7eO  \n",
       "1506  https://t.co/zf7Sxxjfp3  \n",
       "1529  https://t.co/YPfw7oahbD  \n",
       "1532  https://t.co/EJzzNHE8bE  \n",
       "1550  https://t.co/1ZbfqAVDg6  \n",
       "1603  https://t.co/ufHWUFA9Pu  \n",
       "1637  https://t.co/WH7Nzc5IBA  \n",
       "1650  https://t.co/vPXKSaNsbE  \n",
       "1685  https://t.co/iHLo9rGay1  \n",
       "1714  https://t.co/6dioUL6gcP  \n",
       "1731  https://t.co/cixC0M3P1e  \n",
       "1756  https://t.co/pzrvc7wKGd  \n",
       "1761  https://t.co/rOTOteKx4q  \n",
       "1774  https://t.co/ODnILTr4QM  \n",
       "1801  https://t.co/w5oYFXi0uh  \n",
       "1825  https://t.co/fvVNScw8VH  \n",
       "1860  https://t.co/SyMoWrp368  \n",
       "1927  https://t.co/XNGeDwrtYH  \n",
       "1966  https://t.co/4B7cOc1EDq  "
      ]
     },
     "execution_count": 128,
     "metadata": {},
     "output_type": "execute_result"
    }
   ],
   "source": [
    "archive_sub3[archive_sub3.rating_numerator==5]"
   ]
  },
  {
   "cell_type": "code",
   "execution_count": 129,
   "metadata": {},
   "outputs": [],
   "source": [
    "archive_sub3.iloc[39] = archive_sub3.iloc[39].replace(5,13.5)"
   ]
  },
  {
   "cell_type": "markdown",
   "metadata": {},
   "source": [
    "#### Test"
   ]
  },
  {
   "cell_type": "code",
   "execution_count": 130,
   "metadata": {},
   "outputs": [
    {
     "data": {
      "text/plain": [
       "13.5"
      ]
     },
     "execution_count": 130,
     "metadata": {},
     "output_type": "execute_result"
    }
   ],
   "source": [
    "archive_sub3.rating_numerator.iloc[39]"
   ]
  },
  {
   "cell_type": "markdown",
   "metadata": {},
   "source": [
    "#### Code"
   ]
  },
  {
   "cell_type": "code",
   "execution_count": 131,
   "metadata": {},
   "outputs": [
    {
     "data": {
      "text/html": [
       "<div>\n",
       "<style scoped>\n",
       "    .dataframe tbody tr th:only-of-type {\n",
       "        vertical-align: middle;\n",
       "    }\n",
       "\n",
       "    .dataframe tbody tr th {\n",
       "        vertical-align: top;\n",
       "    }\n",
       "\n",
       "    .dataframe thead th {\n",
       "        text-align: right;\n",
       "    }\n",
       "</style>\n",
       "<table border=\"1\" class=\"dataframe\">\n",
       "  <thead>\n",
       "    <tr style=\"text-align: right;\">\n",
       "      <th></th>\n",
       "      <th>tweet_id</th>\n",
       "      <th>rating_numerator</th>\n",
       "      <th>rating_denominator</th>\n",
       "      <th>text</th>\n",
       "      <th>short_urls</th>\n",
       "    </tr>\n",
       "  </thead>\n",
       "  <tbody>\n",
       "    <tr>\n",
       "      <th>1359</th>\n",
       "      <td>680494726643068929</td>\n",
       "      <td>26.0</td>\n",
       "      <td>10.0</td>\n",
       "      <td>Here we have uncovered an entire battalion of holiday puppers. Average of 11.26/10</td>\n",
       "      <td>https://t.co/eNm2S6p9BD</td>\n",
       "    </tr>\n",
       "  </tbody>\n",
       "</table>\n",
       "</div>"
      ],
      "text/plain": [
       "                tweet_id  rating_numerator  rating_denominator  \\\n",
       "1359  680494726643068929  26.0              10.0                 \n",
       "\n",
       "                                                                                    text  \\\n",
       "1359  Here we have uncovered an entire battalion of holiday puppers. Average of 11.26/10   \n",
       "\n",
       "                   short_urls  \n",
       "1359  https://t.co/eNm2S6p9BD  "
      ]
     },
     "execution_count": 131,
     "metadata": {},
     "output_type": "execute_result"
    }
   ],
   "source": [
    "archive_sub3[archive_sub3.rating_numerator==26]"
   ]
  },
  {
   "cell_type": "code",
   "execution_count": 132,
   "metadata": {},
   "outputs": [],
   "source": [
    "archive_sub3.iloc[1359] = archive_sub3.iloc[1359].replace(26,11.26)"
   ]
  },
  {
   "cell_type": "markdown",
   "metadata": {},
   "source": [
    "#### Test"
   ]
  },
  {
   "cell_type": "code",
   "execution_count": 133,
   "metadata": {},
   "outputs": [
    {
     "data": {
      "text/plain": [
       "11.26"
      ]
     },
     "execution_count": 133,
     "metadata": {},
     "output_type": "execute_result"
    }
   ],
   "source": [
    "archive_sub3.rating_numerator.iloc[1359]"
   ]
  },
  {
   "cell_type": "markdown",
   "metadata": {},
   "source": [
    "#### Define\n",
    "Remove record representing tweet about a singer not an actual dog rating"
   ]
  },
  {
   "cell_type": "markdown",
   "metadata": {},
   "source": [
    "#### Code"
   ]
  },
  {
   "cell_type": "code",
   "execution_count": 134,
   "metadata": {},
   "outputs": [],
   "source": [
    "archive_sub3=archive_sub3[archive_sub3.rating_numerator.notnull()]"
   ]
  },
  {
   "cell_type": "markdown",
   "metadata": {},
   "source": [
    "#### Test"
   ]
  },
  {
   "cell_type": "code",
   "execution_count": 135,
   "metadata": {},
   "outputs": [
    {
     "name": "stdout",
     "output_type": "stream",
     "text": [
      "<class 'pandas.core.frame.DataFrame'>\n",
      "Int64Index: 1969 entries, 0 to 1970\n",
      "Data columns (total 5 columns):\n",
      " #   Column              Non-Null Count  Dtype  \n",
      "---  ------              --------------  -----  \n",
      " 0   tweet_id            1969 non-null   int64  \n",
      " 1   rating_numerator    1969 non-null   float64\n",
      " 2   rating_denominator  1969 non-null   float64\n",
      " 3   text                1969 non-null   object \n",
      " 4   short_urls          1969 non-null   object \n",
      "dtypes: float64(2), int64(1), object(2)\n",
      "memory usage: 92.3+ KB\n"
     ]
    }
   ],
   "source": [
    "archive_sub3.info()"
   ]
  },
  {
   "cell_type": "markdown",
   "metadata": {},
   "source": [
    "#### Define\n",
    "Now, we can merge the original dataframe to the sub_dataframe using `inner` method to remove invalid records discovered during cleaning."
   ]
  },
  {
   "cell_type": "markdown",
   "metadata": {},
   "source": [
    "#### Code"
   ]
  },
  {
   "cell_type": "code",
   "execution_count": 136,
   "metadata": {},
   "outputs": [],
   "source": [
    "archive_sub3.drop(columns=['text','short_urls'],inplace=True)\n",
    "archive.drop(columns=['rating_numerator','rating_denominator'],inplace=True)\n",
    "archive = pd.merge(archive,archive_sub3,how='inner',on='tweet_id')"
   ]
  },
  {
   "cell_type": "markdown",
   "metadata": {},
   "source": [
    "#### Test"
   ]
  },
  {
   "cell_type": "code",
   "execution_count": 137,
   "metadata": {},
   "outputs": [
    {
     "name": "stdout",
     "output_type": "stream",
     "text": [
      "<class 'pandas.core.frame.DataFrame'>\n",
      "Int64Index: 1969 entries, 0 to 1968\n",
      "Data columns (total 12 columns):\n",
      " #   Column              Non-Null Count  Dtype  \n",
      "---  ------              --------------  -----  \n",
      " 0   tweet_id            1969 non-null   int64  \n",
      " 1   timestamp           1969 non-null   object \n",
      " 2   source              1969 non-null   object \n",
      " 3   expanded_urls       1969 non-null   object \n",
      " 4   retweet_count       1969 non-null   int64  \n",
      " 5   favorite_count      1969 non-null   int64  \n",
      " 6   dog_stage           303 non-null    object \n",
      " 7   text                1969 non-null   object \n",
      " 8   short_urls          1969 non-null   object \n",
      " 9   c_name              1381 non-null   object \n",
      " 10  rating_numerator    1969 non-null   float64\n",
      " 11  rating_denominator  1969 non-null   float64\n",
      "dtypes: float64(2), int64(3), object(7)\n",
      "memory usage: 200.0+ KB\n"
     ]
    }
   ],
   "source": [
    "archive.info()"
   ]
  },
  {
   "cell_type": "markdown",
   "metadata": {},
   "source": [
    "### 4.11 remove invalid tweets for `image` dataframe: (solve 1 data quality issue)\n",
    "#### Define\n",
    "As the rating step showed that two tweets are invalid. one of them doesn't have rating while the other has the image of a singer we need to dump these records from `image` dataframe for further analysis effort. this will be done with logical slicing of `image` dataframe using mask of `tweet_id` column created by comparing this column between `image` and `archive` dataframe"
   ]
  },
  {
   "cell_type": "markdown",
   "metadata": {},
   "source": [
    "#### Code"
   ]
  },
  {
   "cell_type": "code",
   "execution_count": 138,
   "metadata": {},
   "outputs": [],
   "source": [
    "valid_tweets = archive.tweet_id\n",
    "mask=[]\n",
    "for x in list(image.tweet_id):\n",
    "    mask.append(x in list(valid_tweets))\n",
    "image=image[mask]"
   ]
  },
  {
   "cell_type": "markdown",
   "metadata": {},
   "source": [
    "#### Test"
   ]
  },
  {
   "cell_type": "code",
   "execution_count": 139,
   "metadata": {},
   "outputs": [
    {
     "name": "stdout",
     "output_type": "stream",
     "text": [
      "<class 'pandas.core.frame.DataFrame'>\n",
      "Int64Index: 1969 entries, 0 to 2074\n",
      "Data columns (total 12 columns):\n",
      " #   Column    Non-Null Count  Dtype  \n",
      "---  ------    --------------  -----  \n",
      " 0   tweet_id  1969 non-null   int64  \n",
      " 1   jpg_url   1969 non-null   object \n",
      " 2   img_num   1969 non-null   int64  \n",
      " 3   p1        1969 non-null   object \n",
      " 4   p1_conf   1969 non-null   float64\n",
      " 5   p1_dog    1969 non-null   bool   \n",
      " 6   p2        1969 non-null   object \n",
      " 7   p2_conf   1969 non-null   float64\n",
      " 8   p2_dog    1969 non-null   bool   \n",
      " 9   p3        1969 non-null   object \n",
      " 10  p3_conf   1969 non-null   float64\n",
      " 11  p3_dog    1969 non-null   bool   \n",
      "dtypes: bool(3), float64(3), int64(2), object(4)\n",
      "memory usage: 159.6+ KB\n"
     ]
    }
   ],
   "source": [
    "image.info()"
   ]
  },
  {
   "cell_type": "markdown",
   "metadata": {},
   "source": [
    "### 4.12 reshape the `image` dataframe: (solve 1 tidiness issue)\n",
    "#### Define\n",
    "`image` dataframe needs changing columns name & re-arrange the data to be more representative. this will be done using `wide_to_long` function from `pandas` dataframe"
   ]
  },
  {
   "cell_type": "markdown",
   "metadata": {},
   "source": [
    "#### Code"
   ]
  },
  {
   "cell_type": "code",
   "execution_count": 140,
   "metadata": {},
   "outputs": [],
   "source": [
    "cols = ['tweet_id', 'jpg_url', 'img_num', \n",
    "       'breed_1', 'confidence_1', 'is_dog_1',\n",
    "       'breed_2', 'confidence_2', 'is_dog_2',\n",
    "       'breed_3', 'confidence_3', 'is_dog_3']\n",
    "image.columns = cols"
   ]
  },
  {
   "cell_type": "code",
   "execution_count": 141,
   "metadata": {},
   "outputs": [],
   "source": [
    "image = pd.wide_to_long(image, stubnames=['breed', 'confidence', 'is_dog'], \n",
    "    i=['tweet_id', 'jpg_url', 'img_num'], j='prediction_level', sep=\"_\").reset_index()"
   ]
  },
  {
   "cell_type": "markdown",
   "metadata": {},
   "source": [
    "#### Test"
   ]
  },
  {
   "cell_type": "code",
   "execution_count": 142,
   "metadata": {},
   "outputs": [
    {
     "data": {
      "text/html": [
       "<div>\n",
       "<style scoped>\n",
       "    .dataframe tbody tr th:only-of-type {\n",
       "        vertical-align: middle;\n",
       "    }\n",
       "\n",
       "    .dataframe tbody tr th {\n",
       "        vertical-align: top;\n",
       "    }\n",
       "\n",
       "    .dataframe thead th {\n",
       "        text-align: right;\n",
       "    }\n",
       "</style>\n",
       "<table border=\"1\" class=\"dataframe\">\n",
       "  <thead>\n",
       "    <tr style=\"text-align: right;\">\n",
       "      <th></th>\n",
       "      <th>tweet_id</th>\n",
       "      <th>jpg_url</th>\n",
       "      <th>img_num</th>\n",
       "      <th>prediction_level</th>\n",
       "      <th>breed</th>\n",
       "      <th>confidence</th>\n",
       "      <th>is_dog</th>\n",
       "    </tr>\n",
       "  </thead>\n",
       "  <tbody>\n",
       "    <tr>\n",
       "      <th>0</th>\n",
       "      <td>666020888022790149</td>\n",
       "      <td>https://pbs.twimg.com/media/CT4udn0WwAA0aMy.jpg</td>\n",
       "      <td>1</td>\n",
       "      <td>1</td>\n",
       "      <td>Welsh_springer_spaniel</td>\n",
       "      <td>0.465074</td>\n",
       "      <td>True</td>\n",
       "    </tr>\n",
       "    <tr>\n",
       "      <th>1</th>\n",
       "      <td>666020888022790149</td>\n",
       "      <td>https://pbs.twimg.com/media/CT4udn0WwAA0aMy.jpg</td>\n",
       "      <td>1</td>\n",
       "      <td>2</td>\n",
       "      <td>collie</td>\n",
       "      <td>0.156665</td>\n",
       "      <td>True</td>\n",
       "    </tr>\n",
       "    <tr>\n",
       "      <th>2</th>\n",
       "      <td>666020888022790149</td>\n",
       "      <td>https://pbs.twimg.com/media/CT4udn0WwAA0aMy.jpg</td>\n",
       "      <td>1</td>\n",
       "      <td>3</td>\n",
       "      <td>Shetland_sheepdog</td>\n",
       "      <td>0.061428</td>\n",
       "      <td>True</td>\n",
       "    </tr>\n",
       "    <tr>\n",
       "      <th>3</th>\n",
       "      <td>666029285002620928</td>\n",
       "      <td>https://pbs.twimg.com/media/CT42GRgUYAA5iDo.jpg</td>\n",
       "      <td>1</td>\n",
       "      <td>1</td>\n",
       "      <td>redbone</td>\n",
       "      <td>0.506826</td>\n",
       "      <td>True</td>\n",
       "    </tr>\n",
       "    <tr>\n",
       "      <th>4</th>\n",
       "      <td>666029285002620928</td>\n",
       "      <td>https://pbs.twimg.com/media/CT42GRgUYAA5iDo.jpg</td>\n",
       "      <td>1</td>\n",
       "      <td>2</td>\n",
       "      <td>miniature_pinscher</td>\n",
       "      <td>0.074192</td>\n",
       "      <td>True</td>\n",
       "    </tr>\n",
       "  </tbody>\n",
       "</table>\n",
       "</div>"
      ],
      "text/plain": [
       "             tweet_id                                          jpg_url  \\\n",
       "0  666020888022790149  https://pbs.twimg.com/media/CT4udn0WwAA0aMy.jpg   \n",
       "1  666020888022790149  https://pbs.twimg.com/media/CT4udn0WwAA0aMy.jpg   \n",
       "2  666020888022790149  https://pbs.twimg.com/media/CT4udn0WwAA0aMy.jpg   \n",
       "3  666029285002620928  https://pbs.twimg.com/media/CT42GRgUYAA5iDo.jpg   \n",
       "4  666029285002620928  https://pbs.twimg.com/media/CT42GRgUYAA5iDo.jpg   \n",
       "\n",
       "   img_num  prediction_level                   breed  confidence  is_dog  \n",
       "0  1        1                 Welsh_springer_spaniel  0.465074    True    \n",
       "1  1        2                 collie                  0.156665    True    \n",
       "2  1        3                 Shetland_sheepdog       0.061428    True    \n",
       "3  1        1                 redbone                 0.506826    True    \n",
       "4  1        2                 miniature_pinscher      0.074192    True    "
      ]
     },
     "execution_count": 142,
     "metadata": {},
     "output_type": "execute_result"
    }
   ],
   "source": [
    "image.head()"
   ]
  },
  {
   "cell_type": "markdown",
   "metadata": {},
   "source": [
    "### 4.13 modify `breed` column in `image` dataframe: (solve 1 data quality issue)\n",
    "#### Define\n",
    "The data in this column is not consistent. some letters are uppercase while others are lowercase. the solution is to set all letters in this column to lowercase letters. This can be achieved with `.lower()` method"
   ]
  },
  {
   "cell_type": "markdown",
   "metadata": {},
   "source": [
    "#### Code"
   ]
  },
  {
   "cell_type": "code",
   "execution_count": 143,
   "metadata": {},
   "outputs": [],
   "source": [
    "image.breed = image.breed.str.lower()"
   ]
  },
  {
   "cell_type": "markdown",
   "metadata": {},
   "source": [
    "#### Test"
   ]
  },
  {
   "cell_type": "code",
   "execution_count": 144,
   "metadata": {},
   "outputs": [
    {
     "data": {
      "text/plain": [
       "labrador_retriever    264\n",
       "golden_retriever      263\n",
       "chihuahua             178\n",
       "pembroke              138\n",
       "cardigan              113\n",
       "                     ... \n",
       "knee_pad              1  \n",
       "hair_slide            1  \n",
       "monitor               1  \n",
       "remote_control        1  \n",
       "parachute             1  \n",
       "Name: breed, Length: 622, dtype: int64"
      ]
     },
     "execution_count": 144,
     "metadata": {},
     "output_type": "execute_result"
    }
   ],
   "source": [
    "image.breed.value_counts()"
   ]
  },
  {
   "cell_type": "markdown",
   "metadata": {},
   "source": [
    "### 4.14 modify the `timestamp` column in `archive` dataframe\n",
    "#### Define\n",
    "The `timestamp` column has `+00:00` attached to the timestamp text. this can be removed before modifying the data type of this column. This can be done by `.split()` method."
   ]
  },
  {
   "cell_type": "markdown",
   "metadata": {},
   "source": [
    "#### Code"
   ]
  },
  {
   "cell_type": "code",
   "execution_count": 145,
   "metadata": {},
   "outputs": [],
   "source": [
    "for index,row in archive.iterrows():\n",
    "    string = row['timestamp'].strip().split('+')[0]\n",
    "    archive.loc[index,'timestamp']=archive.loc[index,'timestamp'].replace(row['timestamp'],string)"
   ]
  },
  {
   "cell_type": "markdown",
   "metadata": {},
   "source": [
    "#### Test"
   ]
  },
  {
   "cell_type": "code",
   "execution_count": 146,
   "metadata": {},
   "outputs": [
    {
     "data": {
      "text/plain": [
       "0       2017-08-01 16:23:56 \n",
       "1       2017-08-01 00:17:27 \n",
       "2       2017-07-31 00:18:03 \n",
       "3       2017-07-30 15:58:51 \n",
       "4       2017-07-29 16:00:24 \n",
       "                ...         \n",
       "1964    2015-11-16 00:24:50 \n",
       "1965    2015-11-16 00:04:52 \n",
       "1966    2015-11-15 23:21:54 \n",
       "1967    2015-11-15 23:05:30 \n",
       "1968    2015-11-15 22:32:08 \n",
       "Name: timestamp, Length: 1969, dtype: object"
      ]
     },
     "execution_count": 146,
     "metadata": {},
     "output_type": "execute_result"
    }
   ],
   "source": [
    "archive.timestamp"
   ]
  },
  {
   "cell_type": "markdown",
   "metadata": {},
   "source": [
    "### 4.15 modify wrong data type of columns in `archive` dataframe\n",
    "#### Define\n",
    "Modify all wrong data types of `archive` dataframe"
   ]
  },
  {
   "cell_type": "markdown",
   "metadata": {},
   "source": [
    "#### Code"
   ]
  },
  {
   "cell_type": "code",
   "execution_count": 147,
   "metadata": {},
   "outputs": [],
   "source": [
    "archive.tweet_id=archive.tweet_id.astype('str')\n",
    "archive.timestamp = pd.to_datetime(archive.timestamp)\n",
    "archive.dog_stage = archive.dog_stage.astype('category')"
   ]
  },
  {
   "cell_type": "markdown",
   "metadata": {},
   "source": [
    "#### Test"
   ]
  },
  {
   "cell_type": "code",
   "execution_count": 148,
   "metadata": {},
   "outputs": [
    {
     "name": "stdout",
     "output_type": "stream",
     "text": [
      "<class 'pandas.core.frame.DataFrame'>\n",
      "Int64Index: 1969 entries, 0 to 1968\n",
      "Data columns (total 12 columns):\n",
      " #   Column              Non-Null Count  Dtype         \n",
      "---  ------              --------------  -----         \n",
      " 0   tweet_id            1969 non-null   object        \n",
      " 1   timestamp           1969 non-null   datetime64[ns]\n",
      " 2   source              1969 non-null   object        \n",
      " 3   expanded_urls       1969 non-null   object        \n",
      " 4   retweet_count       1969 non-null   int64         \n",
      " 5   favorite_count      1969 non-null   int64         \n",
      " 6   dog_stage           303 non-null    category      \n",
      " 7   text                1969 non-null   object        \n",
      " 8   short_urls          1969 non-null   object        \n",
      " 9   c_name              1381 non-null   object        \n",
      " 10  rating_numerator    1969 non-null   float64       \n",
      " 11  rating_denominator  1969 non-null   float64       \n",
      "dtypes: category(1), datetime64[ns](1), float64(2), int64(2), object(6)\n",
      "memory usage: 266.9+ KB\n"
     ]
    }
   ],
   "source": [
    "archive.info()"
   ]
  },
  {
   "cell_type": "code",
   "execution_count": 149,
   "metadata": {},
   "outputs": [
    {
     "data": {
      "text/html": [
       "<div>\n",
       "<style scoped>\n",
       "    .dataframe tbody tr th:only-of-type {\n",
       "        vertical-align: middle;\n",
       "    }\n",
       "\n",
       "    .dataframe tbody tr th {\n",
       "        vertical-align: top;\n",
       "    }\n",
       "\n",
       "    .dataframe thead th {\n",
       "        text-align: right;\n",
       "    }\n",
       "</style>\n",
       "<table border=\"1\" class=\"dataframe\">\n",
       "  <thead>\n",
       "    <tr style=\"text-align: right;\">\n",
       "      <th></th>\n",
       "      <th>tweet_id</th>\n",
       "      <th>timestamp</th>\n",
       "      <th>source</th>\n",
       "      <th>expanded_urls</th>\n",
       "      <th>retweet_count</th>\n",
       "      <th>favorite_count</th>\n",
       "      <th>dog_stage</th>\n",
       "      <th>text</th>\n",
       "      <th>short_urls</th>\n",
       "      <th>c_name</th>\n",
       "      <th>rating_numerator</th>\n",
       "      <th>rating_denominator</th>\n",
       "    </tr>\n",
       "  </thead>\n",
       "  <tbody>\n",
       "    <tr>\n",
       "      <th>0</th>\n",
       "      <td>892420643555336193</td>\n",
       "      <td>2017-08-01 16:23:56</td>\n",
       "      <td>&lt;a href=\"http://twitter.com/download/iphone\" rel=\"nofollow\"&gt;Twitter for iPhone&lt;/a&gt;</td>\n",
       "      <td>https://twitter.com/dog_rates/status/892420643555336193/photo/1</td>\n",
       "      <td>8853</td>\n",
       "      <td>39467</td>\n",
       "      <td>NaN</td>\n",
       "      <td>This is Phineas. He's a mystical boy. Only ever appears in the hole of a donut. 13/10</td>\n",
       "      <td>https://t.co/MgUWQ76dJU</td>\n",
       "      <td>Phineas</td>\n",
       "      <td>13.0</td>\n",
       "      <td>10.0</td>\n",
       "    </tr>\n",
       "    <tr>\n",
       "      <th>1</th>\n",
       "      <td>892177421306343426</td>\n",
       "      <td>2017-08-01 00:17:27</td>\n",
       "      <td>&lt;a href=\"http://twitter.com/download/iphone\" rel=\"nofollow\"&gt;Twitter for iPhone&lt;/a&gt;</td>\n",
       "      <td>https://twitter.com/dog_rates/status/892177421306343426/photo/1</td>\n",
       "      <td>6514</td>\n",
       "      <td>33819</td>\n",
       "      <td>NaN</td>\n",
       "      <td>This is Tilly. She's just checking pup on you. Hopes you're doing ok. If not, she's available for pats, snugs, boops, the whole bit. 13/10</td>\n",
       "      <td>https://t.co/0Xxu71qeIV</td>\n",
       "      <td>Tilly</td>\n",
       "      <td>13.0</td>\n",
       "      <td>10.0</td>\n",
       "    </tr>\n",
       "    <tr>\n",
       "      <th>2</th>\n",
       "      <td>891815181378084864</td>\n",
       "      <td>2017-07-31 00:18:03</td>\n",
       "      <td>&lt;a href=\"http://twitter.com/download/iphone\" rel=\"nofollow\"&gt;Twitter for iPhone&lt;/a&gt;</td>\n",
       "      <td>https://twitter.com/dog_rates/status/891815181378084864/photo/1</td>\n",
       "      <td>4328</td>\n",
       "      <td>25461</td>\n",
       "      <td>NaN</td>\n",
       "      <td>This is Archie. He is a rare Norwegian Pouncing Corgo. Lives in the tall grass. You never know when one may strike. 12/10</td>\n",
       "      <td>https://t.co/wUnZnhtVJB</td>\n",
       "      <td>Archie</td>\n",
       "      <td>12.0</td>\n",
       "      <td>10.0</td>\n",
       "    </tr>\n",
       "    <tr>\n",
       "      <th>3</th>\n",
       "      <td>891689557279858688</td>\n",
       "      <td>2017-07-30 15:58:51</td>\n",
       "      <td>&lt;a href=\"http://twitter.com/download/iphone\" rel=\"nofollow\"&gt;Twitter for iPhone&lt;/a&gt;</td>\n",
       "      <td>https://twitter.com/dog_rates/status/891689557279858688/photo/1</td>\n",
       "      <td>8964</td>\n",
       "      <td>42908</td>\n",
       "      <td>NaN</td>\n",
       "      <td>This is Darla. She commenced a snooze mid meal. 13/10 happens to the best of us</td>\n",
       "      <td>https://t.co/tD36da7qLQ</td>\n",
       "      <td>Darla</td>\n",
       "      <td>13.0</td>\n",
       "      <td>10.0</td>\n",
       "    </tr>\n",
       "    <tr>\n",
       "      <th>4</th>\n",
       "      <td>891327558926688256</td>\n",
       "      <td>2017-07-29 16:00:24</td>\n",
       "      <td>&lt;a href=\"http://twitter.com/download/iphone\" rel=\"nofollow\"&gt;Twitter for iPhone&lt;/a&gt;</td>\n",
       "      <td>https://twitter.com/dog_rates/status/891327558926688256/photo/1,https://twitter.com/dog_rates/status/891327558926688256/photo/1</td>\n",
       "      <td>9774</td>\n",
       "      <td>41048</td>\n",
       "      <td>NaN</td>\n",
       "      <td>This is Franklin. He would like you to stop calling him \"cute.\" He is a very fierce shark and should be respected as such. 12/10 #BarkWeek</td>\n",
       "      <td>https://t.co/AtUZn91f7f</td>\n",
       "      <td>Franklin</td>\n",
       "      <td>12.0</td>\n",
       "      <td>10.0</td>\n",
       "    </tr>\n",
       "  </tbody>\n",
       "</table>\n",
       "</div>"
      ],
      "text/plain": [
       "             tweet_id           timestamp  \\\n",
       "0  892420643555336193 2017-08-01 16:23:56   \n",
       "1  892177421306343426 2017-08-01 00:17:27   \n",
       "2  891815181378084864 2017-07-31 00:18:03   \n",
       "3  891689557279858688 2017-07-30 15:58:51   \n",
       "4  891327558926688256 2017-07-29 16:00:24   \n",
       "\n",
       "                                                                               source  \\\n",
       "0  <a href=\"http://twitter.com/download/iphone\" rel=\"nofollow\">Twitter for iPhone</a>   \n",
       "1  <a href=\"http://twitter.com/download/iphone\" rel=\"nofollow\">Twitter for iPhone</a>   \n",
       "2  <a href=\"http://twitter.com/download/iphone\" rel=\"nofollow\">Twitter for iPhone</a>   \n",
       "3  <a href=\"http://twitter.com/download/iphone\" rel=\"nofollow\">Twitter for iPhone</a>   \n",
       "4  <a href=\"http://twitter.com/download/iphone\" rel=\"nofollow\">Twitter for iPhone</a>   \n",
       "\n",
       "                                                                                                                     expanded_urls  \\\n",
       "0  https://twitter.com/dog_rates/status/892420643555336193/photo/1                                                                   \n",
       "1  https://twitter.com/dog_rates/status/892177421306343426/photo/1                                                                   \n",
       "2  https://twitter.com/dog_rates/status/891815181378084864/photo/1                                                                   \n",
       "3  https://twitter.com/dog_rates/status/891689557279858688/photo/1                                                                   \n",
       "4  https://twitter.com/dog_rates/status/891327558926688256/photo/1,https://twitter.com/dog_rates/status/891327558926688256/photo/1   \n",
       "\n",
       "   retweet_count  favorite_count dog_stage  \\\n",
       "0  8853           39467           NaN        \n",
       "1  6514           33819           NaN        \n",
       "2  4328           25461           NaN        \n",
       "3  8964           42908           NaN        \n",
       "4  9774           41048           NaN        \n",
       "\n",
       "                                                                                                                                         text  \\\n",
       "0  This is Phineas. He's a mystical boy. Only ever appears in the hole of a donut. 13/10                                                        \n",
       "1  This is Tilly. She's just checking pup on you. Hopes you're doing ok. If not, she's available for pats, snugs, boops, the whole bit. 13/10   \n",
       "2  This is Archie. He is a rare Norwegian Pouncing Corgo. Lives in the tall grass. You never know when one may strike. 12/10                    \n",
       "3  This is Darla. She commenced a snooze mid meal. 13/10 happens to the best of us                                                              \n",
       "4  This is Franklin. He would like you to stop calling him \"cute.\" He is a very fierce shark and should be respected as such. 12/10 #BarkWeek   \n",
       "\n",
       "                short_urls    c_name  rating_numerator  rating_denominator  \n",
       "0  https://t.co/MgUWQ76dJU  Phineas   13.0              10.0                \n",
       "1  https://t.co/0Xxu71qeIV  Tilly     13.0              10.0                \n",
       "2  https://t.co/wUnZnhtVJB  Archie    12.0              10.0                \n",
       "3  https://t.co/tD36da7qLQ  Darla     13.0              10.0                \n",
       "4  https://t.co/AtUZn91f7f  Franklin  12.0              10.0                "
      ]
     },
     "execution_count": 149,
     "metadata": {},
     "output_type": "execute_result"
    }
   ],
   "source": [
    "archive.head()"
   ]
  },
  {
   "cell_type": "markdown",
   "metadata": {},
   "source": [
    "### 4.16 modify wrong data type of columns in `image` dataframe\n",
    "#### Define\n",
    "Modify all wrong data types of `image` dataframe"
   ]
  },
  {
   "cell_type": "markdown",
   "metadata": {},
   "source": [
    "#### Code"
   ]
  },
  {
   "cell_type": "code",
   "execution_count": 150,
   "metadata": {},
   "outputs": [],
   "source": [
    "image.tweet_id = image.tweet_id.astype('str')\n",
    "image.prediction_level = image.prediction_level.astype('category')"
   ]
  },
  {
   "cell_type": "markdown",
   "metadata": {},
   "source": [
    "#### Test"
   ]
  },
  {
   "cell_type": "code",
   "execution_count": 151,
   "metadata": {},
   "outputs": [
    {
     "name": "stdout",
     "output_type": "stream",
     "text": [
      "<class 'pandas.core.frame.DataFrame'>\n",
      "RangeIndex: 5907 entries, 0 to 5906\n",
      "Data columns (total 7 columns):\n",
      " #   Column            Non-Null Count  Dtype   \n",
      "---  ------            --------------  -----   \n",
      " 0   tweet_id          5907 non-null   object  \n",
      " 1   jpg_url           5907 non-null   object  \n",
      " 2   img_num           5907 non-null   int64   \n",
      " 3   prediction_level  5907 non-null   category\n",
      " 4   breed             5907 non-null   object  \n",
      " 5   confidence        5907 non-null   float64 \n",
      " 6   is_dog            5907 non-null   bool    \n",
      "dtypes: bool(1), category(1), float64(1), int64(1), object(3)\n",
      "memory usage: 242.5+ KB\n"
     ]
    }
   ],
   "source": [
    "image.info()"
   ]
  },
  {
   "cell_type": "markdown",
   "metadata": {},
   "source": [
    "### 4.17 Merge `archive` and `image` dataframes\n",
    "#### Define\n",
    "\n",
    "The analysis is based on tweets with image whose 1st prediction is a dog. Thus the cleaning process is divided as follow.<br>\n",
    "1. Remove all 2nd & 3rd prediction levels from `image` dataframe\n",
    "2. Drop unnecessary columns (`jpg_url`,`prediction_level`) from `image` dataframe (they are not needed for coming analysis)\n",
    "3. Drop unnecessary columns (`source`,`expanded_urls`,`short_urls`,`rating_denominator`) from `archive` dataframe (they are not needed for coming analysis)\n",
    "4. Merge the two dataframes using `merge` function with `inner` join on `tweet_id` column"
   ]
  },
  {
   "cell_type": "markdown",
   "metadata": {},
   "source": [
    "##### Code"
   ]
  },
  {
   "cell_type": "code",
   "execution_count": 152,
   "metadata": {},
   "outputs": [],
   "source": [
    "image=image[image.prediction_level == 1]\n",
    "image.drop(columns=['jpg_url','prediction_level'],inplace=True)\n",
    "archive.drop(columns=['source','expanded_urls','short_urls','rating_denominator'],inplace=True)\n",
    "master = pd.merge(archive,image,how='inner',on='tweet_id')"
   ]
  },
  {
   "cell_type": "markdown",
   "metadata": {},
   "source": [
    "#### Test"
   ]
  },
  {
   "cell_type": "code",
   "execution_count": 154,
   "metadata": {},
   "outputs": [
    {
     "name": "stdout",
     "output_type": "stream",
     "text": [
      "<class 'pandas.core.frame.DataFrame'>\n",
      "Int64Index: 1969 entries, 0 to 1968\n",
      "Data columns (total 12 columns):\n",
      " #   Column            Non-Null Count  Dtype         \n",
      "---  ------            --------------  -----         \n",
      " 0   tweet_id          1969 non-null   object        \n",
      " 1   timestamp         1969 non-null   datetime64[ns]\n",
      " 2   retweet_count     1969 non-null   int64         \n",
      " 3   favorite_count    1969 non-null   int64         \n",
      " 4   dog_stage         303 non-null    category      \n",
      " 5   text              1969 non-null   object        \n",
      " 6   c_name            1381 non-null   object        \n",
      " 7   rating_numerator  1969 non-null   float64       \n",
      " 8   img_num           1969 non-null   int64         \n",
      " 9   breed             1969 non-null   object        \n",
      " 10  confidence        1969 non-null   float64       \n",
      " 11  is_dog            1969 non-null   bool          \n",
      "dtypes: bool(1), category(1), datetime64[ns](1), float64(2), int64(3), object(4)\n",
      "memory usage: 173.4+ KB\n"
     ]
    }
   ],
   "source": [
    "master.info()"
   ]
  },
  {
   "cell_type": "markdown",
   "metadata": {},
   "source": [
    "<a id='save'></a>\n",
    "## 5. Data Storing\n",
    "The final clean master dataframe is stored in a database for storage and further analysis if required."
   ]
  },
  {
   "cell_type": "code",
   "execution_count": 155,
   "metadata": {},
   "outputs": [],
   "source": [
    "#save as '.csv' file\n",
    "master.to_csv('twitter_archive_master.csv',index=False)"
   ]
  },
  {
   "cell_type": "code",
   "execution_count": 156,
   "metadata": {},
   "outputs": [],
   "source": [
    "engine_tweet = create_engine('sqlite:///WeRateDogs.db')"
   ]
  },
  {
   "cell_type": "code",
   "execution_count": 157,
   "metadata": {},
   "outputs": [],
   "source": [
    "#save as a database\n",
    "master.to_sql('twitter_archive_master',engine_tweet,index=False)"
   ]
  },
  {
   "cell_type": "markdown",
   "metadata": {},
   "source": [
    "<a id='analysis'></a>\n",
    "## 6. Data Analysis\n",
    "The clan dataset is further analyzed to deliver useful insights. Three main attributes were investigated and visualized in this analysis\n",
    "- The `WeRateDogs` monthly account activity in terms of number of tweets and the engagement achieved monthly. The engagement was evaluated based on the number of retweets and favorites\n",
    "- The effect of various parameters on the acount rating of the dogs. The parameters involved were the dog stage, breed and the number of images of the dog \n",
    "- The effect of the last three parameters on the number of tweets and favorites (i.e. account engagement) was also investigated."
   ]
  },
  {
   "cell_type": "code",
   "execution_count": 158,
   "metadata": {},
   "outputs": [],
   "source": [
    "analysis = pd.read_csv('twitter_archive_master.csv')"
   ]
  },
  {
   "cell_type": "code",
   "execution_count": 159,
   "metadata": {},
   "outputs": [
    {
     "name": "stdout",
     "output_type": "stream",
     "text": [
      "<class 'pandas.core.frame.DataFrame'>\n",
      "RangeIndex: 1969 entries, 0 to 1968\n",
      "Data columns (total 12 columns):\n",
      " #   Column            Non-Null Count  Dtype  \n",
      "---  ------            --------------  -----  \n",
      " 0   tweet_id          1969 non-null   int64  \n",
      " 1   timestamp         1969 non-null   object \n",
      " 2   retweet_count     1969 non-null   int64  \n",
      " 3   favorite_count    1969 non-null   int64  \n",
      " 4   dog_stage         303 non-null    object \n",
      " 5   text              1969 non-null   object \n",
      " 6   c_name            1381 non-null   object \n",
      " 7   rating_numerator  1969 non-null   float64\n",
      " 8   img_num           1969 non-null   int64  \n",
      " 9   breed             1969 non-null   object \n",
      " 10  confidence        1969 non-null   float64\n",
      " 11  is_dog            1969 non-null   bool   \n",
      "dtypes: bool(1), float64(2), int64(4), object(5)\n",
      "memory usage: 171.3+ KB\n"
     ]
    }
   ],
   "source": [
    "analysis.info()"
   ]
  },
  {
   "cell_type": "markdown",
   "metadata": {},
   "source": [
    "<a id='analysis_activity'></a>\n",
    "### 6.1 Monthly Twitter Account Activity\n",
    "#### 6.1.1 Data Preparation\n",
    "The aim of this analysis step is to get an insight into the`WeRateDogs` account activity and interactions, in terms of retweets and fovarites, on twitter. the data is separated into months of the year and the number of tweets, re-tweets & fovarites are counted. Then, the number of retweets & favorites are normalized by dividing them by the number of tweets on each month to present a metric on how good the `WeRateDogs` account is keeping its engagement on twitter"
   ]
  },
  {
   "cell_type": "code",
   "execution_count": 160,
   "metadata": {},
   "outputs": [
    {
     "data": {
      "text/html": [
       "<div>\n",
       "<style scoped>\n",
       "    .dataframe tbody tr th:only-of-type {\n",
       "        vertical-align: middle;\n",
       "    }\n",
       "\n",
       "    .dataframe tbody tr th {\n",
       "        vertical-align: top;\n",
       "    }\n",
       "\n",
       "    .dataframe thead th {\n",
       "        text-align: right;\n",
       "    }\n",
       "</style>\n",
       "<table border=\"1\" class=\"dataframe\">\n",
       "  <thead>\n",
       "    <tr style=\"text-align: right;\">\n",
       "      <th></th>\n",
       "      <th>month_year</th>\n",
       "      <th>retweet_count</th>\n",
       "      <th>favorite_count</th>\n",
       "      <th>tweet_count</th>\n",
       "      <th>retweet_tweet</th>\n",
       "      <th>favorite_tweet</th>\n",
       "    </tr>\n",
       "  </thead>\n",
       "  <tbody>\n",
       "    <tr>\n",
       "      <th>0</th>\n",
       "      <td>2015-11</td>\n",
       "      <td>155454</td>\n",
       "      <td>357822</td>\n",
       "      <td>294</td>\n",
       "      <td>528</td>\n",
       "      <td>1217</td>\n",
       "    </tr>\n",
       "    <tr>\n",
       "      <th>1</th>\n",
       "      <td>2015-12</td>\n",
       "      <td>546120</td>\n",
       "      <td>1266631</td>\n",
       "      <td>360</td>\n",
       "      <td>1517</td>\n",
       "      <td>3518</td>\n",
       "    </tr>\n",
       "    <tr>\n",
       "      <th>2</th>\n",
       "      <td>2016-01</td>\n",
       "      <td>252256</td>\n",
       "      <td>662452</td>\n",
       "      <td>166</td>\n",
       "      <td>1519</td>\n",
       "      <td>3990</td>\n",
       "    </tr>\n",
       "    <tr>\n",
       "      <th>3</th>\n",
       "      <td>2016-02</td>\n",
       "      <td>173784</td>\n",
       "      <td>465281</td>\n",
       "      <td>108</td>\n",
       "      <td>1609</td>\n",
       "      <td>4308</td>\n",
       "    </tr>\n",
       "    <tr>\n",
       "      <th>4</th>\n",
       "      <td>2016-03</td>\n",
       "      <td>194789</td>\n",
       "      <td>547351</td>\n",
       "      <td>118</td>\n",
       "      <td>1650</td>\n",
       "      <td>4638</td>\n",
       "    </tr>\n",
       "    <tr>\n",
       "      <th>5</th>\n",
       "      <td>2016-04</td>\n",
       "      <td>87113</td>\n",
       "      <td>254008</td>\n",
       "      <td>54</td>\n",
       "      <td>1613</td>\n",
       "      <td>4703</td>\n",
       "    </tr>\n",
       "    <tr>\n",
       "      <th>6</th>\n",
       "      <td>2016-05</td>\n",
       "      <td>122265</td>\n",
       "      <td>341662</td>\n",
       "      <td>56</td>\n",
       "      <td>2183</td>\n",
       "      <td>6101</td>\n",
       "    </tr>\n",
       "    <tr>\n",
       "      <th>7</th>\n",
       "      <td>2016-06</td>\n",
       "      <td>326814</td>\n",
       "      <td>752128</td>\n",
       "      <td>79</td>\n",
       "      <td>4136</td>\n",
       "      <td>9520</td>\n",
       "    </tr>\n",
       "    <tr>\n",
       "      <th>8</th>\n",
       "      <td>2016-07</td>\n",
       "      <td>218464</td>\n",
       "      <td>614307</td>\n",
       "      <td>88</td>\n",
       "      <td>2482</td>\n",
       "      <td>6980</td>\n",
       "    </tr>\n",
       "    <tr>\n",
       "      <th>9</th>\n",
       "      <td>2016-08</td>\n",
       "      <td>216640</td>\n",
       "      <td>608139</td>\n",
       "      <td>59</td>\n",
       "      <td>3671</td>\n",
       "      <td>10307</td>\n",
       "    </tr>\n",
       "    <tr>\n",
       "      <th>10</th>\n",
       "      <td>2016-09</td>\n",
       "      <td>232299</td>\n",
       "      <td>720435</td>\n",
       "      <td>63</td>\n",
       "      <td>3687</td>\n",
       "      <td>11435</td>\n",
       "    </tr>\n",
       "    <tr>\n",
       "      <th>11</th>\n",
       "      <td>2016-10</td>\n",
       "      <td>277828</td>\n",
       "      <td>864121</td>\n",
       "      <td>65</td>\n",
       "      <td>4274</td>\n",
       "      <td>13294</td>\n",
       "    </tr>\n",
       "    <tr>\n",
       "      <th>12</th>\n",
       "      <td>2016-11</td>\n",
       "      <td>255994</td>\n",
       "      <td>774606</td>\n",
       "      <td>52</td>\n",
       "      <td>4922</td>\n",
       "      <td>14896</td>\n",
       "    </tr>\n",
       "    <tr>\n",
       "      <th>13</th>\n",
       "      <td>2016-12</td>\n",
       "      <td>289964</td>\n",
       "      <td>869617</td>\n",
       "      <td>53</td>\n",
       "      <td>5471</td>\n",
       "      <td>16407</td>\n",
       "    </tr>\n",
       "    <tr>\n",
       "      <th>14</th>\n",
       "      <td>2017-01</td>\n",
       "      <td>425276</td>\n",
       "      <td>1303046</td>\n",
       "      <td>66</td>\n",
       "      <td>6443</td>\n",
       "      <td>19743</td>\n",
       "    </tr>\n",
       "    <tr>\n",
       "      <th>15</th>\n",
       "      <td>2017-02</td>\n",
       "      <td>284034</td>\n",
       "      <td>1199185</td>\n",
       "      <td>64</td>\n",
       "      <td>4438</td>\n",
       "      <td>18737</td>\n",
       "    </tr>\n",
       "    <tr>\n",
       "      <th>16</th>\n",
       "      <td>2017-03</td>\n",
       "      <td>229652</td>\n",
       "      <td>966950</td>\n",
       "      <td>47</td>\n",
       "      <td>4886</td>\n",
       "      <td>20573</td>\n",
       "    </tr>\n",
       "    <tr>\n",
       "      <th>17</th>\n",
       "      <td>2017-04</td>\n",
       "      <td>233771</td>\n",
       "      <td>924292</td>\n",
       "      <td>40</td>\n",
       "      <td>5844</td>\n",
       "      <td>23107</td>\n",
       "    </tr>\n",
       "    <tr>\n",
       "      <th>18</th>\n",
       "      <td>2017-05</td>\n",
       "      <td>317941</td>\n",
       "      <td>1219645</td>\n",
       "      <td>42</td>\n",
       "      <td>7570</td>\n",
       "      <td>29039</td>\n",
       "    </tr>\n",
       "    <tr>\n",
       "      <th>19</th>\n",
       "      <td>2017-06</td>\n",
       "      <td>289788</td>\n",
       "      <td>1281551</td>\n",
       "      <td>44</td>\n",
       "      <td>6586</td>\n",
       "      <td>29126</td>\n",
       "    </tr>\n",
       "    <tr>\n",
       "      <th>20</th>\n",
       "      <td>2017-07</td>\n",
       "      <td>336558</td>\n",
       "      <td>1558258</td>\n",
       "      <td>49</td>\n",
       "      <td>6868</td>\n",
       "      <td>31801</td>\n",
       "    </tr>\n",
       "    <tr>\n",
       "      <th>21</th>\n",
       "      <td>2017-08</td>\n",
       "      <td>15367</td>\n",
       "      <td>73286</td>\n",
       "      <td>2</td>\n",
       "      <td>7683</td>\n",
       "      <td>36643</td>\n",
       "    </tr>\n",
       "  </tbody>\n",
       "</table>\n",
       "</div>"
      ],
      "text/plain": [
       "   month_year  retweet_count  favorite_count  tweet_count  retweet_tweet  \\\n",
       "0   2015-11    155454         357822          294          528             \n",
       "1   2015-12    546120         1266631         360          1517            \n",
       "2   2016-01    252256         662452          166          1519            \n",
       "3   2016-02    173784         465281          108          1609            \n",
       "4   2016-03    194789         547351          118          1650            \n",
       "5   2016-04    87113          254008          54           1613            \n",
       "6   2016-05    122265         341662          56           2183            \n",
       "7   2016-06    326814         752128          79           4136            \n",
       "8   2016-07    218464         614307          88           2482            \n",
       "9   2016-08    216640         608139          59           3671            \n",
       "10  2016-09    232299         720435          63           3687            \n",
       "11  2016-10    277828         864121          65           4274            \n",
       "12  2016-11    255994         774606          52           4922            \n",
       "13  2016-12    289964         869617          53           5471            \n",
       "14  2017-01    425276         1303046         66           6443            \n",
       "15  2017-02    284034         1199185         64           4438            \n",
       "16  2017-03    229652         966950          47           4886            \n",
       "17  2017-04    233771         924292          40           5844            \n",
       "18  2017-05    317941         1219645         42           7570            \n",
       "19  2017-06    289788         1281551         44           6586            \n",
       "20  2017-07    336558         1558258         49           6868            \n",
       "21  2017-08    15367          73286           2            7683            \n",
       "\n",
       "    favorite_tweet  \n",
       "0   1217            \n",
       "1   3518            \n",
       "2   3990            \n",
       "3   4308            \n",
       "4   4638            \n",
       "5   4703            \n",
       "6   6101            \n",
       "7   9520            \n",
       "8   6980            \n",
       "9   10307           \n",
       "10  11435           \n",
       "11  13294           \n",
       "12  14896           \n",
       "13  16407           \n",
       "14  19743           \n",
       "15  18737           \n",
       "16  20573           \n",
       "17  23107           \n",
       "18  29039           \n",
       "19  29126           \n",
       "20  31801           \n",
       "21  36643           "
      ]
     },
     "execution_count": 160,
     "metadata": {},
     "output_type": "execute_result"
    }
   ],
   "source": [
    "analysis.timestamp = pd.to_datetime(analysis.timestamp)\n",
    "analysis['month_year']=analysis.timestamp.dt.to_period('M')\n",
    "df1  = analysis.groupby('month_year',as_index=False)['retweet_count','favorite_count'].sum()\n",
    "df2 = analysis.groupby('month_year',as_index=False)['tweet_id'].count()\n",
    "df = pd.merge(df1,df2,how='inner',on='month_year')\n",
    "df.rename(columns={'tweet_id':'tweet_count'},inplace=True)\n",
    "df['retweet_tweet']=df['retweet_count']/df['tweet_count']\n",
    "df['retweet_tweet']=df['retweet_tweet'].astype('int')\n",
    "df['favorite_tweet']=df['favorite_count']/df['tweet_count']\n",
    "df['favorite_tweet']=df['favorite_tweet'].astype('int')\n",
    "df"
   ]
  },
  {
   "cell_type": "markdown",
   "metadata": {},
   "source": [
    "#### 6.1.1 Visualization\n",
    "Two visuals are created the first one is two plot the count of retweets and favorites in each month. The plot shows that the most active month was on December, 2015. The interaction on this account shows an increasing trend over months"
   ]
  },
  {
   "cell_type": "code",
   "execution_count": 161,
   "metadata": {},
   "outputs": [
    {
     "data": {
      "image/png": "[encoded data removed]",
      "text/plain": [
       "<Figure size 1008x576 with 1 Axes>"
      ]
     },
     "metadata": {},
     "output_type": "display_data"
    }
   ],
   "source": [
    "plt.style.use('seaborn')\n",
    "rcParams['figure.figsize']=14,8\n",
    "plt.plot_date('month_year', 'retweet_count',data=df,linestyle='solid', linewidth=1)\n",
    "plt.plot_date('month_year', 'favorite_count',data=df,linestyle='solid', linewidth=1)\n",
    "plt.xticks(df.month_year)\n",
    "plt.legend()\n",
    "plt.gcf().autofmt_xdate()\n",
    "date_format=mpl_dates.DateFormatter('%b-%Y')\n",
    "plt.gca().xaxis.set_major_formatter(date_format)\n",
    "plt.xlabel('Month')\n",
    "plt.title('Monthly Account Interaction Activity');"
   ]
  },
  {
   "cell_type": "markdown",
   "metadata": {},
   "source": [
    "The second visual is used to check the account engagement by counting the number of retweets and favorites per tweet per month alongside with number of tweets per month to find the relation between the account activity and its reach. The results shows that an increasing trend of account engagement with nearly constant number of tweets per month."
   ]
  },
  {
   "cell_type": "code",
   "execution_count": 162,
   "metadata": {},
   "outputs": [
    {
     "data": {
      "image/png": "[encoded data removed]",
      "text/plain": [
       "<Figure size 1008x576 with 1 Axes>"
      ]
     },
     "metadata": {},
     "output_type": "display_data"
    }
   ],
   "source": [
    "rcParams['figure.figsize']=14,8\n",
    "plt.plot_date('month_year', 'retweet_tweet',data=df,linestyle='solid', linewidth=1)\n",
    "plt.plot_date('month_year', 'favorite_tweet',data=df,linestyle='solid', linewidth=1)\n",
    "plt.plot_date('month_year', 'tweet_count',data=df,linestyle='solid', linewidth=1)\n",
    "plt.xticks(df.month_year)\n",
    "plt.legend()\n",
    "plt.gcf().autofmt_xdate()\n",
    "date_format=mpl_dates.DateFormatter('%b-%Y')\n",
    "plt.gca().xaxis.set_major_formatter(date_format)\n",
    "plt.xlabel('Month')\n",
    "plt.title('Monthly Account Reach');"
   ]
  },
  {
   "cell_type": "markdown",
   "metadata": {},
   "source": [
    "<a id='analysis_image'></a>\n",
    "### 6.2 Number of Images per Tweet\n",
    "The aim of this analysis is two inspect the relation between the number of image(s) in each tweet and the `WeRateDogs` rating. Also, inspect this effect on the engagement of the tweets"
   ]
  },
  {
   "cell_type": "code",
   "execution_count": 163,
   "metadata": {},
   "outputs": [
    {
     "data": {
      "text/html": [
       "<div>\n",
       "<style scoped>\n",
       "    .dataframe tbody tr th:only-of-type {\n",
       "        vertical-align: middle;\n",
       "    }\n",
       "\n",
       "    .dataframe tbody tr th {\n",
       "        vertical-align: top;\n",
       "    }\n",
       "\n",
       "    .dataframe thead th {\n",
       "        text-align: right;\n",
       "    }\n",
       "</style>\n",
       "<table border=\"1\" class=\"dataframe\">\n",
       "  <thead>\n",
       "    <tr style=\"text-align: right;\">\n",
       "      <th></th>\n",
       "      <th>img_num</th>\n",
       "      <th>retweet_count</th>\n",
       "      <th>favorite_count</th>\n",
       "      <th>rating_numerator</th>\n",
       "    </tr>\n",
       "  </thead>\n",
       "  <tbody>\n",
       "    <tr>\n",
       "      <th>0</th>\n",
       "      <td>1</td>\n",
       "      <td>2575.252663</td>\n",
       "      <td>8238.042604</td>\n",
       "      <td>11.426497</td>\n",
       "    </tr>\n",
       "    <tr>\n",
       "      <th>1</th>\n",
       "      <td>2</td>\n",
       "      <td>3895.315789</td>\n",
       "      <td>12974.315789</td>\n",
       "      <td>11.363158</td>\n",
       "    </tr>\n",
       "    <tr>\n",
       "      <th>2</th>\n",
       "      <td>3</td>\n",
       "      <td>4087.423729</td>\n",
       "      <td>12654.186441</td>\n",
       "      <td>11.728814</td>\n",
       "    </tr>\n",
       "    <tr>\n",
       "      <th>3</th>\n",
       "      <td>4</td>\n",
       "      <td>4957.533333</td>\n",
       "      <td>16358.800000</td>\n",
       "      <td>12.400000</td>\n",
       "    </tr>\n",
       "  </tbody>\n",
       "</table>\n",
       "</div>"
      ],
      "text/plain": [
       "   img_num  retweet_count  favorite_count  rating_numerator\n",
       "0  1        2575.252663    8238.042604     11.426497       \n",
       "1  2        3895.315789    12974.315789    11.363158       \n",
       "2  3        4087.423729    12654.186441    11.728814       \n",
       "3  4        4957.533333    16358.800000    12.400000       "
      ]
     },
     "execution_count": 163,
     "metadata": {},
     "output_type": "execute_result"
    }
   ],
   "source": [
    "df_img = analysis.groupby('img_num',as_index=False)['retweet_count','favorite_count','rating_numerator'].mean()\n",
    "df_img"
   ]
  },
  {
   "cell_type": "markdown",
   "metadata": {},
   "source": [
    "It is shown here that increasing the number of image up to three doesn't correlate with high dog rating. Four image tweets usually has higher rating. Meanwhile, increasing number of image has significant effect on tweets reach as shown in the below visualization"
   ]
  },
  {
   "cell_type": "code",
   "execution_count": 164,
   "metadata": {},
   "outputs": [
    {
     "data": {
      "image/png": "[encoded data removed]",
      "text/plain": [
       "<Figure size 1008x576 with 1 Axes>"
      ]
     },
     "metadata": {},
     "output_type": "display_data"
    }
   ],
   "source": [
    "rcParams['figure.figsize']=14,8\n",
    "w=0.3\n",
    "bar1=np.arange(df_img.shape[0])\n",
    "bar2 = bar1+w\n",
    "plt.bar(bar1,df_img.retweet_count,w,label='retweet_count')\n",
    "plt.bar(bar2,df_img.favorite_count,w,label='favorite_count')\n",
    "plt.xticks((bar1+(w/2)),['One','Two','Three','Four'])\n",
    "plt.legend()\n",
    "plt.xlabel('Number of Images')\n",
    "plt.title('Number of Image Effect on Reach');"
   ]
  },
  {
   "cell_type": "markdown",
   "metadata": {},
   "source": [
    "<a id='analysis_stage'></a>\n",
    "### 6.3 Dog Stage\n",
    "The same previous analysis is repeated to consider dog stage effect. The tweets with dog stage identified is only considered. The effect on account rating, retweet & favorite was visually checked. The resultant is the `doggo_puppo` mixed tweets has the highest reach and rating."
   ]
  },
  {
   "cell_type": "code",
   "execution_count": 165,
   "metadata": {},
   "outputs": [
    {
     "data": {
      "text/html": [
       "<div>\n",
       "<style scoped>\n",
       "    .dataframe tbody tr th:only-of-type {\n",
       "        vertical-align: middle;\n",
       "    }\n",
       "\n",
       "    .dataframe tbody tr th {\n",
       "        vertical-align: top;\n",
       "    }\n",
       "\n",
       "    .dataframe thead th {\n",
       "        text-align: right;\n",
       "    }\n",
       "</style>\n",
       "<table border=\"1\" class=\"dataframe\">\n",
       "  <thead>\n",
       "    <tr style=\"text-align: right;\">\n",
       "      <th></th>\n",
       "      <th>dog_stage</th>\n",
       "      <th>retweet_count</th>\n",
       "      <th>favorite_count</th>\n",
       "      <th>rating_numerator</th>\n",
       "    </tr>\n",
       "  </thead>\n",
       "  <tbody>\n",
       "    <tr>\n",
       "      <th>0</th>\n",
       "      <td>doggo</td>\n",
       "      <td>7125.698413</td>\n",
       "      <td>19356.380952</td>\n",
       "      <td>11.888889</td>\n",
       "    </tr>\n",
       "    <tr>\n",
       "      <th>1</th>\n",
       "      <td>doggo_floofer</td>\n",
       "      <td>3433.000000</td>\n",
       "      <td>17169.000000</td>\n",
       "      <td>11.000000</td>\n",
       "    </tr>\n",
       "    <tr>\n",
       "      <th>2</th>\n",
       "      <td>doggo_pupper</td>\n",
       "      <td>4397.250000</td>\n",
       "      <td>13219.875000</td>\n",
       "      <td>11.000000</td>\n",
       "    </tr>\n",
       "    <tr>\n",
       "      <th>3</th>\n",
       "      <td>doggo_puppo</td>\n",
       "      <td>19196.000000</td>\n",
       "      <td>47844.000000</td>\n",
       "      <td>13.000000</td>\n",
       "    </tr>\n",
       "    <tr>\n",
       "      <th>4</th>\n",
       "      <td>floofer</td>\n",
       "      <td>4968.714286</td>\n",
       "      <td>13206.000000</td>\n",
       "      <td>12.000000</td>\n",
       "    </tr>\n",
       "    <tr>\n",
       "      <th>5</th>\n",
       "      <td>pupper</td>\n",
       "      <td>2382.502488</td>\n",
       "      <td>7250.527363</td>\n",
       "      <td>10.638159</td>\n",
       "    </tr>\n",
       "    <tr>\n",
       "      <th>6</th>\n",
       "      <td>puppo</td>\n",
       "      <td>6473.954545</td>\n",
       "      <td>21582.090909</td>\n",
       "      <td>12.000000</td>\n",
       "    </tr>\n",
       "  </tbody>\n",
       "</table>\n",
       "</div>"
      ],
      "text/plain": [
       "       dog_stage  retweet_count  favorite_count  rating_numerator\n",
       "0  doggo          7125.698413    19356.380952    11.888889       \n",
       "1  doggo_floofer  3433.000000    17169.000000    11.000000       \n",
       "2  doggo_pupper   4397.250000    13219.875000    11.000000       \n",
       "3  doggo_puppo    19196.000000   47844.000000    13.000000       \n",
       "4  floofer        4968.714286    13206.000000    12.000000       \n",
       "5  pupper         2382.502488    7250.527363     10.638159       \n",
       "6  puppo          6473.954545    21582.090909    12.000000       "
      ]
     },
     "execution_count": 165,
     "metadata": {},
     "output_type": "execute_result"
    }
   ],
   "source": [
    "analysis_stage=analysis[analysis.dog_stage.notnull()]\n",
    "df_stage = analysis_stage.groupby('dog_stage',as_index=False)['retweet_count','favorite_count','rating_numerator'].mean()\n",
    "df_stage"
   ]
  },
  {
   "cell_type": "code",
   "execution_count": 166,
   "metadata": {},
   "outputs": [
    {
     "data": {
      "image/png": "[encoded data removed]",
      "text/plain": [
       "<Figure size 1008x576 with 1 Axes>"
      ]
     },
     "metadata": {},
     "output_type": "display_data"
    }
   ],
   "source": [
    "rcParams['figure.figsize']=14,8\n",
    "w=0.3\n",
    "bar1=np.arange(df_stage.shape[0])\n",
    "bar2 = bar1+w\n",
    "plt.bar(bar1,df_stage.retweet_count,w,label='retweet_count')\n",
    "plt.bar(bar2,df_stage.favorite_count,w,label='favorite_count')\n",
    "plt.xticks((bar1+(w/2)),df_stage.dog_stage)\n",
    "plt.legend()\n",
    "plt.xlabel('Dog Stage')\n",
    "plt.title('Dog Stage Effect on Reach');"
   ]
  },
  {
   "cell_type": "code",
   "execution_count": 167,
   "metadata": {},
   "outputs": [
    {
     "data": {
      "image/png": "[encoded data removed]",
      "text/plain": [
       "<Figure size 1008x576 with 1 Axes>"
      ]
     },
     "metadata": {},
     "output_type": "display_data"
    }
   ],
   "source": [
    "rcParams['figure.figsize']=14,8\n",
    "w=0.3\n",
    "bar1=np.arange(df_stage.shape[0])\n",
    "plt.bar(bar1,df_stage.rating_numerator,w,label='rating')\n",
    "plt.xticks(bar1,df_stage.dog_stage)\n",
    "plt.legend()\n",
    "plt.xlabel('Dog Stage')\n",
    "plt.title('Dog Stage & Rating');"
   ]
  },
  {
   "cell_type": "markdown",
   "metadata": {},
   "source": [
    "<a id='analysis_breed'></a>\n",
    "### 6.4 Dog Breed\n",
    "The same previous steps is repeated to check effect of breed of the dog. The tweets with most confident image prediction as a dog were only considered"
   ]
  },
  {
   "cell_type": "code",
   "execution_count": 168,
   "metadata": {},
   "outputs": [
    {
     "name": "stdout",
     "output_type": "stream",
     "text": [
      "<class 'pandas.core.frame.DataFrame'>\n",
      "Int64Index: 1462 entries, 1 to 1968\n",
      "Data columns (total 13 columns):\n",
      " #   Column            Non-Null Count  Dtype         \n",
      "---  ------            --------------  -----         \n",
      " 0   tweet_id          1462 non-null   int64         \n",
      " 1   timestamp         1462 non-null   datetime64[ns]\n",
      " 2   retweet_count     1462 non-null   int64         \n",
      " 3   favorite_count    1462 non-null   int64         \n",
      " 4   dog_stage         227 non-null    object        \n",
      " 5   text              1462 non-null   object        \n",
      " 6   c_name            1067 non-null   object        \n",
      " 7   rating_numerator  1462 non-null   float64       \n",
      " 8   img_num           1462 non-null   int64         \n",
      " 9   breed             1462 non-null   object        \n",
      " 10  confidence        1462 non-null   float64       \n",
      " 11  is_dog            1462 non-null   bool          \n",
      " 12  month_year        1462 non-null   period[M]     \n",
      "dtypes: bool(1), datetime64[ns](1), float64(2), int64(4), object(4), period[M](1)\n",
      "memory usage: 149.9+ KB\n"
     ]
    }
   ],
   "source": [
    "analysis_breed = analysis[analysis.is_dog==True]\n",
    "analysis_breed.info()"
   ]
  },
  {
   "cell_type": "code",
   "execution_count": 169,
   "metadata": {},
   "outputs": [
    {
     "data": {
      "text/html": [
       "<div>\n",
       "<style scoped>\n",
       "    .dataframe tbody tr th:only-of-type {\n",
       "        vertical-align: middle;\n",
       "    }\n",
       "\n",
       "    .dataframe tbody tr th {\n",
       "        vertical-align: top;\n",
       "    }\n",
       "\n",
       "    .dataframe thead th {\n",
       "        text-align: right;\n",
       "    }\n",
       "</style>\n",
       "<table border=\"1\" class=\"dataframe\">\n",
       "  <thead>\n",
       "    <tr style=\"text-align: right;\">\n",
       "      <th></th>\n",
       "      <th>breed</th>\n",
       "      <th>retweet_count</th>\n",
       "      <th>favorite_count</th>\n",
       "      <th>rating_numerator</th>\n",
       "    </tr>\n",
       "  </thead>\n",
       "  <tbody>\n",
       "    <tr>\n",
       "      <th>0</th>\n",
       "      <td>afghan_hound</td>\n",
       "      <td>5976.000000</td>\n",
       "      <td>17326.666667</td>\n",
       "      <td>9.666667</td>\n",
       "    </tr>\n",
       "    <tr>\n",
       "      <th>1</th>\n",
       "      <td>airedale</td>\n",
       "      <td>1393.750000</td>\n",
       "      <td>5280.833333</td>\n",
       "      <td>9.833333</td>\n",
       "    </tr>\n",
       "    <tr>\n",
       "      <th>2</th>\n",
       "      <td>american_staffordshire_terrier</td>\n",
       "      <td>2204.923077</td>\n",
       "      <td>7559.538462</td>\n",
       "      <td>11.000000</td>\n",
       "    </tr>\n",
       "    <tr>\n",
       "      <th>3</th>\n",
       "      <td>appenzeller</td>\n",
       "      <td>1458.000000</td>\n",
       "      <td>7317.500000</td>\n",
       "      <td>11.000000</td>\n",
       "    </tr>\n",
       "    <tr>\n",
       "      <th>4</th>\n",
       "      <td>australian_terrier</td>\n",
       "      <td>3078.500000</td>\n",
       "      <td>11127.500000</td>\n",
       "      <td>11.500000</td>\n",
       "    </tr>\n",
       "    <tr>\n",
       "      <th>...</th>\n",
       "      <td>...</td>\n",
       "      <td>...</td>\n",
       "      <td>...</td>\n",
       "      <td>...</td>\n",
       "    </tr>\n",
       "    <tr>\n",
       "      <th>106</th>\n",
       "      <td>welsh_springer_spaniel</td>\n",
       "      <td>517.000000</td>\n",
       "      <td>2699.000000</td>\n",
       "      <td>9.000000</td>\n",
       "    </tr>\n",
       "    <tr>\n",
       "      <th>107</th>\n",
       "      <td>west_highland_white_terrier</td>\n",
       "      <td>1554.214286</td>\n",
       "      <td>6506.000000</td>\n",
       "      <td>10.500000</td>\n",
       "    </tr>\n",
       "    <tr>\n",
       "      <th>108</th>\n",
       "      <td>whippet</td>\n",
       "      <td>2298.000000</td>\n",
       "      <td>8075.111111</td>\n",
       "      <td>10.444444</td>\n",
       "    </tr>\n",
       "    <tr>\n",
       "      <th>109</th>\n",
       "      <td>wire-haired_fox_terrier</td>\n",
       "      <td>2923.500000</td>\n",
       "      <td>8538.500000</td>\n",
       "      <td>11.500000</td>\n",
       "    </tr>\n",
       "    <tr>\n",
       "      <th>110</th>\n",
       "      <td>yorkshire_terrier</td>\n",
       "      <td>1472.875000</td>\n",
       "      <td>5135.875000</td>\n",
       "      <td>10.500000</td>\n",
       "    </tr>\n",
       "  </tbody>\n",
       "</table>\n",
       "<p>111 rows × 4 columns</p>\n",
       "</div>"
      ],
      "text/plain": [
       "                              breed  retweet_count  favorite_count  \\\n",
       "0    afghan_hound                    5976.000000    17326.666667     \n",
       "1    airedale                        1393.750000    5280.833333      \n",
       "2    american_staffordshire_terrier  2204.923077    7559.538462      \n",
       "3    appenzeller                     1458.000000    7317.500000      \n",
       "4    australian_terrier              3078.500000    11127.500000     \n",
       "..                  ...                      ...             ...     \n",
       "106  welsh_springer_spaniel          517.000000     2699.000000      \n",
       "107  west_highland_white_terrier     1554.214286    6506.000000      \n",
       "108  whippet                         2298.000000    8075.111111      \n",
       "109  wire-haired_fox_terrier         2923.500000    8538.500000      \n",
       "110  yorkshire_terrier               1472.875000    5135.875000      \n",
       "\n",
       "     rating_numerator  \n",
       "0    9.666667          \n",
       "1    9.833333          \n",
       "2    11.000000         \n",
       "3    11.000000         \n",
       "4    11.500000         \n",
       "..         ...         \n",
       "106  9.000000          \n",
       "107  10.500000         \n",
       "108  10.444444         \n",
       "109  11.500000         \n",
       "110  10.500000         \n",
       "\n",
       "[111 rows x 4 columns]"
      ]
     },
     "execution_count": 169,
     "metadata": {},
     "output_type": "execute_result"
    }
   ],
   "source": [
    "df_breed= analysis_breed.groupby('breed',as_index=False)['retweet_count','favorite_count','rating_numerator'].mean()\n",
    "df_breed"
   ]
  },
  {
   "cell_type": "markdown",
   "metadata": {},
   "source": [
    "Visualizing that will not be easy for the increased number of categories. Thus, only the breed that has the maximum reach and rating will be checked."
   ]
  },
  {
   "cell_type": "code",
   "execution_count": 170,
   "metadata": {},
   "outputs": [
    {
     "name": "stdout",
     "output_type": "stream",
     "text": [
      "['standard_poodle']\n"
     ]
    }
   ],
   "source": [
    "best_breed_retweet = df_breed[df_breed.retweet_count==df_breed.retweet_count.max()]\n",
    "print(best_breed_retweet['breed'].values)"
   ]
  },
  {
   "cell_type": "code",
   "execution_count": 171,
   "metadata": {},
   "outputs": [
    {
     "name": "stdout",
     "output_type": "stream",
     "text": [
      "['saluki']\n"
     ]
    }
   ],
   "source": [
    "best_breed_favorite= df_breed[df_breed.favorite_count==df_breed.favorite_count.max()]\n",
    "print(best_breed_favorite['breed'].values)"
   ]
  },
  {
   "cell_type": "code",
   "execution_count": 172,
   "metadata": {},
   "outputs": [
    {
     "name": "stdout",
     "output_type": "stream",
     "text": [
      "['saluki']\n"
     ]
    }
   ],
   "source": [
    "best_breed_rating= df_breed[df_breed.rating_numerator==df_breed.rating_numerator.max()]\n",
    "print(best_breed_rating['breed'].values)"
   ]
  },
  {
   "cell_type": "markdown",
   "metadata": {},
   "source": [
    "<a id='conclusion'></a>\n",
    "## 7 Conclusions\n",
    "The performed analysis allowed the following insights to be identified.\n",
    "- December, 2015 is the month with the highest number of total retweets per month. This is the second month after the account was created\n",
    "- Since then, the account shows nearly a stable trend of number of retweets. But, the monthly count of the favorites is showing an increasing trend since June, 2016.\n",
    "- The trend of the number of the count of monthly retweets and favorites per tweet is showing an increasing trend. This suggests that the account owner(s) managed to keep and increase their tweets engagement on the platform\n",
    "- Increasing the number of image up to three doesn't correlate with high account dog rating. Four image tweets usually has higher rating. Meanwhile, increasing number of image has significant effect on tweets engagement, i.e. the number of retweets and favorites\n",
    "- `doggo_puppo` dogs has the highest account rating and tweets engagements\n",
    "- `standard_poodle` is the dog breed with the highest number of retweets\n",
    "- `saluki` is the dog breed with highest number of favorites and `WeRateDogs` account rating"
   ]
  }
 ],
 "metadata": {
  "kernelspec": {
   "display_name": "Python 3 (ipykernel)",
   "language": "python",
   "name": "python3"
  },
  "language_info": {
   "codemirror_mode": {
    "name": "ipython",
    "version": 3
   },
   "file_extension": ".py",
   "mimetype": "text/x-python",
   "name": "python",
   "nbconvert_exporter": "python",
   "pygments_lexer": "ipython3",
   "version": "3.8.11"
  }
 },
 "nbformat": 4,
 "nbformat_minor": 4
}
